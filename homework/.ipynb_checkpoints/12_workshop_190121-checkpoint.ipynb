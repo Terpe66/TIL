{
 "cells": [
  {
   "cell_type": "markdown",
   "metadata": {},
   "source": [
    "## 스마트폰, 태블릿 PC, 노트북의 가로 해상도가 다음과 같을 때, 4개의 아이템이 각각의 기기에서 아래와 같이 보이도록 Bootstrap Responsive Grid System을 이용하여 구현 하시오."
   ]
  },
  {
   "cell_type": "markdown",
   "metadata": {},
   "source": [
    "| 기기      | 가로 해상도 |\n",
    "| --------- | ----------- |\n",
    "| 스마트폰  | 480px       |\n",
    "| 태블릿 PC | 800px       |\n",
    "| 노트북    | 1920px      |"
   ]
  },
  {
   "cell_type": "markdown",
   "metadata": {},
   "source": [
    "```html\n",
    "<div class=\"row\">\n",
    "    <div class=\"col-12 col-md-6 col-xl-3\">1</div>\n",
    "    <div class=\"col-12 col-md-6 col-xl-3\">2</div>\n",
    "    <div class=\"col-12 col-md-6 col-xl-3\">3</div>\n",
    "    <div class=\"col-12 col-md-6 col-xl-3\">4</div>\n",
    "</div>            \n",
    "```"
   ]
  }
 ],
 "metadata": {
  "kernelspec": {
   "display_name": "Python 3",
   "language": "python",
   "name": "python3"
  },
  "language_info": {
   "codemirror_mode": {
    "name": "ipython",
    "version": 3
   },
   "file_extension": ".py",
   "mimetype": "text/x-python",
   "name": "python",
   "nbconvert_exporter": "python",
   "pygments_lexer": "ipython3",
   "version": "3.6.7"
  }
 },
 "nbformat": 4,
 "nbformat_minor": 2
}
