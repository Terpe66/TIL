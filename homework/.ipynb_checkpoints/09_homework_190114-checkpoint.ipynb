{
 "cells": [
  {
   "cell_type": "markdown",
   "metadata": {},
   "source": [
    "### 1. HTML 은 무엇의 약자인가? \n",
    "> (1) Hyperlinks and Text Markup Language\n",
    "\n",
    "> (2) HomeTool Markup Language\n",
    "\n",
    "> (3) HyperText Markup Language\n",
    "\n",
    "> (4) HyperTool Markup Language\n"
   ]
  },
  {
   "cell_type": "markdown",
   "metadata": {},
   "source": [
    "(3) HyperText Markup Language"
   ]
  },
  {
   "cell_type": "markdown",
   "metadata": {},
   "source": [
    "### 2. 다음 중 맞으면 T, 틀리면 F 를 기입 하시오.\n",
    "```html\n",
    "1) 웹표준을 만드는 곳은 Mozilla 재단이다. [     ]\n",
    "2) 표(table) 을만들 때에는 반드시 <th> 태그를 사용해야 한다. [     ]\n",
    "3) 제목(Heading) 태그는 제목 이외에는 사용하지 않는 것이 좋다. [     ]\n",
    "4) 인용문을 가리키는 태그는 <blockquote> 이다. [     ]\n",
    "```\n"
   ]
  },
  {
   "cell_type": "markdown",
   "metadata": {},
   "source": [
    "```\n",
    "1) F\n",
    "\n",
    "2) F * <thead>가 중요한 것 이후 <th>\n",
    "\n",
    "3) T\n",
    "\n",
    "4) T\n",
    "```    "
   ]
  },
  {
   "cell_type": "markdown",
   "metadata": {},
   "source": [
    "### 3. 보기 중 콘텐츠의 의미를 명확히 하기 위해 HTML5 에서 새롭게 추가된 시맨틱(semantic) 태그를 모두 선택 하시오. \n",
    "[ article, div, footer, nav, head, container ]\n"
   ]
  },
  {
   "cell_type": "markdown",
   "metadata": {},
   "source": [
    "```html\n",
    "<article>\n",
    "<footer>\n",
    "<nav>\n",
    "```"
   ]
  },
  {
   "cell_type": "markdown",
   "metadata": {},
   "source": [
    "### 4. 아래 이미지와 같은 로그인 화면을 생성하는 html 코드를 작성하시오.\n",
    "\n",
    "> ID : [입력 칸]\n",
    "\n",
    "> PWD : [입력 칸] [로그인]"
   ]
  },
  {
   "cell_type": "markdown",
   "metadata": {},
   "source": [
    "```html\n",
    "<form>\n",
    "    ID:\n",
    "    <input type=\"text\" name=\"user_ID\" value=\"User\">\n",
    "    <br>\n",
    "    PWD:\n",
    "    <input type=\"password\" name=\"user_PWD\" value=\"****\">\n",
    "    <input type=\"submit\" value=\"로그인\">\n",
    "</form>\n",
    "```"
   ]
  },
  {
   "cell_type": "markdown",
   "metadata": {},
   "source": [
    "<form>\n",
    "    ID:\n",
    "    <input type=\"text\" name=\"user_ID\" value=\"User\">\n",
    "    <br>\n",
    "    PWD:\n",
    "    <input type=\"password\" name=\"user_PWD\" value=\"****\">\n",
    "    <input type=\"submit\" value=\"로그인\">\n",
    "</form>"
   ]
  }
 ],
 "metadata": {
  "kernelspec": {
   "display_name": "Python 3",
   "language": "python",
   "name": "python3"
  },
  "language_info": {
   "codemirror_mode": {
    "name": "ipython",
    "version": 3
   },
   "file_extension": ".py",
   "mimetype": "text/x-python",
   "name": "python",
   "nbconvert_exporter": "python",
   "pygments_lexer": "ipython3",
   "version": "3.6.7"
  }
 },
 "nbformat": 4,
 "nbformat_minor": 2
}
