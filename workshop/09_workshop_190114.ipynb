{
 "cells": [
  {
   "cell_type": "markdown",
   "metadata": {},
   "source": [
    "### 클릭하면 https://www.ssafy.com/ 로 이동하는 버튼을 만드시오"
   ]
  },
  {
   "cell_type": "markdown",
   "metadata": {},
   "source": [
    "```html\n",
    "<a href=\"https://www.ssafy.com/\" alt=\"출석체크\">\n",
    "```"
   ]
  },
  {
   "cell_type": "markdown",
   "metadata": {},
   "source": [
    "<a href=\"https://www.ssafy.com/\" alt=\"출석체크\"> 싸피 </a>"
   ]
  },
  {
   "cell_type": "markdown",
   "metadata": {},
   "source": [
    "### 다음 태그에서 잘못된 부분을 찾으시오."
   ]
  },
  {
   "cell_type": "markdown",
   "metadata": {},
   "source": [
    "```html\n",
    "<img href=\"https://www.google.com/\" alt=\"GOOGLE\">\n",
    "```"
   ]
  },
  {
   "cell_type": "markdown",
   "metadata": {},
   "source": [
    "```html\n",
    "img href => a href\n",
    "```"
   ]
  },
  {
   "cell_type": "markdown",
   "metadata": {},
   "source": [
    "### 당신은 현재 Resume.html 에서 작업중이다. “내 사진” 이라는 링크를 누르면 Image 폴더 안에 my_photo 를 띄워주는 a 태그 경로를 넣으시오.\n",
    "\n",
    "> TIL/SSAFY/Image/my_photo.jpg\n",
    "\n",
    "> TIL/SSAFY/Budget/\n",
    "\n",
    "> TIL/SSAFY/User/Resume.html"
   ]
  },
  {
   "cell_type": "markdown",
   "metadata": {},
   "source": [
    "```html\n",
    "<a href=\"../Image/my_photo.jpg\">내 사진</a>\n",
    "```"
   ]
  },
  {
   "cell_type": "markdown",
   "metadata": {},
   "source": [
    "<a href=\"../Image/my_photo.jpg\">내 사진</a>"
   ]
  }
 ],
 "metadata": {
  "kernelspec": {
   "display_name": "Python 3",
   "language": "python",
   "name": "python3"
  },
  "language_info": {
   "codemirror_mode": {
    "name": "ipython",
    "version": 3
   },
   "file_extension": ".py",
   "mimetype": "text/x-python",
   "name": "python",
   "nbconvert_exporter": "python",
   "pygments_lexer": "ipython3",
   "version": "3.6.7"
  }
 },
 "nbformat": 4,
 "nbformat_minor": 2
}
