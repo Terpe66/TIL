{
 "cells": [
  {
   "cell_type": "markdown",
   "metadata": {},
   "source": [
    "### selector를 활용한 DOM 탐색 실습\n",
    "\n",
    "```CSS\n",
    "<style>\n",
    "  #ssafy > p:nth-child(2) {\n",
    "    color: red;\n",
    "  }\n",
    "</style>\n",
    "<div id=\"ssafy\">\n",
    "  <h2>어떤 게 선택될까?</h2>\n",
    "  <p>첫 번째 단락</p>\n",
    "  <p>두 번째 단락</p>\n",
    "  <p>세 번째 단락</p>\n",
    "  <p>네 번째 단락</p>\n",
    "</div>\n",
    "```\n",
    "\n",
    "> 생각하는 대로 선택되지 않을 것이다. 그렇다면 nth-of-type를 사용해보자\n",
    "\n",
    "```CSS\n",
    "#ssafy > p:nth-of-type(2){\n",
    "  color: blue;\n",
    "}\n",
    "```"
   ]
  },
  {
   "cell_type": "markdown",
   "metadata": {},
   "source": [
    "nth-child : 모든 자식의 순서에서 찾음\n",
    "\n",
    "nth-of-type: 해당하는 자식 태그 요소에서의 순서를 찾음\n",
    "\n",
    "<style>\n",
    "  #ssafy > p:nth-child(2) {\n",
    "    color: red;\n",
    "  }\n",
    "</style>\n",
    "<div id=\"ssafy\">\n",
    "  <h2>어떤 게 선택될까?</h2>\n",
    "  <p>첫 번째 단락</p>\n",
    "  <p>두 번째 단락</p>\n",
    "  <p>세 번째 단락</p>\n",
    "  <p>네 번째 단락</p>\n",
    "</div>"
   ]
  },
  {
   "cell_type": "markdown",
   "metadata": {},
   "source": [
    "<style>\n",
    "  #ssafy > p:nth-of-type(2){\n",
    "  color: blue;\n",
    "  }\n",
    "</style>\n",
    "<div id=\"ssafy\">\n",
    "  <h2>어떤 게 선택될까?</h2>\n",
    "  <p>첫 번째 단락</p>\n",
    "  <p>두 번째 단락</p>\n",
    "  <p>세 번째 단락</p>\n",
    "  <p>네 번째 단락</p>\n",
    "</div>"
   ]
  }
 ],
 "metadata": {
  "kernelspec": {
   "display_name": "Python 3",
   "language": "python",
   "name": "python3"
  },
  "language_info": {
   "codemirror_mode": {
    "name": "ipython",
    "version": 3
   },
   "file_extension": ".py",
   "mimetype": "text/x-python",
   "name": "python",
   "nbconvert_exporter": "python",
   "pygments_lexer": "ipython3",
   "version": "3.7.1"
  }
 },
 "nbformat": 4,
 "nbformat_minor": 2
}
