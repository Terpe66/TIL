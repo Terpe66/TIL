{
 "cells": [
  {
   "cell_type": "markdown",
   "metadata": {},
   "source": [
    "## 이분법(bisection method)\n",
    "### 양의 정수 x를 입력 받아 제곱근의 근사값의 결과를 반환하는 함수를 작성하세요. sqrt() 사용 금지\n"
   ]
  },
  {
   "cell_type": "code",
   "execution_count": null,
   "metadata": {},
   "outputs": [],
   "source": [
    "def bisection(n):\n",
    "\n",
    "    n = n ** 0.5\n",
    "    a = n - 1\n",
    "    b = n + 1\n",
    "    while round(a, 4) != round(b, 4):\n",
    "        a = (n + a) / 2\n",
    "        b = (n + b) / 2\n",
    "    \n",
    "    return f\"{int(n ** 2)}의 제곱근의 근사값은 {a} < {int(n)} < {b}입니다.\"\n",
    "        \n",
    "\n",
    "bisection(25)"
   ]
  },
  {
   "cell_type": "code",
   "execution_count": null,
   "metadata": {},
   "outputs": [],
   "source": [
    "def bisection1(n):\n",
    "    min_n = 1\n",
    "    max_n = n ** 2\n",
    "    count = 0\n",
    "    \n",
    "    while round(min_n, 5) != round(max_n, 5):\n",
    "        right = (min_n + max_n) / 2\n",
    "        if right ** 2 > n:\n",
    "            max_n = right\n",
    "            count += 1\n",
    "        else:\n",
    "            min_n = right\n",
    "            max_n = n ** 2\n",
    "            count += 1\n",
    "            \n",
    "    return f\"루트 {n}의 소수점 5자리 근사값 {round(min_n, 5)}을 {count}번의 이분법으로 찾아낼 수 있다!\"\n",
    "\n",
    "    \n",
    "bisection1(7)"
   ]
  },
  {
   "cell_type": "code",
   "execution_count": null,
   "metadata": {},
   "outputs": [],
   "source": [
    "def sangchu(n=0, rounds=0, small=1, big=0, count=0):\n",
    "    \n",
    "    if n == 0:\n",
    "        big = n = int(input(\"숫자를 입력하세요. : \"))\n",
    "        rounds = int(input(\"소수점 자리를 입력하세요. : \"))\n",
    "\n",
    "    while round(small, rounds) != round(big, rounds):\n",
    "        \n",
    "        if big ** 2 > n:\n",
    "            big = (big + small) / 2\n",
    "            count += 1\n",
    "            return sangchu(n, rounds, small, big, count)\n",
    "        \n",
    "        else:\n",
    "            count += 1\n",
    "            return sangchu(n, rounds, big, big+1, count)\n",
    "    \n",
    "    return f\"루트 {n}의 소수점 5자리 근사값 {round(small, rounds)}을 {count}번의 이분법으로 찾아낼 수 있다!\"\n",
    "        \n",
    "sangchu()"
   ]
  },
  {
   "cell_type": "code",
   "execution_count": null,
   "metadata": {},
   "outputs": [],
   "source": [
    "# 수학자\n",
    "def bisection2(num):\n",
    "    n = 1\n",
    "    count = 0\n",
    "    while True:\n",
    "        if n ** 2 < num < (n+1) ** 2:\n",
    "            low = n\n",
    "            high = n + 1\n",
    "            count += 1\n",
    "            break\n",
    "        else:\n",
    "            n += 1\n",
    "            count += 1\n",
    "    \n",
    "    \n",
    "    while True:\n",
    "        mid = (low + high) / 2\n",
    "        count += 1\n",
    "        if num > mid ** 2:\n",
    "            low = mid\n",
    "            \n",
    "        else:\n",
    "            high = mid\n",
    "            if round(low, 5) == round(high, 5):\n",
    "                return(f\"루트 {num}의 소수점 5자리 근사값 {round(low, 5)}을 {count}번의 이분법으로 찾아낼 수 있다!\")\n",
    "            \n",
    "bisection2(7)"
   ]
  },
  {
   "cell_type": "code",
   "execution_count": null,
   "metadata": {},
   "outputs": [],
   "source": [
    "def bisection_count():\n",
    "    n = 1\n",
    "    bisection_list = []\n",
    "    \n",
    "    while len(bisection_list) < 11:\n",
    "        if bisection1(n) < bisection2(n):\n",
    "            bisection_list.append(n)\n",
    "            \n",
    "    return bisection_list\n",
    "\n",
    "bisection_count()"
   ]
  },
  {
   "cell_type": "code",
   "execution_count": null,
   "metadata": {},
   "outputs": [],
   "source": [
    "# 선생님 답\n",
    "\n",
    "n = 2\n",
    "min_n = 1\n",
    "max_n = 2\n",
    "min_n ** 2 < n < max_n ** 2\n",
    "1 < n < 2\n",
    "\n",
    "guess = (min_n + max_n) / 2 # 1.5\n",
    "n > guess ** 2 # 해당 없음\n",
    "n < guess ** 2 # 2.25\n",
    "max_n = guess # 1.5\n",
    "\n",
    "min_n ** 2 < n < max_n ** 2\n",
    "1 < n < 2.25 \n",
    "guess = 1 + 1.5 / 2 # 1.25\n",
    "n > guess ** 2 # 1.5625\n",
    "n < guess ** 2 # 해당 없음\n",
    "\n",
    "min_n = guess # 1.5625\n",
    "\n",
    "...\n",
    "\n",
    "round(min_n, 4) == round(max_n, 4)"
   ]
  },
  {
   "cell_type": "code",
   "execution_count": null,
   "metadata": {},
   "outputs": [],
   "source": [
    "def my_sqrt(n):\n",
    "    minimum, maximum = 0, 1\n",
    "    \n",
    "    while 1:\n",
    "        if n == maximum ** 2:\n",
    "            return maximum\n",
    "        \n",
    "        elif minimum ** 2 < n < maximum ** 2:\n",
    "            guess = (minimum + maximum) / 2\n",
    "            \n",
    "            if round(minimum, 5) == (maximum, 5):\n",
    "                return round(guess, 5)\n",
    "            elif n < guess ** 2:\n",
    "                maximum = guess\n",
    "            else:\n",
    "                minimum = guess\n",
    "        else:\n",
    "            minimum += 1\n",
    "            maximum += 1\n",
    "\n",
    "            \n",
    "my_sqrt(99)"
   ]
  },
  {
   "cell_type": "code",
   "execution_count": 1,
   "metadata": {},
   "outputs": [
    {
     "ename": "UnboundLocalError",
     "evalue": "local variable 'minimum' referenced before assignment",
     "output_type": "error",
     "traceback": [
      "\u001b[1;31m---------------------------------------------------------------------------\u001b[0m",
      "\u001b[1;31mUnboundLocalError\u001b[0m                         Traceback (most recent call last)",
      "\u001b[1;32m<ipython-input-1-350137507924>\u001b[0m in \u001b[0;36m<module>\u001b[1;34m\u001b[0m\n\u001b[0;32m     17\u001b[0m         \u001b[1;32mreturn\u001b[0m \u001b[0mmy_sqrt_r\u001b[0m\u001b[1;33m(\u001b[0m\u001b[0mn\u001b[0m\u001b[1;33m,\u001b[0m \u001b[0mminimum\u001b[0m\u001b[1;33m,\u001b[0m \u001b[0mmaximum\u001b[0m\u001b[1;33m)\u001b[0m\u001b[1;33m\u001b[0m\u001b[1;33m\u001b[0m\u001b[0m\n\u001b[0;32m     18\u001b[0m \u001b[1;33m\u001b[0m\u001b[0m\n\u001b[1;32m---> 19\u001b[1;33m \u001b[0mmy_sqrt_r\u001b[0m\u001b[1;33m(\u001b[0m\u001b[1;36m10\u001b[0m\u001b[1;33m)\u001b[0m\u001b[1;33m\u001b[0m\u001b[1;33m\u001b[0m\u001b[0m\n\u001b[0m",
      "\u001b[1;32m<ipython-input-1-350137507924>\u001b[0m in \u001b[0;36mmy_sqrt_r\u001b[1;34m(n, mininum, maximum)\u001b[0m\n\u001b[0;32m      4\u001b[0m     \u001b[1;32mif\u001b[0m \u001b[0mn\u001b[0m \u001b[1;33m==\u001b[0m \u001b[0mmaximum\u001b[0m \u001b[1;33m**\u001b[0m \u001b[1;36m2\u001b[0m\u001b[1;33m:\u001b[0m\u001b[1;33m\u001b[0m\u001b[1;33m\u001b[0m\u001b[0m\n\u001b[0;32m      5\u001b[0m         \u001b[1;32mreturn\u001b[0m \u001b[0mmaximum\u001b[0m\u001b[1;33m\u001b[0m\u001b[1;33m\u001b[0m\u001b[0m\n\u001b[1;32m----> 6\u001b[1;33m     \u001b[1;32melif\u001b[0m \u001b[0mminimum\u001b[0m \u001b[1;33m**\u001b[0m \u001b[1;36m2\u001b[0m \u001b[1;33m<\u001b[0m \u001b[0mn\u001b[0m \u001b[1;33m<\u001b[0m \u001b[0mmaximum\u001b[0m \u001b[1;33m**\u001b[0m \u001b[1;36m2\u001b[0m\u001b[1;33m:\u001b[0m\u001b[1;33m\u001b[0m\u001b[1;33m\u001b[0m\u001b[0m\n\u001b[0m\u001b[0;32m      7\u001b[0m         \u001b[0mguess\u001b[0m \u001b[1;33m=\u001b[0m \u001b[1;33m(\u001b[0m\u001b[0mminimum\u001b[0m \u001b[1;33m+\u001b[0m \u001b[0mmaximum\u001b[0m\u001b[1;33m)\u001b[0m \u001b[1;33m/\u001b[0m \u001b[1;36m2\u001b[0m\u001b[1;33m\u001b[0m\u001b[1;33m\u001b[0m\u001b[0m\n\u001b[0;32m      8\u001b[0m         \u001b[1;32mif\u001b[0m \u001b[0mmath\u001b[0m\u001b[1;33m.\u001b[0m\u001b[0misclose\u001b[0m\u001b[1;33m(\u001b[0m\u001b[0mminimum\u001b[0m\u001b[1;33m,\u001b[0m \u001b[0mmaximum\u001b[0m\u001b[1;33m)\u001b[0m\u001b[1;33m:\u001b[0m\u001b[1;33m\u001b[0m\u001b[1;33m\u001b[0m\u001b[0m\n",
      "\u001b[1;31mUnboundLocalError\u001b[0m: local variable 'minimum' referenced before assignment"
     ]
    }
   ],
   "source": [
    "import math\n",
    "\n",
    "def my_sqrt_r(n, mininum=0, maximum=1):\n",
    "    if n == maximum ** 2:\n",
    "        return maximum\n",
    "    elif minimum ** 2 < n < maximum ** 2:\n",
    "        guess = (minimum + maximum) / 2\n",
    "        if math.isclose(minimum, maximum):\n",
    "            return guess\n",
    "        elif guess ** 2 > n:\n",
    "            return my_sqrt_r(n, minimum, guess)\n",
    "        else:\n",
    "            return my_sqrt_r(n, guess, maximum)\n",
    "    else:\n",
    "        maximum += 1\n",
    "        minimum += 1\n",
    "        return my_sqrt_r(n, minimum, maximum)\n",
    "    \n",
    "my_sqrt_r(10)"
   ]
  }
 ],
 "metadata": {
  "kernelspec": {
   "display_name": "Python 3",
   "language": "python",
   "name": "python3"
  },
  "language_info": {
   "codemirror_mode": {
    "name": "ipython",
    "version": 3
   },
   "file_extension": ".py",
   "mimetype": "text/x-python",
   "name": "python",
   "nbconvert_exporter": "python",
   "pygments_lexer": "ipython3",
   "version": "3.7.1"
  }
 },
 "nbformat": 4,
 "nbformat_minor": 2
}
