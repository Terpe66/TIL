{
 "cells": [
  {
   "cell_type": "markdown",
   "metadata": {},
   "source": [
    "# Day1"
   ]
  },
  {
   "cell_type": "markdown",
   "metadata": {},
   "source": [
    "## Workshop"
   ]
  },
  {
   "cell_type": "markdown",
   "metadata": {},
   "source": [
    "### 1번 문제\n",
    "\n",
    "#### 두 개의 정수 n과 m이 주어집니다.\n",
    "#### 반복문을 사용하지 않고 별(*) 문자를 이용해 가로의 길이가 n 세로의 길이가 m인 직사각형 형태를 출력해보세요."
   ]
  },
  {
   "cell_type": "code",
   "execution_count": 1,
   "metadata": {},
   "outputs": [
    {
     "name": "stdout",
     "output_type": "stream",
     "text": [
      "***** \n",
      "***** \n",
      "***** \n",
      "***** \n",
      "***** \n",
      "***** \n",
      "***** \n",
      "***** \n",
      "***** \n",
      "\n"
     ]
    }
   ],
   "source": [
    "n = 5\n",
    "m = 9\n",
    "\n",
    "width = \"*\" * n\n",
    "\n",
    "print(f\"{width} \\n\" * m)\n",
    "#print(width, f\"\\n{width}\" * (m - 1))\n"
   ]
  },
  {
   "cell_type": "markdown",
   "metadata": {},
   "source": [
    "### 2번 문제\n",
    "#### 다음 딕셔너리에서 평균 점수를 출력하시오."
   ]
  },
  {
   "cell_type": "code",
   "execution_count": null,
   "metadata": {},
   "outputs": [],
   "source": [
    "student = {\"python\":80, \"algorithm\":99, \"django\":89, \"flask\":83}\n",
    "\n",
    "point = list(student.values())\n",
    "average = sum(point) / len(student)\n",
    "\n",
    "print(f\"평균 점수는 {average}입니다.\")"
   ]
  },
  {
   "cell_type": "code",
   "execution_count": 18,
   "metadata": {},
   "outputs": [
    {
     "data": {
      "text/plain": [
       "87.75"
      ]
     },
     "execution_count": 18,
     "metadata": {},
     "output_type": "execute_result"
    }
   ],
   "source": [
    "student = {\"python\":80, \"algorithm\":99, \"django\":89, \"flask\":83}\n",
    "\n",
    "sum(tuple(student.values()))/len(student)"
   ]
  },
  {
   "cell_type": "markdown",
   "metadata": {},
   "source": [
    "### 3번 문제\n",
    "#### 다음은 학생들의 혈액형(A, B, AB, O)에 대한 데이터이다. for문을 이용하여 각 혈액형 별 학생수의 합계를 구하시오."
   ]
  },
  {
   "cell_type": "code",
   "execution_count": 19,
   "metadata": {},
   "outputs": [
    {
     "name": "stdout",
     "output_type": "stream",
     "text": [
      "A형은 3명, B형은 3명, AB형은 3명, O형은 3명입니다.\n"
     ]
    }
   ],
   "source": [
    "blood_types = [\"A\", \"B\", \"A\", \"O\", \"AB\", \"AB\", \"O\", \"A\", \"B\", \"O\", \"B\", \"AB\"]\n",
    "\n",
    "types = {}\n",
    "for blood in blood_types:\n",
    "    if blood in types:\n",
    "        types[blood] += 1\n",
    "    else:\n",
    "        types[blood] = 1\n",
    "        \n",
    "        \n",
    "print(f\"A형은 {types['A']}명, B형은 {types['B']}명, AB형은 {types['AB']}명, O형은 {types['O']}명입니다.\")\n",
    "\n",
    "types = []\n",
    "for blood in blood_types:\n",
    "    if blood in types:\n",
    "        types.append(blood)\n",
    "    else:\n",
    "        types.append(blood)\n",
    "\n",
    "A = types.count('A')\n",
    "B = types.count('B')\n",
    "AB = types.count('AB')\n",
    "O = types.count('O')\n",
    "        \n",
    "print(f\"A형은 {A}명, B형은 {B}명, AB형은 {AB}명, O형은 {O}명입니다.\")\n"
   ]
  },
  {
   "cell_type": "code",
   "execution_count": null,
   "metadata": {},
   "outputs": [],
   "source": [
    "blood_types = [\"A\", \"B\", \"A\", \"O\", \"AB\", \"AB\", \"O\", \"A\", \"B\", \"O\", \"B\", \"AB\"]"
   ]
  }
 ],
 "metadata": {
  "kernelspec": {
   "display_name": "Python 3",
   "language": "python",
   "name": "python3"
  },
  "language_info": {
   "codemirror_mode": {
    "name": "ipython",
    "version": 3
   },
   "file_extension": ".py",
   "mimetype": "text/x-python",
   "name": "python",
   "nbconvert_exporter": "python",
   "pygments_lexer": "ipython3",
   "version": "3.7.1"
  }
 },
 "nbformat": 4,
 "nbformat_minor": 2
}
