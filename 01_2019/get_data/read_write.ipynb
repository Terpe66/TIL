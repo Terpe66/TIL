{
 "cells": [
  {
   "cell_type": "code",
   "execution_count": 2,
   "metadata": {},
   "outputs": [],
   "source": [
    "import csv"
   ]
  },
  {
   "cell_type": "code",
   "execution_count": 21,
   "metadata": {},
   "outputs": [],
   "source": [
    "f_w = open(\"ss3.csv\", \"a+\", encoding=\"utf-8\", newline=\"\")\n",
    "writer = csv.writer(f_w)\n",
    "\n",
    "for i in [\"지또니\", \"수학자\", \"또롬\", \"상추\", \"지쓰\"]:\n",
    "    writer.writerow([i, i, i, i])\n",
    "\n",
    "f_w.close()"
   ]
  },
  {
   "cell_type": "code",
   "execution_count": 23,
   "metadata": {},
   "outputs": [
    {
     "name": "stdout",
     "output_type": "stream",
     "text": [
      "['지또니', '지또니', '지또니', '지또니']\n",
      "['수학자', '수학자', '수학자', '수학자']\n",
      "['또롬', '또롬', '또롬', '또롬']\n",
      "['상추', '상추', '상추', '상추']\n",
      "['지쓰', '지쓰', '지쓰', '지쓰']\n"
     ]
    }
   ],
   "source": [
    "f_r = open(\"ss3.csv\", \"r\", encoding=\"utf-8\", newline=\"\")\n",
    "reader = csv.reader(f_r)\n",
    "\n",
    "for line in reader:\n",
    "    print(line)\n",
    "\n",
    "f_r.close()\n"
   ]
  },
  {
   "cell_type": "code",
   "execution_count": null,
   "metadata": {},
   "outputs": [],
   "source": []
  },
  {
   "cell_type": "code",
   "execution_count": null,
   "metadata": {},
   "outputs": [],
   "source": []
  }
 ],
 "metadata": {
  "kernelspec": {
   "display_name": "Python 3",
   "language": "python",
   "name": "python3"
  },
  "language_info": {
   "codemirror_mode": {
    "name": "ipython",
    "version": 3
   },
   "file_extension": ".py",
   "mimetype": "text/x-python",
   "name": "python",
   "nbconvert_exporter": "python",
   "pygments_lexer": "ipython3",
   "version": "3.6.7"
  }
 },
 "nbformat": 4,
 "nbformat_minor": 2
}
