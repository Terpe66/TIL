{
 "cells": [
  {
   "cell_type": "code",
   "execution_count": 12,
   "metadata": {},
   "outputs": [],
   "source": [
    "import requests\n",
    "\n",
    "movies = [\"말모이\", \"주먹왕 랄프2\", \"보헤미안 랩소디\"]\n",
    "\n",
    "url = \"https://openapi.naver.com/v1/search/movie.json?query=\"\n",
    "\n",
    "client_id = os.getenv(\"NAVER_CLIENT_ID\")\n",
    "client_secret = os.getenv(\"NAVER_CLIENT_SECRET\")\n",
    "# 네이버는 다른 데처럼 key를 붙이는 게 아니라 header가 있음\n",
    "headers = {\n",
    "    \"X-Naver-Client-Id\": client_id,\n",
    "    \"X-naver-Client-Secret\": client_secret\n",
    "}\n",
    "\n",
    "response = requests.get(url + movies[0], headers=headers)\n",
    "Naver_data = response.json()\n"
   ]
  },
  {
   "cell_type": "code",
   "execution_count": 16,
   "metadata": {},
   "outputs": [],
   "source": [
    "result = []\n",
    "for movie in movies:\n",
    "    data_set = requests.get(url + movie, headers=headers).json()\n",
    "    movie_info = {}\n",
    "    movie_info[\"title\"] = data_set[\"items\"][0][\"title\"]\n",
    "    movie_info[\"link\"] = data_set[\"items\"][0][\"link\"]\n",
    "    movie_info[\"image\"] = data_set[\"items\"][0][\"image\"]\n",
    "    result.append(movie_info)"
   ]
  },
  {
   "cell_type": "code",
   "execution_count": 17,
   "metadata": {},
   "outputs": [
    {
     "data": {
      "text/plain": [
       "[{'title': '<b>말모이</b>',\n",
       "  'link': 'https://movie.naver.com/movie/bi/mi/basic.nhn?code=167699',\n",
       "  'image': 'https://ssl.pstatic.net/imgmovie/mdi/mit110/1676/167699_P40_175859.jpg'},\n",
       " {'title': '<b>주먹왕 랄프 2</b>: 인터넷 속으로',\n",
       "  'link': 'https://movie.naver.com/movie/bi/mi/basic.nhn?code=152632',\n",
       "  'image': 'https://ssl.pstatic.net/imgmovie/mdi/mit110/1526/152632_P19_104759.jpg'},\n",
       " {'title': '<b>보헤미안 랩소디</b>',\n",
       "  'link': 'https://movie.naver.com/movie/bi/mi/basic.nhn?code=156464',\n",
       "  'image': 'https://ssl.pstatic.net/imgmovie/mdi/mit110/1564/156464_P49_182103.jpg'}]"
      ]
     },
     "execution_count": 17,
     "metadata": {},
     "output_type": "execute_result"
    }
   ],
   "source": [
    "result"
   ]
  }
 ],
 "metadata": {
  "kernelspec": {
   "display_name": "Python 3",
   "language": "python",
   "name": "python3"
  },
  "language_info": {
   "codemirror_mode": {
    "name": "ipython",
    "version": 3
   },
   "file_extension": ".py",
   "mimetype": "text/x-python",
   "name": "python",
   "nbconvert_exporter": "python",
   "pygments_lexer": "ipython3",
   "version": "3.6.7"
  }
 },
 "nbformat": 4,
 "nbformat_minor": 2
}
