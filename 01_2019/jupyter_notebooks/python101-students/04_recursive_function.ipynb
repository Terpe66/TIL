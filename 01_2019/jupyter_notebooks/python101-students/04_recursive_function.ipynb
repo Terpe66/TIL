{
 "cells": [
  {
   "cell_type": "code",
   "execution_count": null,
   "metadata": {},
   "outputs": [],
   "source": [
    "# 애니메이션을 위해 꼭 실행시켜주세요.\n",
    "from IPython.display import IFrame    "
   ]
  },
  {
   "cell_type": "markdown",
   "metadata": {},
   "source": [
    "# 재귀 함수(recursive function)\n",
    "\n",
    "재귀 함수는 함수 내부에서 자기 자신을 호출 하는 함수를 뜻한다."
   ]
  },
  {
   "cell_type": "markdown",
   "metadata": {},
   "source": [
    "## 실습 문제 - 팩토리얼 계산\n",
    "\n",
    "> `팩토리얼(factorial)`을 계산하는 함수 `fact(n)`를 작성해봅시다. \n",
    ">\n",
    "> n은 1보다 큰 정수라고 가정하고, 팩토리얼을 계산한 값을 반환합니다.\n",
    "\n",
    "$$\n",
    "\\displaystyle n! = \\prod_{ k = 1 }^{ n }{ k }\n",
    "$$\n",
    "\n",
    "$$\n",
    "\\displaystyle n! = 1*2*3*...*(n-1)*n\n",
    "$$\n",
    "\n",
    "---\n",
    "```\n",
    "예시 출력)\n",
    "120\n",
    "```"
   ]
  },
  {
   "cell_type": "code",
   "execution_count": null,
   "metadata": {},
   "outputs": [],
   "source": [
    "# 아래에 코드를 작성해주세요.\n",
    "\n",
    "def fact(n):\n",
    "    first = 1\n",
    "    for i in range(1, n + 1):\n",
    "        first *= i\n",
    "    return first\n",
    "\n",
    "def fact1(n):\n",
    "    result = 1\n",
    "    while n > 1:\n",
    "        result *= n\n",
    "        n -= 1\n",
    "    return result"
   ]
  },
  {
   "cell_type": "code",
   "execution_count": null,
   "metadata": {},
   "outputs": [],
   "source": [
    "# 아래의 코드를 통해 fact(5) 함수를 호출해주세요.\n",
    "fact(5)"
   ]
  },
  {
   "cell_type": "markdown",
   "metadata": {},
   "source": [
    "## 예제 문제 - 재귀를 이용한 팩토리얼 계산\n",
    "\n",
    "```\n",
    "1! = 1\n",
    "2! = 1 * 2 = 1! * 2 \n",
    "3! = 1 * 2 * 3 = 2! * 3\n",
    "```"
   ]
  },
  {
   "cell_type": "code",
   "execution_count": null,
   "metadata": {},
   "outputs": [],
   "source": [
    "# 아래에 재귀함수를 이용한 팩토리얼 계산을 해봅시다.\n",
    "def factorial(n):\n",
    "    return n * factorial(n - 1)\n",
    "\n",
    "def factorial(3):\n",
    "    return 3 factorial(2)"
   ]
  },
  {
   "cell_type": "code",
   "execution_count": null,
   "metadata": {},
   "outputs": [],
   "source": [
    "# 아래의 코드를 통해 factorial(5) 함수를 호출해주세요.\n",
    "factorial(0)"
   ]
  },
  {
   "cell_type": "code",
   "execution_count": null,
   "metadata": {},
   "outputs": [],
   "source": [
    "# 실행 오류 뜨면 제일 상단에 import를 반드시 해주세요.\n",
    "IFrame(\"https://goo.gl/8Cmw2X\", width='100%', height='500px')"
   ]
  },
  {
   "cell_type": "markdown",
   "metadata": {},
   "source": [
    "* 재귀 함수는 기본적으로 같은 문제이지만 점점 범위가 줄어드는 문제를 풀게 된다.\n",
    "\n",
    "* 재귀함수를 작성시에는 반드시, `base case`가 존재 하여야 한다. \n",
    "\n",
    "* `base case`는 점점 범위가 줄어들어 반복되지 않는 최종적으로 도달하는 곳이다. \n",
    "\n",
    "재귀를 이용한 팩토리얼 계산에서의 base case는 n이 1일때, 함수가 아닌 정수 반환하는 것이다."
   ]
  },
  {
   "cell_type": "markdown",
   "metadata": {},
   "source": [
    "* 자기 자신을 호출하는 재귀함수는 알고리즘 구현시 많이 사용된다.\n",
    "* 코드가 더 직관적이고 이해하기 쉬운 경우가 있음. (하지만, 만들기는 어려움)\n",
    "* [Python Tutor](https://goo.gl/k1hQYz)에 보면, 함수가 호출될 때마다 메모리 공간에 쌓이는 것을 볼 수 있다. \n",
    "* 이 경우, 메모리 스택이 넘치거나(Stack overflow) 프로그램 실행 속도가 늘어지는 단점이 생긴다.\n",
    "* 파이썬에서는 이를 방지하기 위해 1,000번이 넘어가게 되면 더이상 함수를 호출하지 않고, 종료된다."
   ]
  },
  {
   "cell_type": "code",
   "execution_count": null,
   "metadata": {},
   "outputs": [],
   "source": [
    "# 여기에서 오류를 확인해보자!"
   ]
  },
  {
   "cell_type": "markdown",
   "metadata": {},
   "source": [
    "## 실습문제 - 피보나치 수열\n",
    "\n",
    "> 피보나치 수열은 다음과 같은 점화식이 있다. \n",
    ">\n",
    "> 피보나치 값을 리턴하는 두가지 방식의 코드를 모두 작성해보자.\n",
    "\n",
    "$$\n",
    "\\displaystyle F_0 = F_1 = 1\n",
    "$$\n",
    "\n",
    "$$\n",
    "F_n=F_{n-1}+F_{n-2}\\qquad(n\\in\\{2,3,4,\\dots\\})\n",
    "$$\n",
    "\n",
    "1) `fib(n)` : 재귀함수\n",
    "\n",
    "2) `fib_loop(n)` : 반복문 활용한 함수\n",
    "\n",
    "---\n",
    "```\n",
    "예시 입력)\n",
    "fib(10)\n",
    "\n",
    "예시 호출)\n",
    "89\n",
    "```"
   ]
  },
  {
   "cell_type": "code",
   "execution_count": null,
   "metadata": {},
   "outputs": [],
   "source": [
    "# 아래에 재귀를 이용한 코드를 작성해주세요.\n",
    "def fib(n):\n",
    "    if n in (0, 1):\n",
    "        return 1\n",
    "    else:\n",
    "        return fib(n-2) + fib(n-1)\n",
    "\n",
    "# n0 = 1\n",
    "# n1 = 1\n",
    "# n2 = 2 n0 + n1\n",
    "# n3 = 3 n1 + n2\n",
    "# n4 = 5 n2 + n3\n",
    "# n5 = 8 n3 + n4"
   ]
  },
  {
   "cell_type": "code",
   "execution_count": null,
   "metadata": {},
   "outputs": [],
   "source": [
    "# 아래의 코드를 통해 fib 함수를 호출해주세요.\n",
    "for n in range(15):\n",
    "    print(fib(n), end=\" \")\n",
    "    \n",
    "fib(10)"
   ]
  },
  {
   "cell_type": "code",
   "execution_count": null,
   "metadata": {},
   "outputs": [],
   "source": [
    "# 아래에 반복문을 이용한 코드를 작성해주세요.\n",
    "def fib_loop(n):\n",
    "    a = [1, 1]\n",
    "    for i in range(1, n):\n",
    "        a.append(a[-1] + a[-2])\n",
    "    return a\n",
    "\n",
    "# n0 = n0\n",
    "# n1 = n0 + 0\n",
    "# n2 = n0 + n1\n",
    "# n3 = n1 + n2\n",
    "    \n",
    "# 1 => n0\n",
    "# 1 => n1\n",
    "# 2 => n2\n",
    "# 3 => n3\n",
    "# 5 => n4\n",
    "# 8 => n5\n"
   ]
  },
  {
   "cell_type": "code",
   "execution_count": null,
   "metadata": {},
   "outputs": [],
   "source": [
    "# 아래의 코드를 통해 fib_loop(5) 함수를 호출해주세요.\n",
    "fib_loop(5)"
   ]
  },
  {
   "cell_type": "markdown",
   "metadata": {},
   "source": [
    "## 반복문과 재귀 함수의 차이"
   ]
  },
  {
   "cell_type": "code",
   "execution_count": null,
   "metadata": {},
   "outputs": [],
   "source": [
    "# 큰 숫자를 재귀로 짜여진 fib()함수의 인자로 넘겨보세요.\n",
    "fib(33)"
   ]
  },
  {
   "cell_type": "code",
   "execution_count": null,
   "metadata": {
    "scrolled": false
   },
   "outputs": [],
   "source": [
    "# 100배 되는 숫자를 반복문으로 짜여진 fib_loop()인자로 넘겨보세요.\n",
    "fib_loop(3300)"
   ]
  },
  {
   "cell_type": "code",
   "execution_count": null,
   "metadata": {},
   "outputs": [],
   "source": [
    "# 실행 오류 뜨면 제일 상단에 import를 반드시 해주세요.\n",
    "IFrame('https://goo.gl/JZ7s15', width='100%', height='300px')"
   ]
  },
  {
   "cell_type": "markdown",
   "metadata": {},
   "source": [
    "## 실습문제 - chicken coupon\n",
    "> 치킨쿠폰 3장을 모으면 한 마리를 줍니다. 한 마리를 시키면 한 장을 줍니다. n장이 있을 때 몇 마리까지 먹을 수 있을까요?\n",
    "> ex) 10장 => 7장 + 1 => 5 + 1 => 3 + 1 => 1 + 1 4마리 먹을 수 있음"
   ]
  },
  {
   "cell_type": "code",
   "execution_count": 3,
   "metadata": {
    "scrolled": true
   },
   "outputs": [
    {
     "data": {
      "text/plain": [
       "4"
      ]
     },
     "execution_count": 3,
     "metadata": {},
     "output_type": "execute_result"
    }
   ],
   "source": [
    "# def chicken(*args):\n",
    "#     coupons = int(input(\"가지고 있는 쿠폰의 수 : \"))\n",
    "#     free = int(input(\"1마리 당 쿠폰 수 : \"))\n",
    "#     n = 0\n",
    "#     while coupons >= free:\n",
    "#         n += 1\n",
    "#         coupons -= free - 1\n",
    "#     return n\n",
    "\n",
    "# chicken()\n",
    "\n",
    "# recursive\n",
    "def chicken1(coupons, free, n = 0):\n",
    "    if coupons > free:\n",
    "        n += 1\n",
    "        coupons -= 3\n",
    "        coupons += 1\n",
    "        return chicken1(coupons, free, n)\n",
    "    else:\n",
    "        return n\n",
    "    \n",
    "chicken1(10, 3)\n",
    "\n",
    "# 선생님 답\n",
    "# def free_chicken(coupon, N, chicken=0):\n",
    "#     if coupon < N:\n",
    "#         return chicken\n",
    "#     else:\n",
    "#         coupon -= 3\n",
    "#         chicken += 1\n",
    "#         coupon += 1\n",
    "#         return free_chicken(coupon, N, chicken)\n",
    "\n",
    "# free_chicken(10, 3)\n",
    "\n",
    "# 1 10 3\n",
    "# 2 7 3\n",
    "# 3 4 3\n",
    "# 4 \n",
    "# 5 \n",
    "# 6 "
   ]
  },
  {
   "cell_type": "markdown",
   "metadata": {},
   "source": [
    "##  실습문제 - 개미수열 (Look & Say)\n",
    "> 숫자를 세어서 몇 개인지 말해요\n",
    "```\n",
    "n = 1\n",
    "[1]\n",
    "n = 2\n",
    "[1, 1]\n",
    "n = 3\n",
    "[1, 2]\n",
    "n = 4\n",
    "[1, 1, 2, 1]\n",
    "n = 5\n",
    "[1, 2, 2, 1, 1, 1]\n",
    "n = 6\n",
    "[1, 1, 2, 2, 1, 3]\n",
    "n = 7\n",
    "[1, 2, 2, 2, 1, 1, 3, 1]\n",
    "```"
   ]
  },
  {
   "cell_type": "code",
   "execution_count": null,
   "metadata": {},
   "outputs": [],
   "source": [
    "# remain[0]을 본다.\n",
    "# 본 걸 다른 게 나올 때까지 센다.\n",
    "# result에 += look, say\n",
    "# remain에서 본 건 버린다.\n",
    "# remain이 비면 result를 remain으로, n -= 1\n",
    "\n",
    "# 반복문 포함\n",
    "def LAS(n, base=[1], empty=[]):\n",
    "    cnt = 0\n",
    "\n",
    "    if n == 0:\n",
    "        return base\n",
    "    else:\n",
    "        for i in base:\n",
    "            if base[0] == i:\n",
    "                cnt += 1\n",
    "            else:\n",
    "                empty += [base[0]] + [cnt]\n",
    "                del base[0:cnt]\n",
    "                return LAS(n, base, empty)\n",
    "        empty += [base[0]] + [cnt]\n",
    "        base = []\n",
    "\n",
    "        return LAS(n - 1, empty, [])\n",
    "\n",
    "\n",
    "\n",
    "# 반복문 없이\n",
    "def LAS(n, base=[1], empty=[], cnt=0):\n",
    "    \n",
    "    if n == 0:\n",
    "        return base\n",
    "\n",
    "    if len(base) == cnt + 1:\n",
    "        cnt += 1\n",
    "        empty += [base[0]] + [cnt]\n",
    "        return LAS(n - 1, empty, [])\n",
    "    elif base[0] == base[cnt+1]:\n",
    "        cnt += 1\n",
    "        return LAS(n, base, empty, cnt)\n",
    "    else:\n",
    "        cnt += 1\n",
    "        empty += [base[0]] + [cnt]\n",
    "        del base[:cnt]\n",
    "        return LAS(n, base, empty)\n",
    "\n",
    "\n",
    "\n",
    "\n",
    "\n",
    "\n",
    "\n",
    "# 선생님 답\n",
    "\n",
    "def look_and_say(n, start=[1], end=[]):\n",
    "    if n == 0:\n",
    "        return start\n",
    "    \n",
    "    look = start[0]\n",
    "    say = 0\n",
    "    \n",
    "    for index, number in enumerate(start):\n",
    "        if number == look:\n",
    "            say += 1\n",
    "        else:\n",
    "            del start[0:index]\n",
    "            break\n",
    "    else:\n",
    "        start = []\n",
    "    \n",
    "    end += [look, say]\n",
    "    \n",
    "    if not start:\n",
    "        return look_and_say(n - 1, end, []) # start가 비어있다면 ?\n",
    "    else:\n",
    "        return look_and_say(n, start, end) # start가 남아있다면 ?\n",
    "\n",
    "look_and_say(5)\n",
    "\n",
    "\n",
    "# 총무님 답\n",
    "\n",
    "def look_and_say(n) :\n",
    "    if n == 0 :\n",
    "        return [1]\n",
    "    else :\n",
    "        list_1 = look_and_say(n - 1)\n",
    "        list_2 = []\n",
    "        number = 0;\n",
    "        num_cnt = 0;\n",
    "        i = 0;\n",
    "        while i < len(list_1) :\n",
    "            if number != list_1[i] :\n",
    "                if i != 0 :\n",
    "                    list_2.append(num_cnt)\n",
    "                list_2.append(list_1[i])\n",
    "                number = list_1[i]\n",
    "                num_cnt = 1\n",
    "            else :\n",
    "                num_cnt += 1\n",
    "            i += 1\n",
    "        list_2.append(num_cnt)\n",
    "        return list_2\n",
    "print(look_and_say(5))"
   ]
  },
  {
   "cell_type": "markdown",
   "metadata": {},
   "source": [
    "## 실습문제 - 하노이의 탑\n",
    "\n",
    "> 다음은 하노이의 탑이다. \n",
    ">\n",
    "> 하노이의 탑을 풀이하는 해법(한쪽 탑의 원판을 다른 탑으로 모두 옮기는 법을 출력하는 함수를 만드세요.\n",
    "\n",
    "<br>\n",
    "<br>\n",
    "<center>\n",
    "    <img src=\"./images/04/hanoi.gif\", alt=\"\">\n",
    "</center>\n",
    "\n",
    "1. 한 번에 한개의 층만을 다른 기둥으로 옮길 수 있다\n",
    "2. 옮기려는 기둥에는 아무것도 없거나 옮기려는 층보다 큰 층이 있을 경우에만 옮길 수 있다\n",
    "3. 옮기려는 기둥에 옮기려는 층보다 작은 층이 이미 있을 경우 그 기둥으로 옮길 수 없다.\n",
    "4. 가능한 적은 회수로 전체 탑을 다른 기둥으로 옮긴다."
   ]
  },
  {
   "cell_type": "code",
   "execution_count": null,
   "metadata": {},
   "outputs": [],
   "source": [
    "H1 = [1, 2, 3, 4]\n",
    "H2 = []\n",
    "H3 = []\n",
    "cnt = 0\n",
    "while H1 != [] or H2 != []:\n",
    "    cnt += 1\n",
    "    if H2 == [] or H1[0] < H2[0]:\n",
    "        H2.insert(0, H1[0])\n",
    "        H1.pop(0)\n",
    "    elif H3 == [] or (H1[0] > H2[0] and H1[0] < H3[0]):\n",
    "        H3.insert(0, H1[0])\n",
    "        H1.pop(0)\n",
    "    elif H1 == [] or H2[0] > H1[0]:\n",
    "        H1.insert(0, H2[0])\n",
    "        H2.pop(0)\n",
    "    elif H2[0] < H3[0]:\n",
    "        H3.insert(0, H2[0])\n",
    "        H2.pop(0)\n",
    "    elif H3[0] < H2[0]:\n",
    "        H2.insert(0, H3[0])\n",
    "        H3.pop(0)\n",
    "    else:\n",
    "        H1.insert(0, H3[0])\n",
    "        H3.pop(0)\n",
    "\n",
    "print(H1); print(H2); print(H3)"
   ]
  }
 ],
 "metadata": {
  "kernelspec": {
   "display_name": "Python 3",
   "language": "python",
   "name": "python3"
  },
  "language_info": {
   "codemirror_mode": {
    "name": "ipython",
    "version": 3
   },
   "file_extension": ".py",
   "mimetype": "text/x-python",
   "name": "python",
   "nbconvert_exporter": "python",
   "pygments_lexer": "ipython3",
   "version": "3.7.1"
  },
  "latex_envs": {
   "LaTeX_envs_menu_present": true,
   "autoclose": false,
   "autocomplete": true,
   "bibliofile": "biblio.bib",
   "cite_by": "apalike",
   "current_citInitial": 1,
   "eqLabelWithNumbers": true,
   "eqNumInitial": 1,
   "hotkeys": {
    "equation": "Ctrl-E",
    "itemize": "Ctrl-I"
   },
   "labels_anchors": false,
   "latex_user_defs": false,
   "report_style_numbering": false,
   "user_envs_cfg": false
  },
  "toc": {
   "base_numbering": 1,
   "nav_menu": {},
   "number_sections": true,
   "sideBar": true,
   "skip_h1_title": false,
   "title_cell": "Table of Contents",
   "title_sidebar": "Contents",
   "toc_cell": false,
   "toc_position": {},
   "toc_section_display": true,
   "toc_window_display": false
  }
 },
 "nbformat": 4,
 "nbformat_minor": 2
}
