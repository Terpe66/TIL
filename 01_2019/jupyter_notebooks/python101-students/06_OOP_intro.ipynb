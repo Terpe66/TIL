{
 "cells": [
  {
   "cell_type": "markdown",
   "metadata": {},
   "source": [
    "# 시작하기전에\n",
    "\n",
    "<wikipedia - 객체지향 프로그래밍> \n",
    ">\n",
    "> 객체 지향 프로그래밍(영어: Object-Oriented Programming, OOP)은 컴퓨터 프 로그래밍의 패러다임의 하나이다. 객체 지향 프로그래밍은 컴퓨터 프로그램을 명령어의 목록으로 보는 시각에서 벗어나 여러 개의 독립된 단위, 즉 \"객체\"들의 모임으로 파악하고자 하는 것이다. 각각의 객체는 메시지를 주고받고, 데이터를 처리할 수 있다.\n",
    ">\n",
    "> 명령형 프로그래밍인 절차지향 프로그래밍에서 발전된 형태를 나타내며, 기본 구성요소는 다음과 같다.\n",
    "\n",
    "* 클래스(Class) - 같은 종류(또는 문제 해결을 위한)의 집단에 속하는 속성(attribute)과 행위(behavior)를 정의한 것으로 객체지향 프로그램의 기본적인 사용자 정의 데이터형(user define data type)이라고 할 수 있다. 클래스는 프로그래머가 아니지만 해결해야 할 문제가 속하는 영역에 종사하는 사람이라면 사용할 수 있고, 다른 클래스 또는 외부 요소와 독립적으로 디자인하여야 한다.\n",
    "\n",
    "\n",
    "* 인스턴스 - 클래스의 인스턴스(실제로 메모리상에 할당된 것)이다. 객체는 자신 고유의 속성(attribute)을 가지며 클래스에서 정의한 행위(behavior)를 수행할 수 있다. 객체의 행위는 클래스에 정의된 행위에 대한 정의를 공유함으로써 메모리를 경제적으로 사용한다.\n",
    "\n",
    "\n",
    "* 메서드(Method) - 클래스로부터 생성된 객체를 사용하는 방법으로서 객체에 명령을 내리는 것이라 할 수 있다. 메서드는 한 객체의 속성을 조작하는 데 사용된다.\n",
    "\n",
    "\n",
    "* instance와 object는 같지만 object는 메모리나 코드상에서 실존하는 걸 object라고 함. instance는 class와 object의 관계를 말함"
   ]
  },
  {
   "cell_type": "markdown",
   "metadata": {},
   "source": [
    "| 사람   | dict                         | int           | set                | str             |\n",
    "| ------ | ---------------------------- | ------------- | ------------------ | --------------- |\n",
    "| 백지원 | {\"a\":1}                      | 49            | {1, 2}             | \"hi\"            |\n",
    "| 이원진 | {}                           | 0             | {}                 | \"\"              |\n",
    "| 고재두 | {\"b\":2, \"c\":2, d:{1:2, 3:4}} | 1000000000001 | {1, 2, 3, 4, 5, 6} | {pneumonoultra} |"
   ]
  },
  {
   "cell_type": "code",
   "execution_count": null,
   "metadata": {},
   "outputs": [],
   "source": [
    "# 복소수를 하나 만들어보고, 타입을 출력해봅시다.\n",
    "img_number = 3 + 4j\n",
    "print((-4) ** 2)\n",
    "print(4 ** 2)\n",
    "print((4j) ** 2)\n",
    "print(img_number ** 2)"
   ]
  },
  {
   "cell_type": "code",
   "execution_count": null,
   "metadata": {},
   "outputs": [],
   "source": [
    "# 허수부랑 실수부를 함께 출력해봅시다.\n",
    "print(img_number.real)\n",
    "print(img_number.imag)"
   ]
  },
  {
   "cell_type": "code",
   "execution_count": null,
   "metadata": {},
   "outputs": [],
   "source": [
    "# 리스트를 하나 만들고 정렬해봅시다.\n",
    "a = [3, 2, 1]\n",
    "a.sort()\n",
    "print(a)"
   ]
  },
  {
   "cell_type": "code",
   "execution_count": null,
   "metadata": {},
   "outputs": [],
   "source": [
    "# 리스트가 할 수 있는 것들을 알아봅시다.\n",
    "print(dir(list))"
   ]
  },
  {
   "cell_type": "markdown",
   "metadata": {},
   "source": [
    "## Turtle\n",
    "> 거북이 클래스로 OOP 배우기 거북거북!"
   ]
  },
  {
   "cell_type": "code",
   "execution_count": 5,
   "metadata": {},
   "outputs": [],
   "source": [
    "import turtle"
   ]
  },
  {
   "cell_type": "code",
   "execution_count": 7,
   "metadata": {},
   "outputs": [
    {
     "data": {
      "text/plain": [
       "<turtle._Screen at 0x1ece2d42390>"
      ]
     },
     "execution_count": 7,
     "metadata": {},
     "output_type": "execute_result"
    }
   ],
   "source": [
    "turtle.Screen()"
   ]
  },
  {
   "cell_type": "code",
   "execution_count": 5,
   "metadata": {},
   "outputs": [],
   "source": [
    "class Form:\n",
    "    name = \"\"\n",
    "    age = 0\n",
    "    phone = \"\"\n",
    "    intro = \"\"\n",
    "    def submit(self, teacher):\n",
    "        print(f\"{teacher} 선생님에게 제출하였습니다.\")"
   ]
  },
  {
   "cell_type": "code",
   "execution_count": 8,
   "metadata": {},
   "outputs": [
    {
     "name": "stdout",
     "output_type": "stream",
     "text": [
      "우너우너 선생님에게 제출하였습니다.\n"
     ]
    }
   ],
   "source": [
    "WJ = Form()\n",
    "WJ.name = \"우너\"\n",
    "WJ.age = 99\n",
    "WJ.phone = \"0123456789\"\n",
    "WJ.intro = \"SSAFY\"\n",
    "WJ.submit(\"우너우너\")"
   ]
  },
  {
   "cell_type": "markdown",
   "metadata": {},
   "source": [
    "## 실습 문제\n",
    "\n",
    "> 프로그래밍으로 나와 친구의 이름을 저장해보세요.\n",
    ">\n",
    "\n",
    "**각자의 명함과 지갑을 만들어봅시다.**\n",
    "\n",
    "* 내 생일, 전화번호, 이메일주소 정보를 담은 변수를 확인해봅시다.\n",
    "\n",
    "* 주머니(pocket)에는 돈(won)을 포함하여 현재 가지고 있는 것을 작성해보세요.\n",
    "\n",
    "* 나는 인사를 하면서 내 명함에 있는 정보 하나를 이야기합니다. `greeting` 함수를 만듭시다.\n",
    "\n",
    "* 나는 주머니에 원하는 것과 갯수를 지정하여 넣을 수 있습니다. \n",
    "\n",
    "  기존에 값이 있으면, 갯수를 추가하고 없으면 새로 만드는 `in_my_pocket` 함수를 만듭시다.\n",
    "  \n",
    "**친구의 정보와 지갑도 만들어봅시다.**"
   ]
  },
  {
   "cell_type": "code",
   "execution_count": null,
   "metadata": {
    "scrolled": true
   },
   "outputs": [],
   "source": [
    "# 아래에 자유롭게 코드를 작성해보세요.\n",
    "my_info = {\n",
    "    \"name\" : \"우너\",\n",
    "    \"phone\" : \"01012345678\",\n",
    "    \"e-mail\" : \"terpe66@ssa.fy\"\n",
    "}\n",
    "\n",
    "my_pocket = {\n",
    "    \"money\" : 60000,\n",
    "    \"lemonc\" : 3\n",
    "}\n",
    "\n",
    "def greeting(info):\n",
    "    for key, value in info.items():\n",
    "        print(f\"Hi, 내 {key}은 {value}야.\")\n",
    "          \n",
    "def in_my_pocket(pocket, stuff, count):\n",
    "    if pocket.get(stuff):\n",
    "        pocket[stuff] += count\n",
    "    else:\n",
    "          pocket[stuff] = count\n",
    "    return pocket\n",
    "          \n",
    "greeting(my_info)"
   ]
  },
  {
   "cell_type": "code",
   "execution_count": null,
   "metadata": {},
   "outputs": [],
   "source": [
    "mates_info = {\n",
    "    \"name\": \"지또니\",\n",
    "    \"github_ID\": \"jisun1002\",\n",
    "    \"blood\": \"A\",\n",
    "    \"my_name\": \"우너\",\n",
    "    \"my_github_ID\": \"terpe66\",\n",
    "    \"blood\": \"B\"\n",
    "}\n",
    "\n",
    "mates_info2 = {\n",
    "    \"name\": {\"mate\": \"지또니\",\n",
    "              \"my\": \"우너\"},\n",
    "    \"github_ID\" : {\"mate\": \"jisun1002\",\n",
    "                   \"my\": \"우너\"},\n",
    "    \"blood\" : {\"mate\": \"A\",\n",
    "               \"my\": \"우너\"}\n",
    "}\n",
    "\n",
    "mates_info1 = {\n",
    "    \"wj\" : {\n",
    "        \"name\": \"우너\",\n",
    "        \"github_ID\": \"terpe66\",\n",
    "        \"blood\": \"B\"\n",
    "    },\n",
    "    \"js\" : {\n",
    "        \"name\": \"지또니\",\n",
    "        \"github_ID\": \"jisun1002\",\n",
    "        \"blood\": \"A\"\n",
    "    }\n",
    "}\n",
    "\n",
    "\n",
    "\n",
    "def arrive_ant(mate):\n",
    "    if mate[\"name\"] == \"지또니\":\n",
    "        print(\"화장실에 간다.\")\n",
    "        print(\"출석을 찍는다.\")\n",
    "        print(\"물을 뜬다.\")\n",
    "        \n",
    "arrive_ant(js)"
   ]
  },
  {
   "cell_type": "code",
   "execution_count": null,
   "metadata": {
    "scrolled": true
   },
   "outputs": [],
   "source": [
    "class Mate():\n",
    "    classroom = 703\n",
    "    ban = 3\n",
    "    \n",
    "    def __init__(self, name, github, blood, arrive):\n",
    "        self.name = name\n",
    "        self.blood = blood\n",
    "        self.github = github\n",
    "        self.arrive = arrive\n",
    "        \n",
    "    def intro(self):\n",
    "        print(f\"안녕하세요! 제 이름은 {self.name}입니다.\")\n",
    "        print(f\"제 github id는 {self.github}이고, 혈액형은 {self.blood}형입니다.\")\n",
    "        \n",
    "    def arrive1(self):\n",
    "        print(f\"{self.name}는 도착하면 {self.arrive}을 먹습니다.\")\n",
    "        \n",
    "\n",
    "ant = Mate(\"지또니\", \"jisun1002\", \"A\", \"빵\")\n",
    "ant.intro()\n",
    "ant.arrive1()\n",
    "print(ant.ban)\n",
    "print(ant.classroom)\n",
    "\n",
    "wj = Mate(\"우너\", \"terpe66\", \"B\", \"얼음\")\n",
    "wj.intro()\n",
    "wj.arrive1()\n",
    "print(wj.ban)\n",
    "print(wj.classroom)\n"
   ]
  },
  {
   "cell_type": "code",
   "execution_count": 2,
   "metadata": {},
   "outputs": [
    {
     "name": "stdout",
     "output_type": "stream",
     "text": [
      "a Santa at NASA\n",
      "True\n",
      "한 글자만 넣어라 : 1\n",
      "ㅋㅋㅋㅋㅋㅋㅋㅋㅋㅋㅋㅋㅋㅋㅋㅋㅋㅋㅋㅋㅋㅋㅋㅋㅋㅋㅋㅋㅋㅋㅋㅋㅋㅋㅋㅋㅋㅋㅋㅋㅋㅋㅋㅋㅋㅋㅋㅋㅋㅋㅋㅋㅋㅋㅋ\n",
      "False\n",
      "한 글자만 넣어라 : a\n",
      "오 맞음!\n"
     ]
    },
    {
     "data": {
      "text/plain": [
       "True"
      ]
     },
     "execution_count": 2,
     "metadata": {},
     "output_type": "execute_result"
    }
   ],
   "source": [
    "class Text:\n",
    "    def __init__(self, text):\n",
    "        self.content = text\n",
    "\n",
    "    def is_palindrome(self):\n",
    "        txt = self.content.replace(\" \", \"\").lower()\n",
    "        return txt == \"\".join(reversed(txt))\n",
    "        \n",
    "    def start_hangman(self):\n",
    "        self.content = self.content.lower()\n",
    "        guess = input(\"한 글자만 넣어라 : \").lower()\n",
    "        if guess in self.content:\n",
    "            print(\"오 맞음!\")\n",
    "            return True\n",
    "        else:\n",
    "            print(\"ㅋㅋㅋㅋㅋㅋㅋㅋㅋㅋㅋㅋㅋㅋㅋㅋㅋㅋㅋㅋㅋㅋㅋㅋㅋㅋㅋㅋㅋㅋㅋㅋㅋㅋㅋㅋㅋㅋㅋㅋㅋㅋㅋㅋㅋㅋㅋㅋㅋㅋㅋㅋㅋㅋㅋ\")\n",
    "            return False\n",
    "\n",
    "\n",
    "        \n",
    "\n",
    "my_text = Text(\"a Santa at NASA\")\n",
    "# my_text는 Text 클래스의 인스턴스 객체\n",
    "print(my_text.content)\n",
    "print(my_text.is_palindrome())\n",
    "print(my_text.start_hangman())\n",
    "\n",
    "your_text = Text(\"apple\")\n",
    "your_text.start_hangman()\n",
    "\n"
   ]
  },
  {
   "cell_type": "code",
   "execution_count": null,
   "metadata": {},
   "outputs": [],
   "source": [
    "# in_my_pocket 함수를 통해 내 주머니에 내용을 추가해봅시다."
   ]
  },
  {
   "cell_type": "code",
   "execution_count": null,
   "metadata": {},
   "outputs": [],
   "source": [
    "# greeting 함수를 통해 인사를 해봅시다.\n",
    "#=> 안녕, kim이야. 01012345678"
   ]
  },
  {
   "cell_type": "markdown",
   "metadata": {},
   "source": [
    "# 클래스 및 인스턴스"
   ]
  },
  {
   "cell_type": "markdown",
   "metadata": {},
   "source": [
    "## 클래스 객체\n",
    "\n",
    "```python\n",
    "class ClassName:\n",
    "    \n",
    "```\n",
    "\n",
    "* 선언과 동시에 클래스 객체가 생성됨.\n",
    "\n",
    "* 또한, 선언된 공간은 지역 스코프로 사용된다.\n",
    "\n",
    "* 정의된 어트리뷰트 중 변수는 멤버 변수로 불리운다.\n",
    "\n",
    "* 정의된 함수(`def`)는 메서드로 불리운다."
   ]
  },
  {
   "cell_type": "code",
   "execution_count": null,
   "metadata": {},
   "outputs": [],
   "source": [
    "# Class를 만들어봅시다.\n",
    "class TestClass:\n",
    "    \"\"\"Test Class\"\"\"\n",
    "    \n",
    "print(type(TestClass))\n",
    "\n",
    "TestClass.__help__ = \"이야\"\n",
    "    \n",
    "TestClass.__doc__"
   ]
  },
  {
   "cell_type": "code",
   "execution_count": null,
   "metadata": {},
   "outputs": [],
   "source": [
    "# Person 클래스를 만들어봅시다.\n",
    "\n",
    "class Person:\n",
    "    name = \"지또니\"\n",
    "    \n",
    "    def say_hi(self):\n",
    "        print(\"Hello!\")\n",
    "        \n",
    "    def intro(self):\n",
    "        print(f\"I'm {self.name}\")\n",
    "\n",
    "P1 = Person()\n",
    "\n",
    "P1.say_hi()"
   ]
  },
  {
   "cell_type": "markdown",
   "metadata": {},
   "source": [
    "* 선언시 self는 반드시 작성해주세요! 나중에 설명드립니다."
   ]
  },
  {
   "cell_type": "markdown",
   "metadata": {},
   "source": [
    "## 인스턴스 객체\n",
    "\n",
    "* 인스턴스 객체는 `ClassName()`을 호출함으로써 선언된다.\n",
    "\n",
    "* 인스턴스 객체와 클래스 객체는 서로 다른 이름 공간을 가지고 있다.\n",
    "\n",
    "* 인스턴스 -> 클래스 -> 전역 순으로 탐색을 한다."
   ]
  },
  {
   "cell_type": "code",
   "execution_count": null,
   "metadata": {},
   "outputs": [],
   "source": [
    "# 클래스 Person의 iu라는 인스턴스를 만들어봅시다.\n",
    "\n",
    "iu = Person()"
   ]
  },
  {
   "cell_type": "code",
   "execution_count": null,
   "metadata": {},
   "outputs": [],
   "source": [
    "# 인사하는 메서드를 호출해봅시다.\n",
    "\n",
    "iu.say_hi()"
   ]
  },
  {
   "cell_type": "code",
   "execution_count": null,
   "metadata": {},
   "outputs": [],
   "source": [
    "# iu의 이름을 확인해봅시다.\n",
    "print(iu.name)"
   ]
  },
  {
   "cell_type": "code",
   "execution_count": null,
   "metadata": {},
   "outputs": [],
   "source": [
    "# iu로 이름을 바꿔주세요.\n",
    "iu.name = \"IU\""
   ]
  },
  {
   "cell_type": "code",
   "execution_count": null,
   "metadata": {},
   "outputs": [],
   "source": [
    "# iu가 인사를 합니다.\n",
    "iu.intro()"
   ]
  },
  {
   "cell_type": "code",
   "execution_count": null,
   "metadata": {},
   "outputs": [],
   "source": [
    "# iu와 Person이 같은지 확인해보겠습니다.\n",
    "\n",
    "isinstance(iu, Person)\n",
    "\n",
    "# if isinstance(user_input, ?????) # ????에는 list, int, str 등이 확인할 조건이 들어간다\n"
   ]
  },
  {
   "cell_type": "code",
   "execution_count": null,
   "metadata": {},
   "outputs": [],
   "source": [
    "# iu와 Person이 같은지 확인해보겠습니다.\n",
    "\n",
    "iu == Person\n",
    "type(iu) == Person"
   ]
  },
  {
   "cell_type": "code",
   "execution_count": null,
   "metadata": {},
   "outputs": [],
   "source": [
    "# iu를 출력해봅시다.\n",
    "\n",
    "print(iu)"
   ]
  },
  {
   "cell_type": "code",
   "execution_count": null,
   "metadata": {},
   "outputs": [],
   "source": [
    "# iu를 출력해봅시다 2.\n",
    "\n",
    "iu"
   ]
  },
  {
   "cell_type": "code",
   "execution_count": null,
   "metadata": {},
   "outputs": [],
   "source": [
    "# type을 확인해봅시다.\n",
    "\n",
    "type(iu)"
   ]
  },
  {
   "cell_type": "markdown",
   "metadata": {},
   "source": [
    "* 파이썬 출력의 비밀 : repr, str"
   ]
  },
  {
   "cell_type": "code",
   "execution_count": null,
   "metadata": {},
   "outputs": [],
   "source": []
  },
  {
   "cell_type": "code",
   "execution_count": null,
   "metadata": {},
   "outputs": [],
   "source": [
    "# 강다니엘을 만들어봅시다.\n",
    "강다니엘 = Person()"
   ]
  },
  {
   "cell_type": "code",
   "execution_count": null,
   "metadata": {},
   "outputs": [],
   "source": [
    "# 강다니엘을 출력해봅시다.\n",
    "강다니엘.name = \"다니엘\"\n",
    "print(강다니엘.name)"
   ]
  },
  {
   "cell_type": "markdown",
   "metadata": {},
   "source": [
    "## 실습 문제 발전\n",
    "\n",
    "> 지금까지 배운 것을 통해서 Person 클래스를 만들고, 친구와 나를 표현해봅시다.\n",
    ">\n",
    "> 주머니와 정보를 가지고 있고 (멤버 변수)\n",
    "> \n",
    "> 인사(`greeting()`)와 주머니에 내용을 추가(`in_my_pocket()`)할 수 있습니다. (메서드)\n",
    ">\n",
    "> 추가적으로 `get_my_pocket()`으로 지갑에 담긴 정보를 가져와 봅시다.\n",
    ">\n",
    "> 그리고 사람을 출력하면, 지갑을 제외한 정보를 보여줘보세요. "
   ]
  },
  {
   "cell_type": "code",
   "execution_count": null,
   "metadata": {},
   "outputs": [],
   "source": [
    "# 아래에 코드를 작성해주세요.    "
   ]
  },
  {
   "cell_type": "markdown",
   "metadata": {},
   "source": [
    "## MyList만들기\n",
    "\n",
    "> 이제 배운 것을 활용하여 나만의 리스트 객체를 만들 수 있습니다. \n",
    ">\n",
    "> `class MyList:`\n",
    ">\n",
    "\n",
    "```\n",
    "* 변수\n",
    "data : 비어 있는 리스트\n",
    "\n",
    "* 메서드 \n",
    "append : 값을 받아 추가합니다.\n",
    "pop : 마지막에 있는 값을 없애고, 해당 값을 리턴합니다.\n",
    "reverse : 제자리에서 뒤집고 리턴 값은 없습니다.\n",
    "count(x) : x의 갯수를 반환합니다.\n",
    "clear : 값을 모두 삭제합니다.\n",
    "\n",
    "__repr__ : ex) '리스트 내용 1, 2, 3'\n",
    "```"
   ]
  },
  {
   "cell_type": "code",
   "execution_count": null,
   "metadata": {},
   "outputs": [],
   "source": [
    "# 아래에 코드를 작성해주세요."
   ]
  },
  {
   "cell_type": "markdown",
   "metadata": {},
   "source": [
    "## 자유롭게 만들어보기\n",
    "\n",
    "> 이 세상에 있는 무엇인가를 자유롭게 표현해주세요."
   ]
  },
  {
   "cell_type": "code",
   "execution_count": null,
   "metadata": {},
   "outputs": [],
   "source": [
    "# 아래에 코드를 작성해주세요.\n",
    "\n",
    "class Pokemon:\n",
    "    def __init__(self, name, level):\n",
    "        self.name = name\n",
    "        self.level = level\n",
    "        self.hp = level * 10\n",
    "    \n",
    "    def set_hp(self, point=10):\n",
    "        self.hp += point\n",
    "    \n",
    "    def level_up(self):\n",
    "        self.level += 1\n",
    "        self.hp += 10\n",
    "    \n",
    "    def check_status(self):\n",
    "        if self.hp > 0:\n",
    "            return \"아직 살아있다!\"\n",
    "        else:\n",
    "            return \"아이고 죽었다!\"\n",
    "        \n",
    "    def body_attack(self, enemy):\n",
    "        enemy.set_hp(-10)\n",
    "    \n",
    "    def volt_attack(self, enemy):\n",
    "        enemy.set_hp(-15)\n",
    "        \n",
    "import random\n",
    "ant = Pokemon(\"피카츄\", 10)\n",
    "tan = Pokemon(\"꼬부기\", 9)\n",
    "\n"
   ]
  },
  {
   "cell_type": "markdown",
   "metadata": {},
   "source": [
    "### class 자식 클래스명 (부모 클래스명) => 클래스의 상속\n",
    "> `class Electric(Pokemon):`은 `Pokemon()`의 모든 메서드를 입력하지 않아도 사용 가능\n"
   ]
  },
  {
   "cell_type": "code",
   "execution_count": null,
   "metadata": {},
   "outputs": [],
   "source": [
    "# class Picachu(Pokemon):\n",
    "#     type = (\"elec\")\n",
    "#     def body_attack(self, enemy):\n",
    "#         enemy.set_hp(-1 * level)\n",
    "        \n",
    "#     def thousand_volt(self, enemy):\n",
    "#         if \"water\" in enemy.type:\n",
    "#             enemy.set_hp(-1.3 * self.level)\n",
    "#             print(\"효과는 굉장했다!\")\n",
    "#         else:\n",
    "#             enemy.set_hp(-1.05 * self.level)\n",
    "            \n",
    "#     def attack(self, enemy):\n",
    "#         c = random.choice([1, 2])\n",
    "#         if c == 1:\n",
    "#             body_attack(enemy)\n",
    "#         else:\n",
    "#             tousand_volt(enemy)\n",
    "            \n",
    "# class Squirtle(Pokemon):\n",
    "#     type = (\"water\")\n",
    "#     def body_attack(self, enemy):\n",
    "#         enemy.set_hp(-0.98 * self.level)\n",
    "        \n",
    "#     def water_attack(self, enemy):\n",
    "#         enemy.set_hp(-1.08 * self.level)\n",
    "    \n"
   ]
  },
  {
   "cell_type": "code",
   "execution_count": null,
   "metadata": {},
   "outputs": [],
   "source": [
    "# Pokemon 기본 설정\n",
    "import random\n",
    "\n",
    "class Pokemon():\n",
    "    def __init__(self, name, level, speed, ptype=0):\n",
    "        self.name = name\n",
    "        self.level = level\n",
    "        self.hp = level * 10\n",
    "        self.speed = speed\n",
    "    \n",
    "    def heal(self):\n",
    "        self.hp += random.choice(range(10, 50))\n",
    "    \n",
    "    def status(self):\n",
    "        print(f\"{self.name}의 현재 레벨은 {self.level}이며, 남은 체력은 {self.hp}입니다.\")\n",
    "        \n",
    "    def status_all(self):\n",
    "        print(f\"이름: {self.name} 속성: {self.type.pop(0) if 0 in self.type else self.type}\\n레벨: {self.level} 체력: {self.hp} 스피드: {self.speed}\")"
   ]
  },
  {
   "cell_type": "code",
   "execution_count": null,
   "metadata": {},
   "outputs": [],
   "source": [
    "# Pokemon 타입별 설정\n",
    "# 노말 = 바위 0.5 고스트 0\n",
    "# 불꽃 = 불꽃 물 바위 드래곤 0.5 풀 얼음 벌레 2\n",
    "# 물 = 물 풀 드래곤 0.5 불꽃 땅 바위 2\n",
    "# 전기 = 물 비행 2 드래곤 전기 풀 0.5 땅 0\n",
    "# 풀 = 불꽃 풀 독 비행 벌레 드래곤 0.5 물 땅 바위 2\n",
    "# 얼음 = 불꽃 물 얼음 0.5 풀 땅 비행 드래곤 2\n",
    "# 격투 = 노말 얼음 바위 2 독 비행 에스퍼 벌레 0.5 고스트 0\n",
    "# 독 = 풀 2 독 땅 바위 고스트 0.5\n",
    "# 땅 = 불꽃 전기 독 바위 2 풀 벌레 0.5 비행 0\n",
    "# 비행 = 풀 격투 벌레 2 전기 바위 0.5\n",
    "# 에스퍼 = 격투 독 2 에스퍼 0.5\n",
    "# 벌레 = 불꽃 격투 독 비행 고스트 0.5 풀 에스퍼 2\n",
    "# 바위 = 불꽃 얼음 비행 벌레 2 격투 땅 0.5\n",
    "# 고스트 = 노말 0 에스퍼 고스트 2\n",
    "# 드래곤 = 드래곤 2"
   ]
  },
  {
   "cell_type": "code",
   "execution_count": null,
   "metadata": {},
   "outputs": [],
   "source": [
    "def battle(A, enemy):\n",
    "    print(f\"{enemy})\n",
    "    \n",
    "          \n",
    "    while me[\"pokemon\"][1].status() and enemy[\"pokemon\"][1].status(): # 둘 다 살아있을 때까지\n",
    "          \n",
    "                   \n",
    "          if .speed > .speed: # 스피드가 빠르면 먼저 공격\n",
    "          \n",
    "          else: # 빠르지 않으면 상대가 먼저 공격\n",
    "    \n",
    "          \n",
    "          \n",
    "          if # 내 포켓몬 체력이 0이 되면 아웃, 상대를 죽였다!\n",
    "          \n",
    "          if # 적 포켓몬 체력이 0이 되면 아웃, 아이고 내 포켓몬!\n",
    "          \n",
    "    \n",
    "# 타입 합치고 공격\n",
    "          \n",
    "# test_dict = { \"pokemon\": {1: test, 2: \"B\"} }\n",
    "\n",
    "# my_poke = test_dict[\"pokemon\"][1]\n",
    "\n",
    "# my_poke.type += [my_poke.ptype]\n",
    "\n",
    "# test.status_all()\n",
    "\n",
    "# print(my_poke.ptype)\n",
    "# print(my_poke.type)"
   ]
  }
 ],
 "metadata": {
  "kernelspec": {
   "display_name": "Python 3",
   "language": "python",
   "name": "python3"
  },
  "language_info": {
   "codemirror_mode": {
    "name": "ipython",
    "version": 3
   },
   "file_extension": ".py",
   "mimetype": "text/x-python",
   "name": "python",
   "nbconvert_exporter": "python",
   "pygments_lexer": "ipython3",
   "version": "3.7.1"
  },
  "latex_envs": {
   "LaTeX_envs_menu_present": true,
   "autoclose": false,
   "autocomplete": true,
   "bibliofile": "biblio.bib",
   "cite_by": "apalike",
   "current_citInitial": 1,
   "eqLabelWithNumbers": true,
   "eqNumInitial": 1,
   "hotkeys": {
    "equation": "Ctrl-E",
    "itemize": "Ctrl-I"
   },
   "labels_anchors": false,
   "latex_user_defs": false,
   "report_style_numbering": false,
   "user_envs_cfg": false
  },
  "toc": {
   "base_numbering": 1,
   "nav_menu": {},
   "number_sections": true,
   "sideBar": true,
   "skip_h1_title": false,
   "title_cell": "Table of Contents",
   "title_sidebar": "Contents",
   "toc_cell": false,
   "toc_position": {},
   "toc_section_display": true,
   "toc_window_display": false
  }
 },
 "nbformat": 4,
 "nbformat_minor": 2
}
