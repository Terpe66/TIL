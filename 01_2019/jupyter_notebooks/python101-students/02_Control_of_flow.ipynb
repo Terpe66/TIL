{
 "cells": [
  {
   "cell_type": "markdown",
   "metadata": {
    "slideshow": {
     "slide_type": "slide"
    }
   },
   "source": [
    "# 조건문\n",
    "\n",
    "지금까지의 코드는 위에서부터 아래로 순차적으로 명령을 수행하는 프로그램을 작성하였다. \n",
    "\n",
    "제어문(Control of Flow)은 크게 반복문과 조건문으로 나눌 수 있고, 이는 순서도(Flow chart로 표현이 가능하다.)\n",
    "\n",
    "\n",
    "<center> \n",
    "    <img src=\"./images/02/if.png\", alt='if flowchart'/>\n",
    "</center>\n"
   ]
  },
  {
   "cell_type": "code",
   "execution_count": null,
   "metadata": {
    "scrolled": true,
    "slideshow": {
     "slide_type": "subslide"
    }
   },
   "outputs": [],
   "source": [
    "# 위의 flow chart로 표현하면 아래와 같다.\n",
    "a = 5\n",
    "\n",
    "if a > 5:\n",
    "    print(\"5 초과\")\n",
    "else:\n",
    "    print(\"5 이하\")\n",
    "    \n",
    "print(a)"
   ]
  },
  {
   "cell_type": "markdown",
   "metadata": {
    "slideshow": {
     "slide_type": "slide"
    }
   },
   "source": [
    "## 조건문 문법\n",
    "\n",
    "1. `if` 문은 반드시 일정한 참/거짓을 판단할 수 있는 `조건식`과 함께 사용이 되어야한다.\n",
    "`if <조건식>:`\n",
    "\n",
    "2-1. `<조건식>`이 참인 경우 `:` 이후의 문장을 수행한다.\n",
    "\n",
    "2-2. `<조건식>`이 거짓인 경우 `else:` 이후의 문장을 수행한다.\n",
    "\n",
    "* 이때 반드시 **들여쓰기를** 유의해야한다. \n",
    "파이썬에서는 코드 블록을 자바나 C언어의 `{}`와 달리 `들여쓰기`로 판단하기 때문이다.\n",
    "* 앞으로 우리는 `PEP-8`에서 권장하는 `4spaces`를 사용할 것이다.\n"
   ]
  },
  {
   "cell_type": "markdown",
   "metadata": {},
   "source": [
    "<center>\n",
    "    <img src=\"./images/02/if_style.png\", alt=\"if style\"/>\n",
    "</center>"
   ]
  },
  {
   "cell_type": "markdown",
   "metadata": {
    "slideshow": {
     "slide_type": "subslide"
    }
   },
   "source": [
    "<center><strong style=\"font-size: 40px;\">우리는 4spaces를 맞춰서 씁니다!</strong></center>\n",
    "<br>\n",
    "\n",
    "<center>\n",
    "    <img src=\"./images/02/spacetab.png\", alt=\"[space vs tab]\"/>\n",
    "</center>    \n",
    "\n",
    "\n",
    "\n",
    "\n",
    "[출처 : 400,000 GitHub repositories, 1 billion files, 14 terabytes of code: Spaces or Tabs?](https://medium.com/@hoffa/400-000-github-repositories-1-billion-files-14-terabytes-of-code-spaces-or-tabs-7cfe0b5dd7fd)\n"
   ]
  },
  {
   "cell_type": "markdown",
   "metadata": {},
   "source": [
    "### 실습문제1 - 조건문 기초 활용\n",
    "\n",
    "\n",
    "> **조건문을 통해 변수 num의 값과 홀수/짝수 여부를 출력하세요.**\n",
    "\n",
    "---\n",
    "\n",
    "```\n",
    "예시 출력)\n",
    "3\n",
    "홀수입니다.\n",
    "```"
   ]
  },
  {
   "cell_type": "code",
   "execution_count": null,
   "metadata": {
    "slideshow": {
     "slide_type": "subslide"
    }
   },
   "outputs": [],
   "source": [
    "# 실습!\n",
    "# 보통 사용자 입력은 user_input = input() 식으로 받는 경우가 많음. input()만 쓰면 저장이 안 된 상태.\n",
    "# 무조건 str로 저장되기 때문에 아래처럼 int로 정수화 시켜줌\n",
    "num = int(input(\"점수를 입력하세요 : \"))\n",
    "# 아래에 코드를 작성하세요.\n",
    "\n",
    "if num % 2 == 1:\n",
    "    print(\"입력한 숫자는 홀수입니다.\")\n",
    "else:\n",
    "    print(\"입력한 숫자는 짝수입니다.\")"
   ]
  },
  {
   "cell_type": "markdown",
   "metadata": {},
   "source": [
    "### 실습문제 2\n",
    "> 아래 코드의 출력 결과를 예상해보세요"
   ]
  },
  {
   "cell_type": "code",
   "execution_count": null,
   "metadata": {},
   "outputs": [],
   "source": [
    "if True:\n",
    "    if False:\n",
    "        print(1)\n",
    "        print(2)\n",
    "    else:\n",
    "        print(3)\n",
    "else:\n",
    "    print(4)\n",
    "print(5)\n",
    "\n",
    "# 3 5"
   ]
  },
  {
   "cell_type": "markdown",
   "metadata": {},
   "source": [
    "### 실습문제3\n",
    "> 주머니에 5000원이 있다. 택시를 타려면 주머니에 4000원 이상 혹은 카드가 있어야 한다. 이 때 택시를 탈 수 있는지 확인하는 코드를 짜보자"
   ]
  },
  {
   "cell_type": "code",
   "execution_count": null,
   "metadata": {},
   "outputs": [],
   "source": [
    "money = 5000\n",
    "card = False\n",
    "\n",
    "print(\"택시를 타세요.\") if money >= 4000 or card else print(\"뚜벅...뚜벅...\")\n",
    "\n",
    "\n",
    "money = int(input(\"가진 돈을 입력하세요 : \"))\n",
    "card = input(\"카드가 있으면 O, 없으면 X를 입력하세요 : \")\n",
    "\n",
    "if money >= 4000 or card == \"O\" or card == \"o\":\n",
    "    print(\"택시를 타세요.\")\n",
    "else:\n",
    "    print(\"뚜벅...뚜벅...\")"
   ]
  },
  {
   "cell_type": "code",
   "execution_count": null,
   "metadata": {},
   "outputs": [],
   "source": [
    "money = int(input(\"가진 돈을 입력하세요 : \"))\n",
    "card = input(\"카드가 있으면 O, 없으면 X를 입력하세요 : \")\n",
    "\n",
    "def is_taxi(money, card):\n",
    "    if money >= 4000 or card == \"O\" or card == \"o\":\n",
    "        return \"택시를 타세요.\"\n",
    "    else:\n",
    "        return \"뚜벅...뚜벅...\"\n",
    "    \n",
    "print(is_taxi(money, card))"
   ]
  },
  {
   "cell_type": "markdown",
   "metadata": {
    "slideshow": {
     "slide_type": "slide"
    }
   },
   "source": [
    "## 복수 조건문\n",
    "\n",
    "2개 이상의 조건문을 활용할 경우 `elif <조건식>:`을 활용한다.\n",
    "<center>\n",
    "<img src=\"./images/02/elif.png\", alt=\"elif\">\n",
    "</center>"
   ]
  },
  {
   "cell_type": "markdown",
   "metadata": {
    "slideshow": {
     "slide_type": "subslide"
    }
   },
   "source": [
    "### 실습문제1 - 조건식 2개 이상 활용하기\n",
    "\n",
    "> 조건문을 통해 변수 score에 따른 평점을 출력하세요.\n",
    "\n",
    "|점수|등급|\n",
    "|---|---|\n",
    "|90점 이상|A|\n",
    "|80점 이상|B|\n",
    "|70점 이상|C|\n",
    "|60점 이상|D|\n",
    "|60점 미만|F|\n",
    "\n",
    "--- \n",
    "\n",
    "```\n",
    "예시 출력)\n",
    "B\n",
    "```"
   ]
  },
  {
   "cell_type": "code",
   "execution_count": null,
   "metadata": {
    "slideshow": {
     "slide_type": "-"
    }
   },
   "outputs": [],
   "source": [
    "# 실습!\n",
    "score = int(input(\"점수를 입력하세요 : \"))\n",
    "# 아래에 코드를 작성하세요.\n",
    "\n",
    "if score >= 90:\n",
    "    print(\"A등급입니다.\")\n",
    "elif score >= 80:\n",
    "    print(\"B등급입니다.\")\n",
    "elif score >= 70:\n",
    "    print(\"C등급입니다.\")\n",
    "elif score >= 60:\n",
    "    print(\"D등급입니다.\")\n",
    "else:\n",
    "    print(\"세상에나 사람입니까?\")"
   ]
  },
  {
   "cell_type": "markdown",
   "metadata": {},
   "source": [
    "### 실습문제2\n",
    "> 아래 코드를 출력했을 때 나오는 값은?"
   ]
  },
  {
   "cell_type": "code",
   "execution_count": null,
   "metadata": {},
   "outputs": [],
   "source": [
    "string = \"Life is too short, you need python\"\n",
    "\n",
    "if \"wife\" in string:\n",
    "    print(\"wife\")\n",
    "elif \"python\" in string and \"you\" not in string:\n",
    "    print(\"python\")\n",
    "elif \"shirt\" not in string:\n",
    "    print(\"shirt\")\n",
    "elif \"need\" in string:\n",
    "    print(\"need\")\n",
    "else:\n",
    "    print(\"Nothing...\")"
   ]
  },
  {
   "cell_type": "markdown",
   "metadata": {
    "slideshow": {
     "slide_type": "subslide"
    }
   },
   "source": [
    "### 실습문제3 - 중첩 조건문 활용\n",
    "\n",
    "> **위의 실습문제 2코드를 활용하여 \n",
    "95점 이상이면, \"참잘했어요\"를 함께 출력해주세요**\n",
    "\n",
    "--- \n",
    "\n",
    "```\n",
    "예시 출력)\n",
    "A\n",
    "참잘했어요\n",
    "```"
   ]
  },
  {
   "cell_type": "code",
   "execution_count": null,
   "metadata": {},
   "outputs": [],
   "source": [
    "# 실습!\n",
    "score = 96\n",
    "\n",
    "if score >= 90:\n",
    "    print(\"A등급입니다.\")\n",
    "    if score >= 95:\n",
    "        print(\"참 잘했어요.\")\n",
    "elif score >= 80:\n",
    "    print(\"B등급입니다.\")\n",
    "elif score >= 70:\n",
    "    print(\"C등급입니다.\")\n",
    "elif score >= 60:\n",
    "    print(\"D등급입니다.\")\n",
    "else:\n",
    "    print(\"세상에나 사람입니까?\")"
   ]
  },
  {
   "cell_type": "code",
   "execution_count": null,
   "metadata": {},
   "outputs": [],
   "source": [
    "# FizzBuzz\n",
    "# 3의 배수면, Fizz\n",
    "# 5의 배수면, Buzz\n",
    "# 3, 5의 배수면, FizzBuzz\n",
    "n = int(input(\"숫자를 입력하세요 : \"))\n",
    "for i in range(1, n + 1):\n",
    "    if i % 3 == 0:\n",
    "        if i % 5 == 0:\n",
    "            print(\"FizzBuzz\")\n",
    "        else:\n",
    "            print(\"Fizz\")\n",
    "    elif i % 5 == 0:\n",
    "        print(\"Buzz\")\n",
    "    else:\n",
    "        print(i)\n",
    "\n",
    "# 선생님 답        \n",
    "#for i in range(1, n + 1):\n",
    "#    if i % 15 == 0:\n",
    "#    if i % 3 == 0: and i % 5 == 0:\n",
    "#        print(\"FizzBuzz\")\n",
    "#    elif i % 3 == 0:\n",
    "#        print(\"Fizz\")\n",
    "#    elif i % 5 == 0:\n",
    "#        print(\"Buzz\")\n",
    "#    else:\n",
    "#        print(i)"
   ]
  },
  {
   "cell_type": "markdown",
   "metadata": {},
   "source": [
    "### 실습문제!\n",
    "> 정수 3개가 들어온다. 이 때, 2번째로 큰 정수를 출력하라"
   ]
  },
  {
   "cell_type": "code",
   "execution_count": null,
   "metadata": {},
   "outputs": [],
   "source": [
    "num_1, num_2, num_3 = int(input(\"첫 번째 숫자를 입력하세요 : \")), int(input(\"두 번째 숫자를 입력하세요 : \")), int(input(\"세 번째 숫자를 입력하세요 : \"))\n",
    "num_list = [num_1, num_2, num_3]\n",
    "\n",
    "first = second = third = 0\n",
    "for num in num_list:\n",
    "    if first < num:\n",
    "        second = first\n",
    "        first = num\n",
    "    elif second < num:\n",
    "        second = num\n",
    "    else:\n",
    "        third = num\n",
    "\n",
    "print(second)\n",
    "        \n",
    "\n",
    "\n",
    "\n",
    "\n",
    "# if num_1 > num_2 and num_1 > num_3:\n",
    "#     if num_2 > num_3:\n",
    "#         print(num_2)\n",
    "#     elif num_2 <= num_3:\n",
    "#         print(num_3):\n",
    "# elif num_2 > num_1 and num_2 > num_3:\n",
    "#     if num_1 > num_3 \n"
   ]
  },
  {
   "cell_type": "code",
   "execution_count": null,
   "metadata": {},
   "outputs": [],
   "source": [
    "def second_number(*args):\n",
    "    num_list = list(args)\n",
    "    first = second = third = 0\n",
    "    for num in num_list:\n",
    "        if first < num:\n",
    "            third = second\n",
    "            second = first\n",
    "            first = num\n",
    "        elif second < num:\n",
    "            third = second\n",
    "            second = num\n",
    "        else:\n",
    "            third = num\n",
    "    return second\n",
    "\n",
    "print(second_number(2, 3, 3, 5, 6, 6, 7, 7, 8, 9))\n",
    "print(second_number(0, -1, 1))\n",
    "print(second_number(1, 0, 2))\n",
    "\n",
    "print(second_number(1, 2, 3))\n",
    "print(second_number(-2, -1, 0))"
   ]
  },
  {
   "cell_type": "code",
   "execution_count": null,
   "metadata": {},
   "outputs": [],
   "source": [
    "# 선생님 답\n",
    "a, b, c = 10, 15, 5\n",
    "def second_number1(a, b, c):\n",
    "    if (b <= a <= c) or (c <= a <= b):\n",
    "        return a\n",
    "    elif (a <= b <= c) or (c <= b <= a):\n",
    "        return b\n",
    "    else:\n",
    "        return c\n",
    "\n",
    "print(second_number1(0, -1, 1))\n",
    "print(second_number1(1, 0, 2))\n",
    "\n",
    "print(second_number1(1, 2, 3))\n",
    "print(second_number1(-2, -1, 0))\n",
    "\n",
    "# 반장님 답\n",
    "def second(a, b, c):\n",
    "    if ((b - a) * (c - a)) < 0:\n",
    "        return a\n",
    "    elif ((c - b) * (a - b)) < 0:\n",
    "        return b\n",
    "    else:\n",
    "        return c"
   ]
  },
  {
   "cell_type": "code",
   "execution_count": null,
   "metadata": {},
   "outputs": [],
   "source": [
    "# 지또니\n",
    "\n",
    "def second_number2(a, b, c):\n",
    "    num_list = [a, b, c]\n",
    "    biggest = smallest = num_list[0]\n",
    "    \n",
    "    for num in num_list:\n",
    "        if biggest < num:\n",
    "            biggest = num\n",
    "        elif smallest > num:\n",
    "            smallest = num\n",
    "    \n",
    "    num_list.remove(biggest)\n",
    "    num_list.remove(smallest)\n",
    "    \n",
    "    return num_list[0]\n",
    "\n",
    "second_number2(10, 12, 30)"
   ]
  },
  {
   "cell_type": "markdown",
   "metadata": {},
   "source": [
    "### 실습문제!\n",
    "#### 환율계산\n",
    "> 사용자가 띄어쓰기를 기준으로, (Volume 단위)로 입력한다. 원화로 계산해서 print 해주자."
   ]
  },
  {
   "cell_type": "code",
   "execution_count": null,
   "metadata": {},
   "outputs": [],
   "source": [
    "# input => 100 달러, 300 유로, 200 위안, 1000 엔\n",
    "def currency_calculator(money):\n",
    "    currency = {\n",
    "        \"USD\" : 1167,\n",
    "        \"JPY\" : 10.96,\n",
    "        \"EUR\" : 1268,\n",
    "        \"CNY\" : 171\n",
    "    }\n",
    "    if \" 달러\" in money:\n",
    "        money = money.replace(\" 달러\", \"\")\n",
    "        return str(round(int(money) * currency[\"USD\"], 2)) + \"원\"\n",
    "    elif \" 유로\" in money:\n",
    "        money = money.replace(\" 유로\", \"\")\n",
    "        return str(round(int(money) * currency[\"EUR\"], 2)) + \"원\"\n",
    "    elif \" 위안\" in money:\n",
    "        money = money.replace(\" 위안\", \"\")\n",
    "        return str(round(int(money) * currency[\"CNY\"], 2)) + \"원\"\n",
    "    elif \" 엔\" in money:\n",
    "        money = money.replace(\" 엔\", \"\")\n",
    "        return str(round(int(money) * currency[\"JPY\"], 2)) + \"원\"\n",
    "\n",
    "print(currency_calculator(\"10 엔\"))\n",
    "    \n",
    "\n",
    "# 선생님 답\n",
    "user_input = input(\"volume & unit : \").split(\" \")\n",
    "volume = int(user_input[0])\n",
    "unit = user_input[1]\n",
    "\n",
    "def currency_calculator1(volume, unit):\n",
    "    currency = {\n",
    "        \"USD\" : 1167,\n",
    "        \"JPY\" : 10.96,\n",
    "        \"EUR\" : 1268,\n",
    "        \"CNY\" : 171\n",
    "    }\n",
    "    if unit == \"달러\":\n",
    "        key = \"USD\"\n",
    "    elif unit == \"유로\":\n",
    "        key = \"EUR\"\n",
    "    elif unit == \"위안\":\n",
    "        key = \"CNY\"\n",
    "    elif unit == \"엔\":\n",
    "        key = \"JPY\"\n",
    "    else:\n",
    "        error\n",
    "    return round(volume * currency[key], 2)\n",
    "\n",
    "print(currency_calculator1(volume, unit))\n",
    "\n",
    "\n",
    "# 선생님 답 input\n",
    "# .split(x) x에는 내가 나누고 싶은 문자열이 들어가면 됨\n",
    "# string = \"1 0\"\n",
    "# l = string.split(\" \")\n",
    "# a = int(l[0])\n",
    "# b = l[1]\n",
    "# print(type(a), type(b))\n",
    "\n",
    "\n",
    "# 누구누구 답\n",
    "def currency_calculator2(volume, unit):\n",
    "    currency = {\n",
    "        \"USD\" : 1167,\n",
    "        \"JPY\" : 10.96,\n",
    "        \"EUR\" : 1268,\n",
    "        \"CNY\" : 171\n",
    "    }\n",
    "    unit_currency = {\n",
    "        \"달러\" : \"USD\",\n",
    "        \"엔\" : \"JPY\",\n",
    "        \"유로\" : \"EUR\",\n",
    "        \"위안\" : \"CNY\"\n",
    "    }\n",
    "    return round(volume * currency[unit_currency[unit]], 2)\n",
    "\n",
    "\n",
    "print(currency_calculator2(10, \"엔\"))\n",
    "\n",
    "\n",
    "def currency_calculator_input(money):\n",
    "    currency = {\n",
    "        \"USD\" : 1167,\n",
    "        \"JPY\" : 10.96,\n",
    "        \"EUR\" : 1268,\n",
    "        \"CNY\" : 171\n",
    "    }\n",
    "    global global_money\n",
    "    global_money = money\n",
    "    if \"달러\" in money:\n",
    "        global_money = money.replace(\" 달러\", \"\")\n",
    "        return str(round(int(global_money) * currency[\"USD\"], 2)) + \"원\"\n",
    "    elif \"유로\" in money:\n",
    "        global_money = money.replace(\" 유로\", \"\")\n",
    "        return str(round(int(global_money) * currency[\"EUR\"], 2)) + \"원\"\n",
    "    elif \"위안\" in money:\n",
    "        global_money = money.replace(\" 위안\", \"\")\n",
    "        return str(round(int(global_money) * currency[\"CNY\"], 2)) + \"원\"\n",
    "    elif \"엔\" in money:\n",
    "        global_money = money.replace(\" 엔\", \"\")\n",
    "        return str(round(int(global_money) * currency[\"JPY\"], 2)) + \"원\"\n",
    "\n",
    "\n",
    "global_money = input(\"금액을 입력해주세요. cf) \\\"100 달러\\\", \\\"100 유로\\\" : \")\n",
    "print(currency_calculator_input(global_money))"
   ]
  },
  {
   "cell_type": "markdown",
   "metadata": {
    "slideshow": {
     "slide_type": "slide"
    }
   },
   "source": [
    "## 조건 표현식(Conditional Expression)\n",
    "\n",
    "**활용법**\n",
    "\n",
    "```\n",
    "true_value if <조건식> else false_value\n",
    "```\n",
    "    \n",
    "와 같이 표현식을 작성할 수 있다. 이는 보통 다른 언어에서 활용되는 삼항연산자와 동일하다."
   ]
  },
  {
   "cell_type": "code",
   "execution_count": null,
   "metadata": {},
   "outputs": [],
   "source": [
    "num = int(input(\"숫자를 입력하세요 : \"))\n",
    "print(\"3 맞음\") if num == 3 else print(\"3 아님\")\n",
    "#print(num)"
   ]
  },
  {
   "cell_type": "markdown",
   "metadata": {
    "slideshow": {
     "slide_type": "subslide"
    }
   },
   "source": [
    "* 표현식은 보통 조건에 따라 값을 정할 때 많이 활용된다."
   ]
  },
  {
   "cell_type": "code",
   "execution_count": null,
   "metadata": {},
   "outputs": [],
   "source": [
    "# 아래의 코드는 무엇을 위한 코드일까요?\n",
    "num = int(input(\"숫자를 입력하세요 : \"))\n",
    "value = num if num >= 0 else 0\n",
    "print(value)"
   ]
  },
  {
   "cell_type": "code",
   "execution_count": null,
   "metadata": {
    "slideshow": {
     "slide_type": "fragment"
    }
   },
   "outputs": [],
   "source": [
    "# 위의 코드와 동일한 코드입니다.\n",
    "num = int(input(\"숫자를 넣자 : \"))\n",
    "if num >= 0:\n",
    "    value = num\n",
    "else:\n",
    "    value = 0\n",
    "    \n",
    "print(value)"
   ]
  },
  {
   "cell_type": "code",
   "execution_count": null,
   "metadata": {
    "slideshow": {
     "slide_type": "subslide"
    }
   },
   "outputs": [],
   "source": [
    "# 다음의 코드와 동일한 조건 표현식을 작성해보세요.\n",
    "num = 2\n",
    "if num % 2:\n",
    "# 1은 True, 0은 False라서 == 1이 없어도 됨\n",
    "    result = '홀수입니다.'\n",
    "else:\n",
    "    result = '짝수입니다.'\n",
    "print(result)"
   ]
  },
  {
   "cell_type": "code",
   "execution_count": null,
   "metadata": {},
   "outputs": [],
   "source": [
    "# 여기에 코드를 작성하세요.\n",
    "num = 2\n",
    "result = \"홀수입니다.\" if num % 2 else \"짝수입니다.\"\n",
    "print(result)"
   ]
  },
  {
   "cell_type": "markdown",
   "metadata": {
    "slideshow": {
     "slide_type": "slide"
    }
   },
   "source": [
    "# 반복문\n",
    "\n",
    "## `while` 문\n",
    "\n",
    "`while`문은 조건식이 참(True)인 경우 반복적으로 코드를 실행합니다. \n",
    "<br>\n",
    "<br>\n",
    "<center> \n",
    "    <img src=\"./images/02/while.png\", alt=\"while\"/>\n",
    "</center>\n",
    "\n",
    "**while 문은 종료조건을 반드시 설정해주어야 합니다.**"
   ]
  },
  {
   "cell_type": "code",
   "execution_count": null,
   "metadata": {},
   "outputs": [],
   "source": [
    "a = 0\n",
    "while a < 5:\n",
    "    print(a)\n",
    "    a += 1\n",
    "print(\"끝\")"
   ]
  },
  {
   "cell_type": "markdown",
   "metadata": {
    "slideshow": {
     "slide_type": "subslide"
    }
   },
   "source": [
    "<center>\n",
    "    <img src=\"./images/02/while_style.png\", alt=\"\">\n",
    "</center>\n",
    "\n",
    "`while`문 역시 `<조건식>`이후에 `:`이 반드시 필요하며, \n",
    "\n",
    "이후 오는 코드 블록은 `4spaces`로 **들여쓰기**를 해주셔야 합니다."
   ]
  },
  {
   "cell_type": "markdown",
   "metadata": {
    "slideshow": {
     "slide_type": "slide"
    }
   },
   "source": [
    "## `for` 문\n",
    "\n",
    "`for`문은 정해진 범위 내(시퀀스)에서 순차적으로 코드를 실행합니다.\n",
    "\n",
    "<br>\n",
    "<center>\n",
    "    <img src=\"./images/02/loop-for.png\", alt=\"\">\n",
    "</center>"
   ]
  },
  {
   "cell_type": "code",
   "execution_count": null,
   "metadata": {
    "slideshow": {
     "slide_type": "subslide"
    }
   },
   "outputs": [],
   "source": [
    "ss3 = [\"황은석\", \"지상현\", \"조성규\", \"장재영\", \"이지선\"]\n",
    "for ace in ss3:\n",
    "    print(ace)\n",
    "\n",
    "for no in range(10):\n",
    "    print(no)\n",
    "\n",
    "for a in range(5):\n",
    "    print(a)\n",
    "print(\"끝\")"
   ]
  },
  {
   "cell_type": "markdown",
   "metadata": {
    "slideshow": {
     "slide_type": "subslide"
    }
   },
   "source": [
    "<center>\n",
    "    <img src=\"./images/02/for_style.png\", alt=\"for_style\">\n",
    "</center>\n",
    "\n",
    "---\n",
    "```\n",
    "for variable in sequence:\n",
    "    code line1\n",
    "    code line2\n",
    "```\n",
    "\n",
    "`for`문은 `sequence`를 순차적으로 **variable**에 값을 바인딩하며, 코드 블록을 시행합니다."
   ]
  },
  {
   "cell_type": "markdown",
   "metadata": {
    "slideshow": {
     "slide_type": "subslide"
    }
   },
   "source": [
    "![for animation](./images/02/for.gif)"
   ]
  },
  {
   "cell_type": "markdown",
   "metadata": {
    "slideshow": {
     "slide_type": "subslide"
    }
   },
   "source": [
    "###  실습문제\n",
    "\n",
    "> 반복문과 조건문만 활용하여 1~30까지 숫자 중에 홀수만 담긴 리스트를 만드세요\n",
    "\n",
    "---\n",
    "```\n",
    "예시 출력)\n",
    "[1, 3, 5, 7, 9, 11, 13, 15, 17, 19, 21, 23, 25, 27, 29]\n",
    "```"
   ]
  },
  {
   "cell_type": "code",
   "execution_count": null,
   "metadata": {
    "slideshow": {
     "slide_type": "subslide"
    }
   },
   "outputs": [],
   "source": [
    "# 여기에 코드를 작성하세요.\n",
    "\n",
    "select_num = []\n",
    "for num in range(1, 31):\n",
    "    if num % 2:\n",
    "        select_num.append(num)\n",
    "\n",
    "print(select_num)\n",
    "\n",
    "select_num = []\n",
    "for num in range(1, 31):\n",
    "    if num % 2:\n",
    "        select_num += [num]\n",
    "\n",
    "print(select_num)"
   ]
  },
  {
   "cell_type": "code",
   "execution_count": null,
   "metadata": {},
   "outputs": [],
   "source": [
    "# 1부터 100까지 자연수 중, 5의 배수의 총합\n",
    "\n",
    "five_sum = 0\n",
    "\n",
    "for five in range(1, 101):\n",
    "    if five % 5 == 0:\n",
    "        five_sum += five\n",
    "        \n",
    "print(five_sum)"
   ]
  },
  {
   "cell_type": "markdown",
   "metadata": {},
   "source": [
    "### 실습문제\n",
    "#### sigma\n",
    "> 정수 n이 들어오면, 1부터 n까지의 합을 출력하는데, 함수로 만들어라."
   ]
  },
  {
   "cell_type": "code",
   "execution_count": null,
   "metadata": {},
   "outputs": [],
   "source": [
    "# SIGMA\n",
    "input_num = int(input(\"1부터 더할 마지막 숫자를 입력하세요 : \"))\n",
    "def sigma(input_num):\n",
    "    sigma_num = 0\n",
    "    for num in range(1, input_num + 1):\n",
    "        sigma_num += num\n",
    "    return sigma_num\n",
    "\n",
    "print(sigma(input_num))\n",
    "\n",
    "\n",
    "# 선생님 답\n",
    "n = 10\n",
    "total = 0\n",
    "for i in range(1, n + 1):\n",
    "    total += i\n",
    "\n",
    "print(total)\n",
    "print(sum(list(range(1, n + 1))))"
   ]
  },
  {
   "cell_type": "markdown",
   "metadata": {},
   "source": [
    "### 실습문제\n",
    "#### 구구단\n",
    "> `for` 와 `range`로 구구단 출력하기, 몇 단인지 받는 함수 만들어도 됨."
   ]
  },
  {
   "cell_type": "code",
   "execution_count": null,
   "metadata": {},
   "outputs": [],
   "source": [
    "# 띄어쓰기 2칸으로 구분\n",
    "# 1  2  3  4  5  6  7  8  9 식\n",
    "num = int(input(\"몇 단을 보고 싶으냐 : \"))\n",
    "def ninenine(num):\n",
    "    n = 1\n",
    "    for nine in range(1, 10):\n",
    "        if nine < 9:\n",
    "            print(num * nine, end=\"  \")\n",
    "        else:\n",
    "            print(num * nine)\n",
    "    \n",
    "ninenine(num)\n",
    "\n",
    "# 선생님 답\n",
    "for i in range(2, 10):\n",
    "    for j in range(1, 10):\n",
    "        print(i * j, end=\"  \")\n",
    "    print()"
   ]
  },
  {
   "cell_type": "markdown",
   "metadata": {},
   "source": [
    "### 실습문제\n",
    "#### 크리스마스 트리\n",
    "> 입력으로 높이가 들어옵니다. 맨 뒤에 별이 달린 높이만큼 트리 모양으로 출력하세요. print로 끝나는 함수로"
   ]
  },
  {
   "cell_type": "code",
   "execution_count": 2,
   "metadata": {},
   "outputs": [
    {
     "name": "stdout",
     "output_type": "stream",
     "text": [
      "트리의 높이를 입력하세요 : 10\n",
      "         ★\n",
      "         *\n",
      "        ***\n",
      "       *****\n",
      "      *******\n",
      "     *********\n",
      "    ***********\n",
      "   *************\n",
      "  ***************\n",
      " *****************\n",
      "*******************\n",
      "         ★\n",
      "         *\n",
      "        ***\n",
      "       *****\n",
      "      *******\n",
      "     *********\n",
      "    ***********\n",
      "   *************\n",
      "  ***************\n",
      " *****************\n",
      "*******************\n",
      "         *\n",
      "        ***\n",
      "       *****\n",
      "      *******\n",
      "     *********\n",
      "    ***********\n",
      "   *************\n",
      "  ***************\n",
      " *****************\n",
      "*******************\n"
     ]
    }
   ],
   "source": [
    "### h = 3\n",
    "#    ★\n",
    "#    *\n",
    "#   ***\n",
    "#  *****\n",
    "\n",
    "height = int(input(\"트리의 높이를 입력하세요 : \"))\n",
    "\n",
    "# def tree(height):\n",
    "#     print(\"★\")\n",
    "#     for star in range(1, ((height + 1) * 2) - 1, 2):\n",
    "#         print(\" \" * (height), \"*\" * star)\n",
    "        \n",
    "# tree(height)\n",
    "\n",
    "def tree(height):\n",
    "    for star in range(1, height + 2):\n",
    "        if star == 1:\n",
    "            print(\" \" * (height - star) + \"★\")\n",
    "        elif star > 1:\n",
    "            star -= 1\n",
    "            print(\" \" * (height - star) + \"*\" * ((star * 2) - 1))\n",
    "\n",
    "tree(height)\n",
    "\n",
    "def tree(height):\n",
    "    print(\" \" * (height - 1) + \"★\")\n",
    "    for star in range(1, height + 1):\n",
    "        print(\" \" * (height - star) + \"*\" * ((star * 2) - 1))\n",
    "\n",
    "tree(height)\n",
    "\n",
    "# 선생님 답\n",
    "\n",
    "h = 10\n",
    "for i in range(h):\n",
    "    for j in reversed(range(h)):\n",
    "# reversed()는 순서를 뒤집음\n",
    "        if i < j:\n",
    "            print(\" \", end=\"\")\n",
    "        else:\n",
    "            print(\"*\", end=\"\")\n",
    "    for j in range(h):\n",
    "        if i > j:\n",
    "            print(\"*\", end=\"\")\n",
    "    print()\n",
    "\n",
    "print(\" \"* (h - 1) + \"★\")\n",
    "for i in range(h):\n",
    "    print(\" \" * (h - i - 1_ + \"*\" * (i + 1) * 2 - 1))\n",
    "\n",
    "\n",
    "\n",
    "for i in range(10):\n",
    "    for j in range(10):\n",
    "        print(\"*\", end=\" \")\n",
    "    print()\n",
    "    \n",
    "\n",
    "n = 10\n",
    "for i in range(n):\n",
    "    print(\"* \" * 10, end=\" \")\n",
    "    print()"
   ]
  },
  {
   "cell_type": "markdown",
   "metadata": {
    "slideshow": {
     "slide_type": "slide"
    }
   },
   "source": [
    "### index와 함께 `for`문 활용하기\n",
    "\n",
    "`enumerate()`를 활용하면, 추가적인 변수를 활용할 수 있다."
   ]
  },
  {
   "cell_type": "code",
   "execution_count": null,
   "metadata": {},
   "outputs": [],
   "source": [
    "lunch = [\"생선까스\", \"북어해장국\", \"비엔나 소세지\"]\n",
    "for index, menu in enumerate(lunch):\n",
    "    print(index, menu)"
   ]
  },
  {
   "cell_type": "markdown",
   "metadata": {
    "slideshow": {
     "slide_type": "subslide"
    }
   },
   "source": [
    "* `enumerate()`는 [파이썬 표준 라이브러리의 내장함수](https://docs.python.org/ko/3.6/library/functions.html) 중 하나이며, 다음과 같이 구성되어 있다.\n",
    "\n",
    "<center>\n",
    "    <img src=\"./images/02/enumerate.png\", alt=\"enumerate\">\n",
    "</center>"
   ]
  },
  {
   "cell_type": "code",
   "execution_count": null,
   "metadata": {},
   "outputs": [],
   "source": [
    "mates = [\"박준태\", \"박찬미\", \"백지원\", \"송건호\", \"안도건\"]\n",
    "list(enumerate(mates))"
   ]
  },
  {
   "cell_type": "code",
   "execution_count": null,
   "metadata": {},
   "outputs": [],
   "source": [
    "list(enumerate(mates, start = 1))"
   ]
  },
  {
   "cell_type": "markdown",
   "metadata": {
    "slideshow": {
     "slide_type": "subslide"
    }
   },
   "source": [
    "### dictionary 반복문 활용하기\n",
    "\n",
    "기본적으로 dictionary를 `for`문을 시행시키면 다음과 같이 시행됩니다."
   ]
  },
  {
   "cell_type": "code",
   "execution_count": null,
   "metadata": {},
   "outputs": [],
   "source": [
    "classroom = {\"teacher\":\"yu\", \"leader\":\"hwang\", \"CA\":\"kang\"}\n",
    "for role in classroom:\n",
    "    print(role, classroom[role])"
   ]
  },
  {
   "cell_type": "markdown",
   "metadata": {
    "slideshow": {
     "slide_type": "subslide"
    }
   },
   "source": [
    "dictionary의 `key`를 출력함으로써 `value`에도 접근할 수 있기 때문입니다.\n",
    "\n",
    "따라서 dictionary의 value를 출력하기 위해서는 아래와 같이 작성합니다."
   ]
  },
  {
   "cell_type": "code",
   "execution_count": null,
   "metadata": {},
   "outputs": [],
   "source": [
    "for role in classroom:\n",
    "    print(classroom[role])"
   ]
  },
  {
   "cell_type": "markdown",
   "metadata": {
    "slideshow": {
     "slide_type": "subslide"
    }
   },
   "source": [
    "* dictionary에서 `for` 활용하는 4가지 방법\n",
    "\n",
    "```python\n",
    "# 0. dictionary (key 반복)\n",
    "for key in dict:\n",
    "    print(key)\n",
    "\n",
    "# 1. key 반복\n",
    "for key in dict.keys():\n",
    "    print(key)\n",
    "    \n",
    "# 2. value 반복    \n",
    "for val in dict.values():\n",
    "    print(val)\n",
    "\n",
    "# 3. key와 value 반복\n",
    "for key, val in dict.items():\n",
    "    print(key, val)\n",
    "\n",
    "```"
   ]
  },
  {
   "cell_type": "markdown",
   "metadata": {
    "slideshow": {
     "slide_type": "subslide"
    }
   },
   "source": [
    "### 실습문제 \n",
    "\n",
    "> 한번 직접 4가지 반복문을 활용해보고 출력되는 결과를 확인해보세요.\n",
    "\n",
    "```\n",
    "classroom = {\"teacher\": \"Kim\", \"student1\": \"Hong\", \"student2\": \"Kang\"}\n",
    "\n",
    "```"
   ]
  },
  {
   "cell_type": "code",
   "execution_count": null,
   "metadata": {},
   "outputs": [],
   "source": [
    "# 여기에 코드를 작성하세요.\n",
    "classroom = {\"teacher\":\"Kim\", \"student1\":\"hong\", \"student2\":\"Kang\"}\n",
    "\n",
    "for key in classroom:\n",
    "    print(key)\n",
    "    \n",
    "for key in classroom.keys():\n",
    "    print(key)\n",
    "    \n",
    "for value in classroom.values():\n",
    "    print(value)\n",
    "    \n",
    "for key, value in classroom.items():\n",
    "    print(key, value)"
   ]
  },
  {
   "cell_type": "markdown",
   "metadata": {
    "slideshow": {
     "slide_type": "slide"
    }
   },
   "source": [
    "## `break`, `continue`, `else`\n",
    "\n",
    "### `break`\n",
    "\n",
    "`break`문은 반복문을 종료하는 표현입니다. "
   ]
  },
  {
   "cell_type": "code",
   "execution_count": null,
   "metadata": {},
   "outputs": [],
   "source": [
    "for i in range(10):\n",
    "    if i == 6:\n",
    "        break\n",
    "    print(i)"
   ]
  },
  {
   "cell_type": "markdown",
   "metadata": {
    "slideshow": {
     "slide_type": "subslide"
    }
   },
   "source": [
    "#### 실습문제\n",
    "\n",
    "> 조건문과 반복문, break를 통해서 아래의 코드와 동일한 코드를 작성하세요.\n",
    "> \n",
    "> (3이 있을 경우 True를 print하고, 아닐 경우 False를 print 합니다.)\n",
    "\n",
    "\n",
    "```python\n",
    "numbers = [1, 5, 10]\n",
    "print(3 in numbers)\n",
    "```\n",
    "\n",
    "---\n",
    "```\n",
    "예시 출력)\n",
    "False\n",
    "```"
   ]
  },
  {
   "cell_type": "code",
   "execution_count": null,
   "metadata": {},
   "outputs": [],
   "source": [
    "numbers = [1, 5, 10]\n",
    "# 여기에 코드를 작성하세요.\n",
    "\n",
    "result = False\n",
    "for num in numbers:\n",
    "    if num == 3:\n",
    "        result = True\n",
    "        break\n",
    "print(result)"
   ]
  },
  {
   "cell_type": "markdown",
   "metadata": {
    "slideshow": {
     "slide_type": "subslide"
    }
   },
   "source": [
    "### `continue` \n",
    "\n",
    "`continue`문은 continue 이후의 코드를 수행하지 않고 다음 요소를 선택해 반복을 계속 수행합니다."
   ]
  },
  {
   "cell_type": "code",
   "execution_count": null,
   "metadata": {},
   "outputs": [],
   "source": [
    "# continue를 만나면 무조건 다음 회차로 넘어감. if가 아니라 for라 ㅇ관련 있음\n",
    "\n",
    "for i in range(6):\n",
    "    if i % 2 == 0:\n",
    "        continue\n",
    "    print(f\"{i} is odd number\")"
   ]
  },
  {
   "cell_type": "markdown",
   "metadata": {
    "slideshow": {
     "slide_type": "subslide"
    }
   },
   "source": [
    "### `else`\n",
    "\n",
    "`else`문은 끝까지 반복문을 시행한 이후에 실행됩니다.\n",
    "\n",
    "(`break`를 통해 중간에 종료되지 않은 경우만 실행)"
   ]
  },
  {
   "cell_type": "code",
   "execution_count": null,
   "metadata": {},
   "outputs": [],
   "source": [
    "for i in range(3):\n",
    "    if i == 3:\n",
    "        print(f\"{i}에서 break 실행됨\")\n",
    "        break\n",
    "else:\n",
    "    print(\"break 안 걸림!\")"
   ]
  },
  {
   "cell_type": "code",
   "execution_count": null,
   "metadata": {},
   "outputs": [],
   "source": [
    "# 모든 경우를 돌아야 else 부분이 실행됨\n",
    "for i in range(3):\n",
    "    if i == 1:\n",
    "        print(f\"{i}에서 break 실행됨\")\n",
    "        break\n",
    "else:\n",
    "    print(\"break 안 걸림!\")"
   ]
  },
  {
   "cell_type": "markdown",
   "metadata": {},
   "source": [
    "### Problem Set!"
   ]
  },
  {
   "cell_type": "markdown",
   "metadata": {},
   "source": [
    "> `colors = [\"red\", \"green\", \"blue\", \"white\", \"black\", \"gold\"]` 다음 리스트에서 0, 4, 5 index에 있는 요소들을 삭제한 새로운 리스트를 만드세요"
   ]
  },
  {
   "cell_type": "code",
   "execution_count": 48,
   "metadata": {},
   "outputs": [
    {
     "name": "stdout",
     "output_type": "stream",
     "text": [
      "s = ['red', 'green', 'blue', 'white', 'black', 'gold']\n",
      "del = ['green', 'blue', 'white']\n",
      "new = ['green', 'blue', 'white']\n",
      "['green', 'blue', 'white']\n"
     ]
    }
   ],
   "source": [
    "colors = [\"red\", \"green\", \"blue\", \"white\", \"black\", \"gold\"]\n",
    "colors_del = colors[1:4]\n",
    "\n",
    "import copy\n",
    "colors_new = copy.deepcopy(colors)\n",
    "colors_new.remove(colors_new[5])\n",
    "colors_new.remove(colors_new[4])\n",
    "colors_new.remove(colors_new[0])\n",
    "\n",
    "print(\"s = \" + str(colors))\n",
    "print(\"del = \" + str(colors_del))\n",
    "print(\"new = \" + str(colors_new))\n",
    "\n",
    "# 선생님 답 1\n",
    "delete_index = [0, 4, 5]\n",
    "remain_colors = []\n",
    "\n",
    "for index, color in enumerate(colors):\n",
    "    if index not in delete_index:\n",
    "        remain_colors.append(color)\n",
    "        \n",
    "print(remain_colors)\n",
    "\n",
    "# 선생님 답 2\n",
    "remain_colors = []\n",
    "\n",
    "for color in colors:\n",
    "    if colors.index(color) not in (0, 4, 5):\n",
    "        remain_colors.append(color)\n",
    "        \n",
    "print(remain_colors)\n",
    "\n",
    "# 선생님 무식한 답\n",
    "remain_colors = []\n",
    "for color in colors:\n",
    "    if color not in colors[0] and color not in colors[4] and color not in colors[5]:\n",
    "        remain_colors.append(color)\n",
    "        \n",
    "print(remain_colors)"
   ]
  },
  {
   "cell_type": "markdown",
   "metadata": {},
   "source": [
    "#### 달력 출력하기\n",
    "> 1월부터 12월까지 다음과 같은 형태로 달력을 출력하세요\n",
    "```\n",
    "1월\n",
    "일 월 화 수 목 금 토 (1 space)\n",
    "1  2  3  4  5  6  7 (2 space)\n",
    "8  9  10 11 12 13 14 \n",
    "15 16 17 18 19 20 21\n",
    "22 23 24 25 26 27 28\n",
    "29 30 31\n",
    "```"
   ]
  },
  {
   "cell_type": "code",
   "execution_count": 97,
   "metadata": {},
   "outputs": [
    {
     "name": "stdout",
     "output_type": "stream",
     "text": [
      "어차피 1월 1일은 일요일부터 시작하지만 윤년은 4를 입력하세요 : 4\n",
      "1월\n",
      "|일|월|화| 수|목|금|토|\n",
      "| 1| 2| 3| 4| 5| 6| 7|\n",
      "| 8| 9|10|11|12|13|14|\n",
      "|15|16|17|18|19|20|21|\n",
      "|22|23|24|25|26|27|28|\n",
      "|29|30|31|\n",
      "2월\n",
      "|일|월|화| 수|목|금|토|\n",
      "| 1| 2| 3| 4| 5| 6| 7|\n",
      "| 8| 9|10|11|12|13|14|\n",
      "|15|16|17|18|19|20|21|\n",
      "|22|23|24|25|26|27|28|\n",
      "|29|\n",
      "3월\n",
      "|일|월|화| 수|목|금|토|\n",
      "| 1| 2| 3| 4| 5| 6| 7|\n",
      "| 8| 9|10|11|12|13|14|\n",
      "|15|16|17|18|19|20|21|\n",
      "|22|23|24|25|26|27|28|\n",
      "|29|30|31|\n",
      "4월\n",
      "|일|월|화| 수|목|금|토|\n",
      "| 1| 2| 3| 4| 5| 6| 7|\n",
      "| 8| 9|10|11|12|13|14|\n",
      "|15|16|17|18|19|20|21|\n",
      "|22|23|24|25|26|27|28|\n",
      "|29|30|\n",
      "5월\n",
      "|일|월|화| 수|목|금|토|\n",
      "| 1| 2| 3| 4| 5| 6| 7|\n",
      "| 8| 9|10|11|12|13|14|\n",
      "|15|16|17|18|19|20|21|\n",
      "|22|23|24|25|26|27|28|\n",
      "|29|30|31|\n",
      "6월\n",
      "|일|월|화| 수|목|금|토|\n",
      "| 1| 2| 3| 4| 5| 6| 7|\n",
      "| 8| 9|10|11|12|13|14|\n",
      "|15|16|17|18|19|20|21|\n",
      "|22|23|24|25|26|27|28|\n",
      "|29|30|\n",
      "7월\n",
      "|일|월|화| 수|목|금|토|\n",
      "| 1| 2| 3| 4| 5| 6| 7|\n",
      "| 8| 9|10|11|12|13|14|\n",
      "|15|16|17|18|19|20|21|\n",
      "|22|23|24|25|26|27|28|\n",
      "|29|30|31|\n",
      "8월\n",
      "|일|월|화| 수|목|금|토|\n",
      "| 1| 2| 3| 4| 5| 6| 7|\n",
      "| 8| 9|10|11|12|13|14|\n",
      "|15|16|17|18|19|20|21|\n",
      "|22|23|24|25|26|27|28|\n",
      "|29|30|31|\n",
      "9월\n",
      "|일|월|화| 수|목|금|토|\n",
      "| 1| 2| 3| 4| 5| 6| 7|\n",
      "| 8| 9|10|11|12|13|14|\n",
      "|15|16|17|18|19|20|21|\n",
      "|22|23|24|25|26|27|28|\n",
      "|29|30|\n",
      "10월\n",
      "|일|월|화| 수|목|금|토|\n",
      "| 1| 2| 3| 4| 5| 6| 7|\n",
      "| 8| 9|10|11|12|13|14|\n",
      "|15|16|17|18|19|20|21|\n",
      "|22|23|24|25|26|27|28|\n",
      "|29|30|31|\n",
      "11월\n",
      "|일|월|화| 수|목|금|토|\n",
      "| 1| 2| 3| 4| 5| 6| 7|\n",
      "| 8| 9|10|11|12|13|14|\n",
      "|15|16|17|18|19|20|21|\n",
      "|22|23|24|25|26|27|28|\n",
      "|29|30|\n",
      "12월\n",
      "|일|월|화| 수|목|금|토|\n",
      "| 1| 2| 3| 4| 5| 6| 7|\n",
      "| 8| 9|10|11|12|13|14|\n",
      "|15|16|17|18|19|20|21|\n",
      "|22|23|24|25|26|27|28|\n",
      "|29|30|31|\n"
     ]
    }
   ],
   "source": [
    "year = int(input(\"어차피 1월 1일은 일요일부터 시작하지만 윤년은 4를 입력하세요 : \"))\n",
    "Jan = Mar = May = Jul = Aug = Oct = Dec = 31\n",
    "Apr = Jun = Sep = Nov = 30\n",
    "if year == 4:\n",
    "    Feb = 29\n",
    "else:\n",
    "    Feb = 28\n",
    "\n",
    "continue_day = 0\n",
    "\n",
    "for month in range(1, 13):\n",
    "    months = {\n",
    "        1 : Jan, 2 : Feb, 3 : Mar, 4 : Apr,\n",
    "        5 : May, 6 : Jun, 7 : Jul, 8 : Aug,\n",
    "        9 : Sep, 10 : Oct, 11 : Nov, 12 : Dec\n",
    "    }\n",
    "    print(f\"{month}월\")\n",
    "    print(\"|일|월|화| 수|목|금|토|\")\n",
    "#     for week in range(1, 42 - week_select):\n",
    "#         if 0 < week <= months[month] and (week + week_select) % 7 == 0:\n",
    "#             if week < 10:\n",
    "#                 print(f\"| {week}|\")\n",
    "#             elif week < months[month]:\n",
    "#                 print(f\"|{week}|\")\n",
    "#             elif week == months[month]:\n",
    "#                 print(f\"|{week}|\")\n",
    "#                 week_select = (week - months[month])\n",
    "#         elif 0 < week < 10 and (week + week_select) % 7:\n",
    "#             if week == 1:\n",
    "#                 print(\" \" * week_select * 3 + f\"| {week}\", end=\"\")\n",
    "#             else:\n",
    "#                 print(f\"| {week}\", end=\"\")\n",
    "#         elif week < months[month] and week >= 10 and (week + week_select) % 7:\n",
    "#             print(f\"|{week}\", end=\"\")\n",
    "#         elif week == months[month]:\n",
    "#             print(f\"|{week}\", end=\"|\\n\")\n",
    "#         elif week >= months[month]:\n",
    "#             week_select = 7 - (week - months[month])\n",
    "    for day in range(1, 42):\n",
    "        if day == 1:\n",
    "            print(\" \" * continue_day + f\"| {day}\", end=\"\")\n",
    "        elif day < 10 and (day + continue_day) % 7:\n",
    "            print(f\"| {day}\", end=\"\")\n",
    "        elif day < months[month] and (day + continue_day) % 7:\n",
    "            print(f\"|{day}\", end=\"\")\n",
    "        elif day < 10 and (day + continue_day) % 7 == 0:\n",
    "            print(f\"| {day}|\")\n",
    "        elif day <= months[month] and (day + continue_day) % 7 == 0:\n",
    "            print(f\"|{day}|\")\n",
    "        elif day == months[month]:\n",
    "            print(f\"|{day}|\")\n",
    "            \n",
    "        "
   ]
  }
 ],
 "metadata": {
  "celltoolbar": "Slideshow",
  "kernelspec": {
   "display_name": "Python 3",
   "language": "python",
   "name": "python3"
  },
  "language_info": {
   "codemirror_mode": {
    "name": "ipython",
    "version": 3
   },
   "file_extension": ".py",
   "mimetype": "text/x-python",
   "name": "python",
   "nbconvert_exporter": "python",
   "pygments_lexer": "ipython3",
   "version": "3.6.7"
  },
  "toc": {
   "base_numbering": 1,
   "nav_menu": {},
   "number_sections": true,
   "sideBar": true,
   "skip_h1_title": false,
   "title_cell": "Table of Contents",
   "title_sidebar": "Contents",
   "toc_cell": false,
   "toc_position": {},
   "toc_section_display": true,
   "toc_window_display": false
  }
 },
 "nbformat": 4,
 "nbformat_minor": 2
}
