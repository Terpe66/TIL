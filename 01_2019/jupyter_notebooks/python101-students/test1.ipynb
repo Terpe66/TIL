{
 "cells": [
  {
   "cell_type": "markdown",
   "metadata": {
    "slideshow": {
     "slide_type": "slide"
    }
   },
   "source": [
    "# 조건문\n",
    "\n",
    "지금까지의 코드는 위에서부터 아래로 순차적으로 명령을 수행하는 프로그램을 작성하였다. \n",
    "\n",
    "제어문(Control of Flow)은 크게 반복문과 조건문으로 나눌 수 있고, 이는 순서도(Flow chart로 표현이 가능하다.)\n",
    "\n",
    "\n",
    "<center> \n",
    "    <img src=\"./images/02/if.png\", alt='if flowchart'/>\n",
    "</center>\n"
   ]
  },
  {
   "cell_type": "code",
   "execution_count": null,
   "metadata": {
    "scrolled": true,
    "slideshow": {
     "slide_type": "subslide"
    }
   },
   "outputs": [],
   "source": [
    "# 위의 flow chart로 표현하면 아래와 같다.\n",
    "\n",
    "a = 5\n",
    "if a > 5:\n",
    "    print('5초과')\n",
    "else:\n",
    "    print('5이하')\n",
    "\n",
    "print(a)"
   ]
  },
  {
   "cell_type": "markdown",
   "metadata": {
    "slideshow": {
     "slide_type": "slide"
    }
   },
   "source": [
    "## 조건문 문법\n",
    "\n",
    "1. `if` 문은 반드시 일정한 참/거짓을 판단할 수 있는 `조건식`과 함께 사용이 되어야한다.\n",
    "`if <조건식>:`\n",
    "\n",
    "2-1. `<조건식>`이 참인 경우 `:` 이후의 문장을 수행한다.\n",
    "\n",
    "2-2. `<조건식>`이 거짓인 경우 `else:` 이후의 문장을 수행한다.\n",
    "\n",
    "* 이때 반드시 **들여쓰기를** 유의해야한다. \n",
    "파이썬에서는 코드 블록을 자바나 C언어의 `{}`와 달리 `들여쓰기`로 판단하기 때문이다.\n",
    "* 앞으로 우리는 `PEP-8`에서 권장하는 `4spaces`를 사용할 것이다.\n"
   ]
  },
  {
   "cell_type": "markdown",
   "metadata": {},
   "source": [
    "<center>\n",
    "    <img src=\"./images/02/if_style.png\", alt=\"if style\"/>\n",
    "</center>"
   ]
  },
  {
   "cell_type": "markdown",
   "metadata": {
    "slideshow": {
     "slide_type": "subslide"
    }
   },
   "source": [
    "<center><strong style=\"font-size: 40px;\">우리는 4spaces를 맞춰서 씁니다!</strong></center>\n",
    "<br>\n",
    "\n",
    "<center>\n",
    "    <img src=\"./images/02/spacetab.png\", alt=\"[space vs tab]\"/>\n",
    "</center>    \n",
    "\n",
    "\n",
    "\n",
    "\n",
    "[출처 : 400,000 GitHub repositories, 1 billion files, 14 terabytes of code: Spaces or Tabs?](https://medium.com/@hoffa/400-000-github-repositories-1-billion-files-14-terabytes-of-code-spaces-or-tabs-7cfe0b5dd7fd)\n"
   ]
  },
  {
   "cell_type": "markdown",
   "metadata": {},
   "source": [
    "### 실습문제1 - 조건문 기초 활용\n",
    "\n",
    "\n",
    "> **조건문을 통해 변수 num의 값과 홀수/짝수 여부를 출력하세요.**\n",
    "\n",
    "---\n",
    "\n",
    "```\n",
    "예시 출력)\n",
    "3\n",
    "홀수입니다.\n",
    "```"
   ]
  },
  {
   "cell_type": "code",
   "execution_count": null,
   "metadata": {
    "slideshow": {
     "slide_type": "subslide"
    }
   },
   "outputs": [],
   "source": [
    "# 실습!\n",
    "num = int(input(\"점수를 입력하세요 : \"))\n",
    "\n",
    "\"\"\"\n",
    "input() : 사용자 입력을 받도록 만들어줌. -> 입력만 받고 저장은 되지 않는 상태. \n",
    "       -> 입력한 값을 저장 받기 위해 변수를 지정해 줘야 함 ex) a = input()\n",
    "input()받은 값의 기본은 str형태이므로, 숫자처리 해주기 위해서 int로 형변환 해줌\n",
    "\"\"\"\n",
    "\n",
    "# 아래에 코드를 작성하세요.\n",
    "\n",
    "if num % 2 == 1:\n",
    "    print(num, '\\n홀수입니다')\n",
    "else:\n",
    "    print(num, '\\n짝수입니다')"
   ]
  },
  {
   "cell_type": "markdown",
   "metadata": {},
   "source": [
    " ### 실습문제2\n",
    " > 아래 코드의 출력 결과를 예상해보세요"
   ]
  },
  {
   "cell_type": "code",
   "execution_count": null,
   "metadata": {},
   "outputs": [],
   "source": [
    "if True:\n",
    "    if False:\n",
    "        print(1)\n",
    "        print(2)\n",
    "    else:\n",
    "        print(3)\n",
    "else:\n",
    "    print(4)\n",
    "print(5)\n",
    "\n",
    "#alt+enter: 실행하고 바로 새 cell생성 + 포커스가 새 cell로 넘어감\n",
    "#shift+enter:실행하고 포커스가 다음 cell로 넘어감"
   ]
  },
  {
   "cell_type": "markdown",
   "metadata": {},
   "source": [
    "### 실습문제 3\n",
    "> 주머니에 5000원이 있다. 택시를 타려면 주머니에 4000원 이상 혹은 카드가 있어야 한다. 이 때, 택시를 탈 수 있는 지를 확인하는 코드 짜보기"
   ]
  },
  {
   "cell_type": "code",
   "execution_count": null,
   "metadata": {},
   "outputs": [],
   "source": [
    "money = 5000\n",
    "card = True\n",
    "\n",
    "if money >= 4000 or card == True:\n",
    "#if money >= 4000 or card 라고 적어도 됨\n",
    "    print('택시')\n",
    "else:\n",
    "    print('BMW')\n",
    "\n",
    "\n",
    "# 조건표현식? 처럼 풀어보기: print('택시') if money >= 4000 or card else print('BMW')"
   ]
  },
  {
   "cell_type": "code",
   "execution_count": null,
   "metadata": {},
   "outputs": [],
   "source": [
    "#-> 결과값은 True or False\n",
    "\n",
    "def is_taxi(money, card):\n",
    "    if money >= 4000 or card:\n",
    "        return True\n",
    "    else:\n",
    "        return False  \n",
    "    \n",
    "print(is_taxi(0, True))"
   ]
  },
  {
   "cell_type": "markdown",
   "metadata": {
    "slideshow": {
     "slide_type": "slide"
    }
   },
   "source": [
    "## 복수 조건문\n",
    "\n",
    "2개 이상의 조건문을 활용할 경우 `elif <조건식>:`을 활용한다.\n",
    "<center>\n",
    "<img src=\"./images/02/elif.png\", alt=\"elif\">\n",
    "</center>"
   ]
  },
  {
   "cell_type": "markdown",
   "metadata": {
    "slideshow": {
     "slide_type": "subslide"
    }
   },
   "source": [
    "### 실습문제 - 조건식 2개 이상 활용하기\n",
    "\n",
    "> 조건문을 통해 변수 score에 따른 평점을 출력하세요.\n",
    "\n",
    "|점수|등급|\n",
    "|---|---|\n",
    "|90점 이상|A|\n",
    "|80점 이상|B|\n",
    "|70점 이상|C|\n",
    "|60점 이상|D|\n",
    "|60점 미만|F|\n",
    "\n",
    "--- \n",
    "\n",
    "```\n",
    "예시 출력)\n",
    "B\n",
    "```"
   ]
  },
  {
   "cell_type": "code",
   "execution_count": null,
   "metadata": {
    "slideshow": {
     "slide_type": "-"
    }
   },
   "outputs": [],
   "source": [
    "# 실습!\n",
    "score = int(input(\"점수를 입력하세요 : \"))\n",
    "# 아래에 코드를 작성하세요.\n",
    "\n",
    "\n",
    "if score >= 90:\n",
    "    print('A')\n",
    "elif score >= 80:\n",
    "    print('B')\n",
    "#elif 90 > score >= 80: 이라고 써도 똑같은 결과\n",
    "    \n",
    "elif score >= 70:\n",
    "    print('C')\n",
    "elif score >= 60:\n",
    "    print('D')\n",
    "else:\n",
    "    print('F')\n",
    "    "
   ]
  },
  {
   "cell_type": "markdown",
   "metadata": {},
   "source": [
    "### 실습문제 2\n"
   ]
  },
  {
   "cell_type": "code",
   "execution_count": null,
   "metadata": {},
   "outputs": [],
   "source": [
    "string = 'Life is too short, you need python'\n",
    "\n",
    "if 'wife' in string:\n",
    "    print('wife')\n",
    "elif 'python' in string and 'you' not in string:\n",
    "    print('python')\n",
    "elif 'shirt' not in string:\n",
    "    print('shirt')\n",
    "elif 'need' in string:\n",
    "    print('need')\n",
    "else:\n",
    "    print('Nothing..')\n",
    "    \n",
    "#shirt에서 이미 끝났으니까 need는 볼 필요 없음."
   ]
  },
  {
   "cell_type": "markdown",
   "metadata": {
    "slideshow": {
     "slide_type": "subslide"
    }
   },
   "source": [
    "### 실습문제3 - 중첩 조건문 활용\n",
    "\n",
    "> **위의 실습문제 2코드를 활용하여 \n",
    "95점 이상이면, \"참잘했어요\"를 함께 출력해주세요**\n",
    "\n",
    "--- \n",
    "\n",
    "```\n",
    "예시 출력)\n",
    "A\n",
    "참잘했어요\n",
    "```"
   ]
  },
  {
   "cell_type": "code",
   "execution_count": null,
   "metadata": {},
   "outputs": [],
   "source": [
    "# 실습!\n",
    "score = 96\n",
    "\n",
    "if score >= 90:\n",
    "    print('A')\n",
    "    if score >= 95:\n",
    "        print('참잘했어요')\n",
    "elif score >= 80:\n",
    "    print('B')\n",
    "elif score >= 70:\n",
    "    print('C')\n",
    "elif score >= 60:\n",
    "    print('D')\n",
    "else:\n",
    "    print('F')"
   ]
  },
  {
   "cell_type": "code",
   "execution_count": null,
   "metadata": {},
   "outputs": [],
   "source": [
    "#FizzBuzz\n",
    "n = int(input('숫자를 입력 하세요: '))\n",
    "#3의 배수면, Fizz 5의 배수면 Buzz, 3과 5의 배수면 FizzBuzz가 나오게\n",
    "\n",
    "\n",
    "for i in range(1, n + 1):\n",
    "    if i % 15 == 0:\n",
    "        print('FizzBuzz')\n",
    "    # if i % 3 == 0 and i % 5 == 0:\n",
    "    #    print('FizzBuzz')    \n",
    "    \n",
    "    elif i % 3 == 0:\n",
    "        print('Fizz')\n",
    "    elif i % 5 == 0:\n",
    "        print('Buzz')\n",
    "    else:\n",
    "        print(i)\n",
    "\n"
   ]
  },
  {
   "cell_type": "markdown",
   "metadata": {},
   "source": [
    "### 실습문제!\n",
    "#### 두 번째 숫자 구하기\n",
    "> 정수 3개가 들어온다. 이 때, 두 번째로 큰 정수를 출력하라"
   ]
  },
  {
   "cell_type": "code",
   "execution_count": null,
   "metadata": {},
   "outputs": [],
   "source": [
    "def second_number(a, b, c):\n",
    "#def second_number(*args): 도 가능\n",
    "\n",
    "    if a > b > c:\n",
    "        return b\n",
    "    elif a > c > b:\n",
    "        return c\n",
    "    elif b > a > c:\n",
    "        return a\n",
    "    elif b > c > a:\n",
    "        return c\n",
    "    elif c > a > b:\n",
    "        return a\n",
    "    else:\n",
    "        return b\n",
    "\n",
    "    num_list = [a, b, c]\n",
    "    biggest = [0]\n",
    "    smallest = []\n",
    "\n",
    "\n",
    "\n",
    "\"\"\"  \n",
    "    num_list = [a, b, c]\n",
    "    \n",
    "    biggest = num_list[0]\n",
    "    smallest = num_list[0]\n",
    "    \n",
    "    for number in num_list:    \n",
    "        if number > biggest:\n",
    "            biggest = number\n",
    "        elif number < smallest:\n",
    "            smallest = number\n",
    "    \n",
    "    num_list.remove(biggest)\n",
    "    num_list.remove(smallest)\n",
    "    \n",
    "    return num_list[0]\n",
    "    \n",
    "print(second_number(3, 1, 2))\n",
    "끗!\n",
    "\n",
    "\"\"\"      \n",
    "\n",
    "\n",
    "\n",
    "num_list = 10, 15, 5\n",
    "a, b, c = 10, 15, 5\n",
    "print(a, b, c)\n",
    "print(second_number(1,2,3))\n",
    "\n",
    "\n",
    "#선생님 해설 방법1)\n",
    "\n",
    "\"\"\"\n",
    "\n",
    "def second_number(a,b,c):\n",
    "\n",
    "<경우의 수 3가지 >\n",
    "1)a가 middle\n",
    "    if (b <= a and a <= c) or (c <= a and a <= b):\n",
    "        return a\n",
    "    \n",
    "2)b가 middle\n",
    "    elif (a <= b <= c) or (c <= b <= a):\n",
    "        return b\n",
    "\n",
    "3)c가 middle\n",
    "    else:\n",
    "        return c\n",
    "        \n",
    "test case를 여러 가지로 만들어서 trial.\n",
    "\n",
    "print(second_number(0, -1, 1))\n",
    "print(second_number(1, 0, 2))\n",
    "\n",
    "print(second_number(1, 2, 3))\n",
    "print(second_number(-2, -1, 0))\n",
    "\n",
    "print(second_number(1, -1, 0))\n",
    "print(second_number(10, 30, 20))\n",
    "\n",
    "print(second_number(0, 0, 0))\n",
    "print(second_number(0, 1, 1))\n",
    "\"\"\"\n",
    "\n",
    "#선생님 해설 방법2)\n",
    "\n",
    "\"\"\"\n",
    "def second(a, b, c):\n",
    "    if ((b - a) * (c - a)) < 0:\n",
    "        return a\n",
    "    elif ((c - b) * (a - b)) < 0:\n",
    "        return b\n",
    "    else:\n",
    "        return c\n",
    "    \n",
    "\"\"\"\n",
    "\n",
    "#선생님 해설 방법3)\n",
    "\"\"\"\n",
    "def socond_unknown(*numbers):\n",
    "    sort ~~~~~~ \n",
    "    소팅은 나중에 배우자\n",
    "\n",
    "\"\"\" "
   ]
  },
  {
   "cell_type": "markdown",
   "metadata": {},
   "source": [
    "### 실습문제!\n",
    "#### 환율 계산\n",
    "> 사용자가 띄어쓰기를 기준으로, (Volume 단위)로 입력한다. 원화로 계산해서 print해주자."
   ]
  },
  {
   "cell_type": "code",
   "execution_count": null,
   "metadata": {},
   "outputs": [],
   "source": [
    "user_input = input('volume & unit: ').split(' ')\n",
    "volume = int(user_input[0])\n",
    "unit = user_input[1]\n",
    "\n",
    "\n",
    "\"\"\"\n",
    "#input => 100 달러 or 300 유로 or 200 위안 or 1000 엔 으로 들어오면 output으로 얼마인지 찍어주기\n",
    "string = '1 o'\n",
    "L = string.split(' ')\n",
    "#split은 ()안에 있는 값을 기준으로 나눠줌\n",
    "a = int(L[0])\n",
    "b = int(L[1])\n",
    "\"\"\"\n",
    "\n",
    "\n",
    "def currency_cal(money):\n",
    "    currency = {\n",
    "    'USD': 1167,\n",
    "    'JPY': 10.96,\n",
    "    'EUR': 1268,\n",
    "    'CNY': 171\n",
    "}\n",
    "    if '달러' in money:\n",
    "        money = money.replace(\" 달러\",\"\")\n",
    "        return int(money) * currency['USD']\n",
    "    elif '엔' in money:\n",
    "        money = money.replace(\" 엔\",\"\")\n",
    "        return int(money) * currency['JPY']\n",
    "    elif '유로' in money:\n",
    "        money = money.replace(\" 유로\",\"\")\n",
    "        return int(money) * currency['EUR']\n",
    "    else:\n",
    "        return int(money) * currency['CNY']\n",
    "\n",
    "print(currency_cal(volume, unit))\n",
    "currency_cal('100 달러')\n",
    "\n",
    "#선생님 해설\n",
    "\"\"\"\n",
    "\n",
    "def currency_cal(volume, unit):\n",
    "    currency = {\n",
    "    'USD': 1167,\n",
    "    'JPY': 10.96,\n",
    "    'EUR': 1268,\n",
    "    'CNY': 171\n",
    "}\n",
    "\n",
    "\n",
    "    if unit == '달러':\n",
    "        key = 'USD'\n",
    "    elif unit == '엔':\n",
    "        key = 'JPY'\n",
    "    elif unit == '유로':\n",
    "        key = 'EUR'\n",
    "    elif unit == '위안':\n",
    "        key = 'CNY'\n",
    "    else:\n",
    "        print('ㅠㅠ')\n",
    "\n",
    "    return round(volume * currency[key], 2)\n",
    "\n",
    "print(currency_cal(10, '엔'))\n",
    "\"\"\"\n",
    "\n",
    "#선생님 방법2 \n",
    "\"\"\"\n",
    "unit_currency = {\n",
    "    '달러': 'USD',\n",
    "    '엔': 'JPY',\n",
    "    '유로': 'EUR',\n",
    "    '위안': 'CNY'\n",
    "}\n",
    "\n",
    "    return round(volume * currency[unit_currency[unit]], 2)\n",
    "    \n",
    "print(currency_cal(10, '엔'))\n",
    "\n",
    "\"\"\"\n",
    "\n"
   ]
  },
  {
   "cell_type": "markdown",
   "metadata": {
    "slideshow": {
     "slide_type": "slide"
    }
   },
   "source": [
    "## 조건 표현식(Conditional Expression)\n",
    "\n",
    "**활용법**\n",
    "\n",
    "```\n",
    "true_value if <조건식> else false_value\n",
    "```\n",
    "    \n",
    "와 같이 표현식을 작성할 수 있다. 이는 보통 다른 언어에서 활용되는 삼항연산자와 동일하다.\n",
    "\n",
    "if / else 로만 조건을 나눌 수 있을 경우에만 사용할 수 있음. "
   ]
  },
  {
   "cell_type": "code",
   "execution_count": null,
   "metadata": {},
   "outputs": [],
   "source": [
    "num = 3\n",
    "\n",
    "print('3이네') if num == 3 else print('3이 아니네.')\n",
    "\n"
   ]
  },
  {
   "cell_type": "markdown",
   "metadata": {
    "slideshow": {
     "slide_type": "subslide"
    }
   },
   "source": [
    "* 표현식은 보통 조건에 따라 값을 정할 때 많이 활용된다."
   ]
  },
  {
   "cell_type": "code",
   "execution_count": null,
   "metadata": {},
   "outputs": [],
   "source": [
    "# 아래의 코드는 무엇을 위한 코드일까요?\n",
    "num = int(input(\"숫자를 입력하세요 : \"))\n",
    "value = num if num >= 0 else 0\n",
    "#value = (num if num >= 0 else 0 )\n",
    "#조심!!! else 뒤에는 value = 0이라고 적는 거 아님 !!!!\n",
    "print(value)\n"
   ]
  },
  {
   "cell_type": "code",
   "execution_count": null,
   "metadata": {
    "slideshow": {
     "slide_type": "fragment"
    }
   },
   "outputs": [],
   "source": [
    "# 위의 코드와 동일한 코드입니다.\n",
    "num = int(input('숫자를 넣어라!'))\n",
    "if num >= 0:\n",
    "    value = num\n",
    "else:\n",
    "    value = 0\n",
    "print(value)"
   ]
  },
  {
   "cell_type": "code",
   "execution_count": null,
   "metadata": {
    "slideshow": {
     "slide_type": "subslide"
    }
   },
   "outputs": [],
   "source": [
    "# 다음의 코드와 동일한 조건 표현식을 작성해보세요.\n",
    "num = 2\n",
    "if num % 2 == 1:\n",
    "# == 1이 없어도, True = 1, False = 0이므로 실행가능. num % 2 = 0이므로 False라고 인식\n",
    "    result = '홀수입니다.'\n",
    "else:\n",
    "    result = '짝수입니다.'\n",
    "print(result)\n",
    "\n"
   ]
  },
  {
   "cell_type": "code",
   "execution_count": null,
   "metadata": {},
   "outputs": [],
   "source": [
    "# 여기에 코드를 작성하세요.\n",
    "\n",
    "num = 2\n",
    "result = '홀수입니다.' if num % 2 else '짝수입니다.'\n",
    "print(result)"
   ]
  },
  {
   "cell_type": "markdown",
   "metadata": {
    "slideshow": {
     "slide_type": "slide"
    }
   },
   "source": [
    "# 반복문\n",
    "\n",
    "## `while` 문\n",
    "\n",
    "`while`문은 조건식이 참(True)인 경우 반복적으로 코드를 실행합니다. \n",
    "<br>\n",
    "<br>\n",
    "<center> \n",
    "    <img src=\"./images/02/while.png\", alt=\"while\"/>\n",
    "</center>\n",
    "\n",
    "**while 문은 종료조건을 반드시 설정해주어야 합니다.**"
   ]
  },
  {
   "cell_type": "code",
   "execution_count": null,
   "metadata": {},
   "outputs": [],
   "source": [
    "a = 0\n",
    "while a < 5:\n",
    "    print(a)\n",
    "    a += 1\n",
    "print('끝')\n",
   ]
  },
  {
   "cell_type": "markdown",
   "metadata": {
    "slideshow": {
     "slide_type": "subslide"
    }
   },
   "source": [
    "<center>\n",
    "    <img src=\"./images/02/while_style.png\", alt=\"\">\n",
    "</center>\n",
    "\n",
    "`while`문 역시 `<조건식>`이후에 `:`이 반드시 필요하며, \n",
    "\n",
    "이후 오는 코드 블록은 `4spaces`로 **들여쓰기**를 해주셔야 합니다."
   ]
  },
  {
   "cell_type": "markdown",
   "metadata": {
    "slideshow": {
     "slide_type": "slide"
    }
   },
   "source": [
    "## `for` 문\n",
    "\n",
    "`for`문은 정해진 범위 내(시퀀스)에서 순차적으로 코드를 실행합니다.\n",
    "\n",
    "<br>\n",
    "<center>\n",
    "    <img src=\"./images/02/loop-for.png\", alt=\"\">\n",
    "</center>"
   ]
  },
  {
   "cell_type": "code",
   "execution_count": null,
   "metadata": {
    "slideshow": {
     "slide_type": "subslide"
    }
   },
   "outputs": [],
   "source": [
    "ss3 = ['황은석','지상현','조성규','장재영','이지선']\n",
    "\n",
    "for ace in ss3:\n",
    "    print(ace)\n",
    "    \n",
    "    \n",
    "for num in range(10):\n",
    "    print(num)\n",
    "print('---', num)\n",
    "#print를 for문 밖에서 사용하면, for문이 다 돌고 나서, 맨 마지막 값이 나오게 됨.\n",
    "#for문 안에서 쓴 변수가 밖에서도 여전히 살아있음. \n",
    "    \n",
    "    \n",
    "for i in range(0,5):\n",
    "    print(i)\n",
    "print('끝')"
   ]
  },
  {
   "cell_type": "markdown",
   "metadata": {
    "slideshow": {
     "slide_type": "subslide"
    }
   },
   "source": [
    "<center>\n",
    "    <img src=\"./images/02/for_style.png\", alt=\"for_style\">\n",
    "</center>\n",
    "\n",
    "---\n",
    "```\n",
    "for variable in sequence:\n",
    "    code line1\n",
    "    code line2\n",
    "```\n",
    "#variable은 변수이므로 아무 이름이나 지어도 됨!!! -> print(변수명)\n",
    "\n",
    "`for`문은 `sequence`를 순차적으로 **variable**에 값을 바인딩하며, 코드 블록을 시행합니다."
   ]
  },
  {
   "cell_type": "markdown",
   "metadata": {
    "slideshow": {
     "slide_type": "subslide"
    }
   },
   "source": [
    "![for animation](./images/02/for.gif)"
   ]
  },
  {
   "cell_type": "markdown",
   "metadata": {
    "slideshow": {
     "slide_type": "subslide"
    }
   },
   "source": [
    "###  실습문제\n",
    "\n",
    "> 반복문과 조건문만 활용하여 1~30까지 숫자 중에 홀수만 담긴 리스트를 만드세요\n",
    "\n",
    "---\n",
    "```\n",
    "예시 출력)\n",
    "[1, 3, 5, 7, 9, 11, 13, 15, 17, 19, 21, 23, 25, 27, 29]\n",
    "```"
   ]
  },
  {
   "cell_type": "code",
   "execution_count": null,
   "metadata": {
    "slideshow": {
     "slide_type": "subslide"
    }
   },
   "outputs": [],
   "source": [
    "# 여기에 코드를 작성하세요.\n",
    "\n",
    "num_list = []\n",
    "\n",
    "for i in range(1,31):\n",
    "    if i % 2 == 1:\n",
    "        num_list = num_list + [i]\n",
    "    #   num_list.append(i)도 가능\n",
    "    #   list에서는 ['a'] + ['b'] = ['a', 'b'] 가능\n",
    "print(num_list)\n",
    "\n",
    "\n",
    "#선생님 해설\n",
    "odds = []\n",
    "for number in range(1,31):\n",
    "    if number % 2 == 1:\n",
    "        odds = odds + [number]"
   ]
  },
  {
   "cell_type": "code",
   "execution_count": null,
   "metadata": {},
   "outputs": [],
   "source": [
    "#1부터 100까지 자연수 중, 5의 배수들의 총합을 구하세요\n",
    "\n",
    "\n",
    "nums = 0\n",
    "for i in range(1, 101):\n",
    "    if i % 5 == 0:\n",
    "        nums += i        \n",
    "print(nums)\n",
    "\n",
    "#sum(list_name)하면 'list 요소'들의 총합을 구할 수 있음. \n",
    "\n",
    "\n",
    "#선생님 해설\n",
    "s = 0\n",
    "for i in range(1, 21):\n",
    "    s += i\n",
    "result = s * 5\n",
    "print(result)\n",
    "\n",
    "\n"
   ]
  },
  {
   "cell_type": "markdown",
   "metadata": {},
   "source": [
    "### 실습문제\n",
    "#### sigma\n",
    "\n",
    "> 정수 n이 들어오면, 1 ~ n 까지의 합을 출력하는데, 함수로!"
   ]
  },
  {
   "cell_type": "code",
   "execution_count": null,
   "metadata": {},
   "outputs": [],
   "source": [
    "#sigma문제\n",
    "\n",
    "#n = int(input('숫자를 입력 하세요: '))\n",
    "\n",
    "def sigma(i):\n",
    "    s = 0\n",
    "    for n in range(1, i + 1):\n",
    "        s += n\n",
    "        result = s\n",
    "    return result\n",
    "\n",
    "print(sigma(3))\n",
    "\n",
    "#선생님 해설\n",
    "# n = 10\n",
    "# total = 0\n",
    "\n",
    "# for i in range(1, n + 1):\n",
    "#     total += i\n",
    "# print(total)\n",
    "\n",
    "# 또는 print(sum(list(total)))\n",
    "\n",
    "\n"
   ]
  },
  {
   "cell_type": "markdown",
   "metadata": {},
   "source": [
    "### 실습문제\n",
    "#### 99단\n",
    "> `for`와 `range`로 구구단 출력하기. 함수 사용 안해도, 출력만 하면 됨"
   ]
  },
  {
   "cell_type": "code",
   "execution_count": null,
   "metadata": {},
   "outputs": [],
   "source": [
    "#1  2  3  4  5  6  7  8  9\n",
    "#2  4  6  8  10  12  14  16  18\n",
    "# 3  ~~~~ 띄어쓰기 2칸씩의 모양으로 출력되게 \n",
    "\n",
    "\"\"\"\n",
    "# 1단만 출력\n",
    "for i in range(1, 10):\n",
    "    num = 1\n",
    "    if i < 9:\n",
    "        print(i * num, end=\"  \")\n",
    "    else:\n",
    "        print(i * num)\n",
    "        num += 1\n",
    "\"\"\"\n",
    "\n",
    "for num in range(1, 10):\n",
    "    for i in range(1, 10):\n",
    "        if i < 9:\n",
    "            print(i * num, end=\"  \")\n",
    "        else:\n",
    "            print(i * num)\n",
    "\n",
    "#선생님 해설\n",
    "for i in range(1, 10):\n",
    "    for j in range(1, 10):\n",
    "        print(i * j, end='  ')\n",
    "    print()\n",
    "\n",
    "\n",
    "##구구단 함수화"
   ]
  },
  {
   "cell_type": "markdown",
   "metadata": {},
   "source": [
    "### 실습문제\n",
    "#### 삼각형\n",
    "> 입력: Height 가 들어옴. 높이만큼 트리 모양으로 출력하세요(함수인데, return없이 print로 끝)"
   ]
  },
  {
   "cell_type": "code",
   "execution_count": null,
   "metadata": {},
   "outputs": [],
   "source": [
    "#예시\n",
    "\"\"\"\n",
    "\n",
    "h = 3\n",
    "# 맨 위에 별찍기\n",
    "    *\n",
    "   ***\n",
    "  *****\n",
    "\n",
    "\"\"\"\n",
    "\n",
    "\n",
    "\n",
    "def star_tree(h):\n",
    "   \n",
    "    \n",
    "    print(' ' * (h - 1) + '★' + ' ' * (h - 1))\n",
    "    for number in range(1, h + 1):      \n",
    "        print(' ' * (h - number) + '*' * (2 * number - 1) + ' ' * (h - number))\n",
    "\n",
    "\n",
    "star_tree(5)\n",
    "\n",
    "#선생님 해설1: 이중 for문\n",
    "\n",
    "h = 10\n",
    "for i in range(h):\n",
    "    for j in reversed(range(h)):\n",
    "#reversed 사용하면 숫자가 거꾸로 내려감. ex)9->1\n",
    "        if i > j:\n",
    "            print(' ', end='')\n",
    "        else: \n",
    "            print('*', end='')\n",
    "    for j in range(h):\n",
    "        if i < j:\n",
    "            print('*', end='')\n",
    "            \n",
    "#선생님 해설2: 단일 for문\n",
    "\n",
    "print(' ' * (h - 1) + '★')\n",
    "for i in range(h):\n",
    "    print(' ' * (h - i - 1) + '*' * ((i + 1) * 2 - 1))\n",
    "\n",
    "    \n",
    "#cf. 정사각형 그리기\n",
    "1) 이중 for문\n",
    "for i in range(10):\n",
    "    for j in range(10):\n",
    "        print('*', end=' ')\n",
    "    print()\n",
    "    \n",
    "print('===========')\n",
    "\n",
    "2)단일 for문\n",
    "n = 10\n",
    "for i in range(n):\n",
    "    print('*' * n, end=' ')\n",
    "    print()\n",
    "\n",
    "\n"
   ]
  },
  {
   "cell_type": "markdown",
   "metadata": {
    "slideshow": {
     "slide_type": "slide"
    }
   },
   "source": [
    "### index와 함께 `for`문 활용하기\n",
    "\n",
    "`enumerate()`를 활용하면, 추가적인 변수를 활용할 수 있다."
   ]
  },
  {
   "cell_type": "code",
   "execution_count": null,
   "metadata": {},
   "outputs": [],
   "source": [
    "lunch = ['생선까스', '북어해장국', '비엔나 소세지']\n",
    "for index, menu in enumerate(lunch):\n",
    "    print(index, menu)\n",
    "#index를 먼저 쓰는게 약속임!!!\n"
   ]
  },
  {
   "cell_type": "markdown",
   "metadata": {
    "slideshow": {
     "slide_type": "subslide"
    }
   },
   "source": [
    "* `enumerate()`는 [파이썬 표준 라이브러리의 내장함수](https://docs.python.org/ko/3.6/library/functions.html) 중 하나이며, 다음과 같이 구성되어 있다.\n",
    "\n",
    "<center>\n",
    "    <img src=\"./images/02/enumerate.png\", alt=\"enumerate\">\n",
    "</center>"
   ]
  },
  {
   "cell_type": "code",
   "execution_count": null,
   "metadata": {},
   "outputs": [],
   "source": [
    "mates = ['박준태', '박찬미','백지원', '송건호','안도건']\n",
    "# enumerate(mates)  -> 16진수로 주소가 찍힘\n",
    "\n",
    "list(enumerate(mates))"
   ]
  },
  {
   "cell_type": "code",
   "execution_count": null,
   "metadata": {},
   "outputs": [],
   "source": [
    "list(enumerate(mates,start=1))\n",
    "#start = ?? , 원래 인덱스번호는 0부터 시작하는데 start를 통해서 시작을 지정할 수 있음. "
   ]
  },
  {
   "cell_type": "markdown",
   "metadata": {
    "slideshow": {
     "slide_type": "subslide"
    }
   },
   "source": [
    "### dictionary 반복문 활용하기\n",
    "\n",
    "기본적으로 dictionary를 `for`문을 시행시키면 다음과 같이 시행됩니다."
   ]
  },
  {
   "cell_type": "code",
   "execution_count": null,
   "metadata": {},
   "outputs": [],
   "source": [
    "classroom = { 'teacher': 'Yu', 'leader': 'Hwang', 'CA': 'Kang' }\n",
    "\n",
    "for role in classroom:\n",
    "    print(role)\n",
    "    \n",
    "#딕셔너리에서 for문을 돌리면 기본으로는 Key가 나옴.\n",
    "\n"
   ]
  },
  {
   "cell_type": "markdown",
   "metadata": {
    "slideshow": {
     "slide_type": "subslide"
    }
   },
   "source": [
    "dictionary의 `key`를 출력함으로써 `value`에도 접근할 수 있기 때문입니다.\n",
    "\n",
    "따라서 dictionary의 value를 출력하기 위해서는 아래와 같이 작성합니다."
   ]
  },
  {
   "cell_type": "code",
   "execution_count": null,
   "metadata": {},
   "outputs": [],
   "source": [
    "for role in classroom:\n",
    "    print(classroom[role])"
   ]
  },
  {
   "cell_type": "markdown",
   "metadata": {
    "slideshow": {
     "slide_type": "subslide"
    }
   },
   "source": [
    "* dictionary에서 `for` 활용하는 4가지 방법\n",
    "#dict자리에는 dict_name을 적어줌\n",
    "\n",
    "```python\n",
    "# 0. dictionary (key 반복)\n",
    "for key in dict:\n",
    "    print(key)\n",
    "\n",
    "# 1. key 반복\n",
    "for key in dict.keys():\n",
    "    print(key)\n",
    "    \n",
    "# 2. value 반복    \n",
    "for val in dict.values():\n",
    "    print(val)\n",
    "\n",
    "# 3. key와 value 반복\n",
    "for key, val in dict.items():\n",
    "    print(key, val)\n",
    "\n",
    "```"
   ]
  },
  {
   "cell_type": "markdown",
   "metadata": {
    "slideshow": {
     "slide_type": "subslide"
    }
   },
   "source": [
    "### 실습문제 \n",
    "\n",
    "> 한번 직접 4가지 반복문을 활용해보고 출력되는 결과를 확인해보세요.\n",
    "\n",
    "```\n",
    "classroom = {\"teacher\": \"Kim\", \"student1\": \"Hong\", \"student2\": \"Kang\"}\n",
    "\n",
    "```"
   ]
  },
  {
   "cell_type": "code",
   "execution_count": null,
   "metadata": {},
   "outputs": [],
   "source": [
    "# 여기에 코드를 작성하세요.\n",
    "classroom = {\"teacher\": \"Kim\", \"student1\": \"Hong\", \"student2\": \"Kang\"}\n",
    "\n",
    "for key in classroom:\n",
    "    print(key)\n",
    "print('---')\n",
    "\n",
    "for key in classroom.keys():\n",
    "    print(key)\n",
    "print('---')\n",
    "\n",
    "for value in classroom.values():\n",
    "    print(value)\n",
    "print('---')\n",
    "\n",
    "for key, value in classroom.items():\n",
    "    print(key, value)\n",
    "#print(f'{key} is {value}')"
   ]
  },
  {
   "cell_type": "markdown",
   "metadata": {
    "slideshow": {
     "slide_type": "slide"
    }
   },
   "source": [
    "## `break`, `continue`, `else`\n",
    "\n",
    "### `break`\n",
    "\n",
    "`break`문은 반복문을 종료하는 표현입니다. "
   ]
  },
  {
   "cell_type": "code",
   "execution_count": null,
   "metadata": {},
   "outputs": [],
   "source": [
    "for i in range(10):\n",
    "    if i == 6:\n",
    "        break\n",
    "    print(i)"
   ]
  },
  {
   "cell_type": "markdown",
   "metadata": {
    "slideshow": {
     "slide_type": "subslide"
    }
   },
   "source": [
    "#### 실습문제\n",
    "\n",
    "> 조건문과 반복문, break를 통해서 아래의 코드와 동일한 코드를 작성하세요.\n",
    "> \n",
    "> (3이 있을 경우 True를 print하고, 아닐 경우 False를 print 합니다.)\n",
    "\n",
    "\n",
    "```python\n",
    "numbers = [1, 5, 10]\n",
    "print(3 in numbers)\n",
    "```\n",
    "\n",
    "---\n",
    "```\n",
    "예시 출력)\n",
    "False\n",
    "```"
   ]
  },
  {
   "cell_type": "code",
   "execution_count": null,
   "metadata": {},
   "outputs": [],
   "source": [
    "numbers = [1, 5, 10]\n",
    "# 여기에 코드를 작성하세요.\n",
    "\n",
    "result = False\n",
    "\n",
    "for number in numbers:\n",
    "    if number == 3:\n",
    "        result = True\n",
    "        break\n",
    "        \n",
    "print(result)"
   ]
  },
  {
   "cell_type": "markdown",
   "metadata": {
    "slideshow": {
     "slide_type": "subslide"
    }
   },
   "source": [
    "### `continue` \n",
    "\n",
    "`continue`문은 continue 이후의 코드를 수행하지 않고 다음 요소를 선택해 반복을 계속 수행합니다."
   ]
  },
  {
   "cell_type": "code",
   "execution_count": null,
   "metadata": {},
   "outputs": [],
   "source": [
    "for i in range(6):\n",
    "    if i % 2 == 0:\n",
    "        continue\n",
    "    print(f'{i} is odd number')\n",
    "    \n",
    "#for문 안에서 continue를 만나면 그 밑에 있는 줄은 읽지 않고, 다시 처음으로 돌아가서 작업을 반복 수행. \n"
   ]
  },
  {
   "cell_type": "markdown",
   "metadata": {
    "slideshow": {
     "slide_type": "subslide"
    }
   },
   "source": [
    "### `else`\n",
    "\n",
    "`else`문은 끝까지 반복문을 시행한 이후에 실행됩니다.\n",
    "\n",
    "(`break`를 통해 중간에 종료되지 않은 경우만 실행)"
   ]
  },
  {
   "cell_type": "code",
   "execution_count": null,
   "metadata": {},
   "outputs": [],
   "source": [
    "for i in range(3):\n",
    "    if i == 3:\n",
    "        print(f'{i}에서 break 실행됨')\n",
    "        break\n",
    "    \n",
    "else:\n",
    "    print(f'break 안걸림!')\n",
    "\n",
    "#for에 걸린 else임"
   ]
  },
  {
   "cell_type": "code",
   "execution_count": null,
   "metadata": {},
   "outputs": [],
   "source": [
    "for i in range(3):\n",
    "    if i == 1:\n",
    "        print(f'{i}에서 break 실행됨')\n",
    "        break\n",
    "else:\n",
    "    print(f'break 안걸림!')"
   ]
  },
  {
   "cell_type": "markdown",
   "metadata": {},
   "source": [
    "### Problem Set!"
   ]
  },
  {
   "cell_type": "markdown",
   "metadata": {},
   "source": [
    "> `colors = ['red', 'green', 'blue', 'white', 'black' ,'gold']` 다음 리스트에서 0, 4, 5 index에 있는 요소들을 삭제한 새로운 리스트를 만드세요."
   ]
  },
  {
   "cell_type": "code",
   "execution_count": null,
   "metadata": {},
   "outputs": [],
   "source": [
    "#green, blue, white만 나오게!\n",
    "\n",
    "new_colors = []\n",
    "\n",
    "colors = ['red', 'green', 'blue', 'white', 'black' ,'gold']\n",
    "\n",
    "new_colors = colors[1:4]  \n",
    "print(new_colors)\n",
    "\n",
    "#선생님 해설\n",
    "#방법1)\n",
    "delete_index = [0, 4, 5]\n",
    "remain_colors = []\n",
    "\n",
    "for index, color in enumerate(colors):\n",
    "    if index not in (0, 4, 5):\n",
    "        remain_colors.append(color)\n",
    "\n",
    "print(remain_colors)\n",
    "\n",
    "#방법2)\n",
    "remain_colors = []\n",
    "\n",
    "for color in colors:\n",
    "    if colors.index(color) not in (0, 4, 5):\n",
    "        remain_colors.append(color)\n",
    "\n",
    "print(remain_colors)\n",
    "\n",
    "#방법3)\n",
    "remain_colors = []\n",
    "for color in colors:\n",
    "    if color not in colors[0] and color not in colors[4] and color not in colors[5]:\n",
    "        remain_colors.append(color)\n",
    "        "
   ]
  },
  {
   "cell_type": "markdown",
   "metadata": {},
   "source": [
    "> 달력 출력하기\n",
    "1월부터 12월까지 다음과 같은 형태로 달력을 출력하세요\n",
    "```\n",
    "1 월\n",
    "일 월 화 수 목 금 토 (1 space)\n",
    "1 2 3 4 5 6 7 (2 space)\n",
    "8 9 10 11 12 13 14\n",
    "15 16 17 18 19 20 21\n",
    "22 23 24 25 26 27 28 \n",
    "29 30 31\n",
    "```"
   ]
  },
  {
   "cell_type": "code",
   "execution_count": null,
   "metadata": {},
   "outputs": [],
   "source": [
    "#2019년 1월 1일은 화요일부터 시작\n",
    "Last_day = 2\n",
    "\n",
    "#월별 끝나는 날을 기준으로 12월까지 다 나오게\n",
    "for m in range(1, 13):\n",
    "    #각 월별 마지막 날이 언제인지 확인하는 부분\n",
    "    if m < 8:\n",
    "        if m % 2 == 1:\n",
    "            Last_date = 31\n",
    "        else: \n",
    "            if m != 2:\n",
    "                Last_date = 30\n",
    "            else:\n",
    "                Last_date = 28\n",
    "    else: \n",
    "        if m % 2 == 1:\n",
    "            Last_date = 30\n",
    "        else:\n",
    "            Last_date = 31\n",
    "\n",
    "\n",
    "    #실제 출력\n",
    "    print(str(m) + '월')\n",
    "    #print(Last_date)\n",
    "    print(\"일  \" + \"월  \" + \"화  \" + \"수  \" + \"목  \" + \"금  \" + \"토  \")\n",
    "    \n",
    "    #1일부터 Last_date까지 확인하는 부분\n",
    "    print(\"    \" * Last_day, end='')\n",
    "    for date in range(1, Last_date + 1):\n",
    "        if date % 7 == ((7 - Last_day) % 7):\n",
    "            if date < 10:\n",
    "                print(\" \" + str(date))\n",
    "            else:\n",
    "                print(date)\n",
    "        else:\n",
    "            if date < 10:\n",
    "                print(\" \" + str(date), end=\"  \")\n",
    "            else:\n",
    "                print(date, end=\"  \")\n",
    "            \n",
    "    #요일 찾는 부분 - 7로 나누는 아이디어   \n",
    "    Last_day = (Last_day + (Last_date % 7)) % 7\n",
    "\n",
    "    if Last_day != 0:\n",
    "        print(\"\")\n",
    "    print(\"\")\n"
    "#2019년 1월 1일은 화요일부터 시작\n",
    "Last_day = 2\n",
    "\n",
    "#월별 끝나는 날을 기준으로 12월까지 다 나오게\n",
    "for m in range(1, 13):\n",
    "#각 월별 마지막 날이 언제인지 확인하는 부분\n",
    "    if m < 8:\n",
    "        if m % 2 == 1:\n",
    "            Last_date = 31\n",
    "        else: \n",
    "            if m != 2:\n",
    "                Last_date = 30\n",
    "            else:\n",
    "                Last_date = 28\n",
    "    else: \n",
    "        if m % 2 == 1:\n",
    "            Last_date = 30\n",
    "        else:\n",
    "            Last_date = 31\n",
    "\n",
    "\n",
    "    #실제 출력\n",
    "    print(str(m) + '월')\n",
    "    #print(Last_date)\n",
    "    print(\"일  \" + \"월  \" + \"화  \" + \"수  \" + \"목  \" + \"금  \" + \"토  \")\n",
    "\n",
    "    #1일부터 Last_date까지 확인하는 부분\n",
    "    print(\"    \" * Last_day, end=\'\')\n",
    "    for date in range(1, Last_date + 1):\n",
    "        if date % 7 == ((7 - Last_day) % 7):\n",
    "            if date < 10:\n",
    "                print(\" \" + str(date))\n",
    "            else:\n",
    "                print(date)\n",
    "        else:\n",
    "            if date < 10:\n",
    "                print(\" \" + str(date), end=\"  \")\n",
    "            else:\n",
    "                print(date, end=\"  \")\n",
    "            \n",
    "    #요일 찾는 부분 - 7로 나누는 아이디어   \n",
    "    Last_day = (Last_day + (Last_date % 7)) % 7\n",
    "\n",
    "    if Last_day != 0:\n",
    "        print(\"\")\n",
    "    print(\"\")\n"
   ]
  }
 ],
 "metadata": {
  "celltoolbar": "Slideshow",
  "kernelspec": {
   "display_name": "Python 3",
   "language": "python",
   "name": "python3"
  },
  "language_info": {
   "codemirror_mode": {
    "name": "ipython",
    "version": 3
   },
   "file_extension": ".py",
   "mimetype": "text/x-python",
   "name": "python",
   "nbconvert_exporter": "python",
   "pygments_lexer": "ipython3",
   "version": "3.6.7"
  },
  "toc": {
   "base_numbering": 1,
   "nav_menu": {},
   "number_sections": true,
   "sideBar": true,
   "skip_h1_title": false,
   "title_cell": "Table of Contents",
   "title_sidebar": "Contents",
   "toc_cell": false,
   "toc_position": {},
   "toc_section_display": true,
   "toc_window_display": false
  }
 },
 "nbformat": 4,
 "nbformat_minor": 2
}