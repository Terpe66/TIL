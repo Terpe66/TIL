{
 "cells": [
  {
   "cell_type": "code",
   "execution_count": 14,
   "metadata": {},
   "outputs": [
    {
     "name": "stdout",
     "output_type": "stream",
     "text": [
      "14, 42의 최대공약수는 14, 최소공배수는 42입니다.\n"
     ]
    }
   ],
   "source": [
    "num1 = 14\n",
    "num2 = 42\n",
    "\n",
    "if num1 >= num2:\n",
    "    for n in range(1, num2 + 1):\n",
    "        if num1 % n == 0:\n",
    "            gcd = n\n",
    "        elif num1 <= num2:\n",
    "            for n in range(1, num1 + 1):\n",
    "                if num2 % n == 0:\n",
    "                    gcd = n\n",
    "\n",
    "lcm = int(num1 * num2 / gcd)\n",
    "                    \n",
    "#최대공약수 gcd\n",
    "#최소공배수 lcm\n",
    "\n",
    "print(f\"{num1}, {num2}의 최대공약수는 {gcd}, 최소공배수는 {lcm}입니다.\")"
   ]
  }
 ],
 "metadata": {
  "kernelspec": {
   "display_name": "Python 3",
   "language": "python",
   "name": "python3"
  },
  "language_info": {
   "codemirror_mode": {
    "name": "ipython",
    "version": 3
   },
   "file_extension": ".py",
   "mimetype": "text/x-python",
   "name": "python",
   "nbconvert_exporter": "python",
   "pygments_lexer": "ipython3",
   "version": "3.6.7"
  }
 },
 "nbformat": 4,
 "nbformat_minor": 2
}
