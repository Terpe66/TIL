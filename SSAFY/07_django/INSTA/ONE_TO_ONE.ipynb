{
 "cells": [
  {
   "cell_type": "markdown",
   "metadata": {},
   "source": [
    "### One To One model\n",
    "\n",
    "### User\n",
    "\n",
    "| id      | email       | password  |\n",
    "| ------- | ----------- | --------- |\n",
    "| PK. INT | CharField   | CharField |\n",
    "| 1       | neo@hphk.kr | 123123    |\n",
    "\n",
    "Profile\n",
    "\n",
    "| id      | user_id      | first_name | last_name |\n",
    "| ------- | ------------ | ---------- | --------- |\n",
    "| PK. INT | FK. User.INT | CharField  | CharField |\n",
    "| 1       | 1            | TaeYoung   | Yu        |\n",
    "\n"
   ]
  },
  {
   "cell_type": "code",
   "execution_count": 1,
   "metadata": {},
   "outputs": [],
   "source": [
    "user = User.objects.create(email=\"neo@hphk.kr\", password=\"123123\")"
   ]
  },
  {
   "cell_type": "code",
   "execution_count": 4,
   "metadata": {},
   "outputs": [],
   "source": [
    "profile = Profile()\n",
    "\n",
    "profile.user = user\n",
    "profile.user_id = user.id\n",
    "\n",
    "profile.first_name = \"TaeYoung\"\n",
    "profile.last_name = \"Yu\"\n",
    "profile.save()"
   ]
  },
  {
   "cell_type": "code",
   "execution_count": 8,
   "metadata": {},
   "outputs": [],
   "source": [
    "user = User.objects.create(email=\"terpe66@gmail.com\", password=\"123123\")"
   ]
  },
  {
   "cell_type": "code",
   "execution_count": 10,
   "metadata": {},
   "outputs": [],
   "source": [
    "profile = Profile()\n",
    "\n",
    "# profile.user = user\n",
    "profile.user_id = user.id\n",
    "\n",
    "profile.first_name = \"WonJin\"\n",
    "profile.last_name = \"Lee\"\n",
    "profile.save()"
   ]
  },
  {
   "cell_type": "code",
   "execution_count": 11,
   "metadata": {},
   "outputs": [
    {
     "data": {
      "text/plain": [
       "<User: 2 : terpe66@gmail.com>"
      ]
     },
     "execution_count": 11,
     "metadata": {},
     "output_type": "execute_result"
    }
   ],
   "source": [
    "profile.user"
   ]
  },
  {
   "cell_type": "code",
   "execution_count": 1,
   "metadata": {},
   "outputs": [],
   "source": [
    "user = User.objects.create(email=\"ant@gmail.com\", password=\"123123\")"
   ]
  },
  {
   "cell_type": "code",
   "execution_count": 2,
   "metadata": {},
   "outputs": [
    {
     "data": {
      "text/plain": [
       "<Profile: ant@gmail.com : ant ant>"
      ]
     },
     "execution_count": 2,
     "metadata": {},
     "output_type": "execute_result"
    }
   ],
   "source": [
    "Profile.objects.create(user=user, first_name=\"ant\", last_name=\"ant\")"
   ]
  },
  {
   "cell_type": "code",
   "execution_count": 3,
   "metadata": {},
   "outputs": [
    {
     "data": {
      "text/plain": [
       "<User: 2 : ddoromi@ssafy.com>"
      ]
     },
     "execution_count": 3,
     "metadata": {},
     "output_type": "execute_result"
    }
   ],
   "source": [
    "User.objects.create(email=\"ddoromi@ssafy.com\", password=\"123123\")"
   ]
  },
  {
   "cell_type": "code",
   "execution_count": 4,
   "metadata": {},
   "outputs": [
    {
     "data": {
      "text/plain": [
       "<Profile: ddoromi@ssafy.com : romi ddo>"
      ]
     },
     "execution_count": 4,
     "metadata": {},
     "output_type": "execute_result"
    }
   ],
   "source": [
    "user = User.objects.get(id=2)\n",
    "Profile.objects.create(\n",
    "first_name = \"ddo\", last_name = \"romi\",\n",
    "user = user)"
   ]
  },
  {
   "cell_type": "code",
   "execution_count": null,
   "metadata": {},
   "outputs": [],
   "source": []
  }
 ],
 "metadata": {
  "kernelspec": {
   "display_name": "Django Shell-Plus",
   "language": "python",
   "name": "django_extensions"
  },
  "language_info": {
   "codemirror_mode": {
    "name": "ipython",
    "version": 3
   },
   "file_extension": ".py",
   "mimetype": "text/x-python",
   "name": "python",
   "nbconvert_exporter": "python",
   "pygments_lexer": "ipython3",
   "version": "3.7.3"
  }
 },
 "nbformat": 4,
 "nbformat_minor": 2
}
