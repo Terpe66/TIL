{
 "cells": [
  {
   "cell_type": "markdown",
   "metadata": {},
   "source": [
    "# Many To Many Relation\n",
    "\n",
    "## Student\n",
    "\n",
    "| id(PK) | name      |\n",
    "| ------ | --------- |\n",
    "| INT    | CharField |\n",
    "\n",
    "\n",
    "\n",
    "## Enrollment\n",
    "\n",
    "| id(PK) | student_id (FK - Student) | lecture_id (FK - Lecture) |\n",
    "| ------ | ------------------------- | ------------------------- |\n",
    "| INT    | INT                       | INT                       |\n",
    "\n",
    "\n",
    "\n",
    "## Lecture\n",
    "\n",
    "| id(PK) | title     |\n",
    "| ------ | --------- |\n",
    "| INT    | CharField |\n",
    "\n"
   ]
  },
  {
   "cell_type": "code",
   "execution_count": 1,
   "metadata": {},
   "outputs": [
    {
     "data": {
      "text/plain": [
       "<Student: 5 : 재영장>"
      ]
     },
     "execution_count": 1,
     "metadata": {},
     "output_type": "execute_result"
    }
   ],
   "source": [
    "# Student.objects.create(name=\"우너\")\n",
    "# Student.objects.create(name=\"지또니\")\n",
    "# Student.objects.create(name=\"상추\")\n",
    "# Student.objects.create(name=\"또로미\")\n",
    "# Student.objects.create(name=\"재영장\")"
   ]
  },
  {
   "cell_type": "code",
   "execution_count": 2,
   "metadata": {},
   "outputs": [
    {
     "data": {
      "text/plain": [
       "<Lecture: 2 : 자바>"
      ]
     },
     "execution_count": 2,
     "metadata": {},
     "output_type": "execute_result"
    }
   ],
   "source": [
    "# Lecture.objects.create(title=\"파이썬\")\n",
    "# Lecture.objects.create(title=\"자바\")"
   ]
  },
  {
   "cell_type": "code",
   "execution_count": 4,
   "metadata": {},
   "outputs": [
    {
     "data": {
      "text/plain": [
       "<Enrollment: 8 : 재영장 파이썬>"
      ]
     },
     "execution_count": 4,
     "metadata": {},
     "output_type": "execute_result"
    }
   ],
   "source": [
    "# Enrollment.objects.create(student_id=1, lecture_id=1)\n",
    "# Enrollment.objects.create(student=Student.objects.get(id=1), lecture=Lecture.objects.get(id=1))\n",
    "# Enrollment.objects.create(student=Student.objects.get(id=1), lecture=Lecture.objects.get(id=2))\n",
    "# Enrollment.objects.create(student=Student.objects.get(id=2), lecture=Lecture.objects.get(id=1))\n",
    "# Enrollment.objects.create(student=Student.objects.get(id=2), lecture=Lecture.objects.get(id=2))\n",
    "# Enrollment.objects.create(student=Student.objects.get(id=3), lecture=Lecture.objects.get(id=1))\n",
    "# Enrollment.objects.create(student=Student.objects.get(id=3), lecture=Lecture.objects.get(id=2))\n",
    "# Enrollment.objects.create(student=Student.objects.get(id=4), lecture=Lecture.objects.get(id=1))\n",
    "# Enrollment.objects.create(student=Student.objects.get(id=5), lecture=Lecture.objects.get(id=1))"
   ]
  },
  {
   "cell_type": "code",
   "execution_count": 12,
   "metadata": {},
   "outputs": [
    {
     "data": {
      "text/plain": [
       "<QuerySet [<Enrollment: 1 : 우너 파이썬>, <Enrollment: 2 : 우너 자바>]>"
      ]
     },
     "execution_count": 12,
     "metadata": {},
     "output_type": "execute_result"
    }
   ],
   "source": [
    "우너 = Student.objects.get(name=\"우너\")\n",
    "우너.enrollment_set.all()"
   ]
  },
  {
   "cell_type": "code",
   "execution_count": 16,
   "metadata": {},
   "outputs": [
    {
     "name": "stdout",
     "output_type": "stream",
     "text": [
      "1 : 우너\n",
      "파이썬\n"
     ]
    }
   ],
   "source": [
    "파이썬 = 우너.enrollment_set.first()\n",
    "print(파이썬.student)\n",
    "print(파이썬.lecture.title)"
   ]
  },
  {
   "cell_type": "code",
   "execution_count": 18,
   "metadata": {},
   "outputs": [],
   "source": [
    "# 수업 여러 개 듣는 사람 1명을 student에 저장합니다\n",
    "for student in Student.objects.all():\n",
    "    if len(student.enrollment_set.all()) > 1:\n",
    "        break"
   ]
  },
  {
   "cell_type": "code",
   "execution_count": 19,
   "metadata": {},
   "outputs": [
    {
     "name": "stdout",
     "output_type": "stream",
     "text": [
      "파이썬\n",
      "자바\n"
     ]
    }
   ],
   "source": [
    "# student의 수업들의 제목을 출력하는 for문을 작성해보세요\n",
    "for enrollment in student.enrollment_set.all():\n",
    "    print(enrollment.lecture.title)"
   ]
  },
  {
   "cell_type": "code",
   "execution_count": 21,
   "metadata": {},
   "outputs": [
    {
     "name": "stdout",
     "output_type": "stream",
     "text": [
      "파이썬\n"
     ]
    }
   ],
   "source": [
    "# student의 수업들 중 제목이 n 글자가 넘는 수업의 제목을 출력하세요\n",
    "for enrollment in student.enrollment_set.all():\n",
    "    if len(enrollment.lecture.title) > 2:\n",
    "        print(enrollment.lecture.title)"
   ]
  },
  {
   "cell_type": "code",
   "execution_count": 1,
   "metadata": {},
   "outputs": [
    {
     "data": {
      "text/plain": [
       "<QuerySet [<Hotel: 1 : Smith-Bryant>, <Hotel: 2 : Hamilton Inc>, <Hotel: 3 : Fischer-Ayala>, <Hotel: 4 : Bailey, Meadows and Weber>, <Hotel: 5 : Boyer, Reed and Hays>, <Hotel: 6 : Jackson, Sutton and Ramos>, <Hotel: 7 : Green-Cooper>, <Hotel: 8 : Cox, Colon and Hardy>, <Hotel: 9 : Barnes, Proctor and Turner>, <Hotel: 10 : Braun and Sons>]>"
      ]
     },
     "execution_count": 1,
     "metadata": {},
     "output_type": "execute_result"
    }
   ],
   "source": [
    "Hotel.objects.all()"
   ]
  },
  {
   "cell_type": "code",
   "execution_count": 2,
   "metadata": {},
   "outputs": [
    {
     "data": {
      "text/plain": [
       "<QuerySet [{'name': 'Daniel Villa'}, {'name': 'Dean Hernandez'}, {'name': 'Debra Mccarthy DDS'}, {'name': 'Diane Mccoy'}, {'name': 'Marissa Burke'}, {'name': 'Paul Ross'}, {'name': 'Rebecca Baird DDS'}, {'name': 'Samantha Moore'}, {'name': 'Timothy Mitchell'}, {'name': 'Tony Stanley'}]>"
      ]
     },
     "execution_count": 2,
     "metadata": {},
     "output_type": "execute_result"
    }
   ],
   "source": [
    "Client.objects.all().values(\"name\")"
   ]
  },
  {
   "cell_type": "code",
   "execution_count": 3,
   "metadata": {},
   "outputs": [],
   "source": [
    "for client in Client.objects.all():\n",
    "    if client.hotels.count() == 0:\n",
    "        break"
   ]
  },
  {
   "cell_type": "code",
   "execution_count": 9,
   "metadata": {},
   "outputs": [],
   "source": [
    "Hotel.dummy(1)"
   ]
  },
  {
   "cell_type": "code",
   "execution_count": 23,
   "metadata": {},
   "outputs": [
    {
     "data": {
      "text/plain": [
       "<QuerySet [<Client: 2 : Dean Hernandez>, <Client: 5 : Diane Mccoy>, <Client: 3 : Tony Stanley>]>"
      ]
     },
     "execution_count": 23,
     "metadata": {},
     "output_type": "execute_result"
    }
   ],
   "source": [
    "new_hotel = Hotel.objects.last()\n",
    "\n",
    "new_hotel.clients.add(Client.objects.get(id=2), Client.objects.get(id=3), Client.objects.get(id=5))\n",
    "\n",
    "new_hotel.clients.all().filter(name__contains=\"h\")"
   ]
  },
  {
   "cell_type": "code",
   "execution_count": 27,
   "metadata": {},
   "outputs": [
    {
     "data": {
      "text/plain": [
       "<Hotel: 11 : Diaz and Sons>"
      ]
     },
     "execution_count": 27,
     "metadata": {},
     "output_type": "execute_result"
    }
   ],
   "source": [
    "Hotel.objects.get(id=new_hotel.id)"
   ]
  },
  {
   "cell_type": "code",
   "execution_count": 4,
   "metadata": {},
   "outputs": [
    {
     "data": {
      "text/plain": [
       "<QuerySet []>"
      ]
     },
     "execution_count": 4,
     "metadata": {},
     "output_type": "execute_result"
    }
   ],
   "source": [
    "client.hotels.all()"
   ]
  },
  {
   "cell_type": "code",
   "execution_count": 5,
   "metadata": {},
   "outputs": [
    {
     "data": {
      "text/plain": [
       "<QuerySet [{'name': 'Braun and Sons'}, {'name': 'Diaz and Sons'}, {'name': 'Hamilton Inc'}, {'name': 'Fischer-Ayala'}, {'name': 'Boyer, Reed and Hays'}]>"
      ]
     },
     "execution_count": 5,
     "metadata": {},
     "output_type": "execute_result"
    }
   ],
   "source": [
    "client = Client.objects.get(id=3)\n",
    "\n",
    "client.hotels.all()\n",
    "client.hotels.add(Hotel.objects.get(id=2), Hotel.objects.get(id=3), Hotel.objects.get(id=5))\n",
    "client.hotels.all().values(\"name\")"
   ]
  }
 ],
 "metadata": {
  "kernelspec": {
   "display_name": "Django Shell-Plus",
   "language": "python",
   "name": "django_extensions"
  },
  "language_info": {
   "codemirror_mode": {
    "name": "ipython",
    "version": 3
   },
   "file_extension": ".py",
   "mimetype": "text/x-python",
   "name": "python",
   "nbconvert_exporter": "python",
   "pygments_lexer": "ipython3",
   "version": "3.7.3"
  }
 },
 "nbformat": 4,
 "nbformat_minor": 2
}
