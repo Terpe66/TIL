{
 "cells": [
  {
   "cell_type": "code",
   "execution_count": null,
   "metadata": {},
   "outputs": [],
   "source": [
    ">>> ringo = Person.objects.create(name=\"Ringo Starr\")\n",
    ">>> paul = Person.objects.create(name=\"Paul McCartney\")\n",
    ">>> beatles = Group.objects.create(name=\"The Beatles\")\n",
    " \n",
    "# 멤버십에 person, group 넣어서 만들면 그 그룹에 person이 들어가서 생긴다.\n",
    ">>> m1 = Membership(person=ringo, group=beatles, \n",
    "...     date_joined=date(1962, 8, 16),\n",
    "...     invite_reason=\"Needed a new drummer.\")\n",
    ">>> m1.save()\n",
    ">>> beatles.members.all()\n",
    "[<Person: Ringo Starr>]\n",
    ">>> ringo.group_set.all()\n",
    "[<Group: The Beatles>]\n",
    " \n",
    ">>> m2 = Membership.objects.create(person=paul, group=beatles,\n",
    "...     date_joined=date(1960, 8, 1),\n",
    "...     invite_reason=\"Wanted to form a band.\")\n",
    ">>> beatles.members.all()\n",
    "[<Person: Ringo Starr>, <Person: Paul McCartney>]\n",
    " \n",
    "# 아래 3개처럼 추가는 안된다.\n",
    ">>> beatles.members.add(john)\n",
    ">>> beatles.members.create(name=\"George Harrison\")\n",
    ">>> beatles.members = [john, paul, ringo, george]\n",
    " \n",
    "# intermediate model로 만들었어도, 쿼리 아래처럼 평범하게 날릴 수 있다.\n",
    ">>> Group.objects.filter(members__name__startswith='Paul')\n",
    "[<Group: The Beatles>]\n",
    " \n",
    "# intermediate model 만들때 attribute로도 쿼리 날릴 수 있다.\n",
    ">>> Person.objects.filter(\n",
    "...     group__name='The Beatles',\n",
    "...     membership__date_joined__gt=date(1961,1,1))"
   ]
  },
  {
   "cell_type": "code",
   "execution_count": 1,
   "metadata": {},
   "outputs": [],
   "source": [
    "d1 = Doctor.objects.create(name = \"JS\")\n",
    "p1 = Patient.objects.create(name = \"WJ\")"
   ]
  },
  {
   "cell_type": "code",
   "execution_count": 2,
   "metadata": {},
   "outputs": [],
   "source": [
    "r1 = Reservation.objects.create(doctor=d1, patient=p1)"
   ]
  },
  {
   "cell_type": "code",
   "execution_count": 1,
   "metadata": {},
   "outputs": [],
   "source": [
    "d1 = Doctor.objects.get(id=1)\n",
    "p1 = Patient.objects.get(id=1)"
   ]
  },
  {
   "cell_type": "code",
   "execution_count": 2,
   "metadata": {},
   "outputs": [
    {
     "data": {
      "text/plain": [
       "<QuerySet [<Reservation: 의사 : JS - 환자 : WJ>]>"
      ]
     },
     "execution_count": 2,
     "metadata": {},
     "output_type": "execute_result"
    }
   ],
   "source": [
    "d1.reservation_set.all()"
   ]
  },
  {
   "cell_type": "code",
   "execution_count": 3,
   "metadata": {},
   "outputs": [
    {
     "data": {
      "text/plain": [
       "<QuerySet [<Reservation: 의사 : JS - 환자 : WJ>]>"
      ]
     },
     "execution_count": 3,
     "metadata": {},
     "output_type": "execute_result"
    }
   ],
   "source": [
    "p1.reservation_set.all()"
   ]
  }
 ],
 "metadata": {
  "kernelspec": {
   "display_name": "Django Shell-Plus",
   "language": "python",
   "name": "django_extensions"
  },
  "language_info": {
   "codemirror_mode": {
    "name": "ipython",
    "version": 3
   },
   "file_extension": ".py",
   "mimetype": "text/x-python",
   "name": "python",
   "nbconvert_exporter": "python",
   "pygments_lexer": "ipython3",
   "version": "3.7.3"
  }
 },
 "nbformat": 4,
 "nbformat_minor": 2
}
