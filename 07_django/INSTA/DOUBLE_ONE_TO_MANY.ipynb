{
 "cells": [
  {
   "cell_type": "markdown",
   "metadata": {},
   "source": [
    "# One To Many model 2\n",
    "\n",
    "## Writer\n",
    "\n",
    "| id(PK)      | name      |\n",
    "| ------- | --------- |\n",
    "| INT | CharField |\n",
    "\n",
    "\n",
    "\n",
    "## Book\n",
    "\n",
    "| id(PK)      | author(FK - Writer)          | title     | description |\n",
    "| ------- | --------------- | --------- | ----------- |\n",
    "| INT |INT | CharField | TextField   |\n",
    "\n",
    "\n",
    "\n",
    "## Chapter\n",
    "\n",
    "| id(PK)      | book_id(FK - Book)       | title     | description |\n",
    "| ------- | ------------- | --------- | ----------- |\n",
    "| INT | INT | CharField | TextField   |\n"
   ]
  },
  {
   "cell_type": "code",
   "execution_count": 1,
   "metadata": {},
   "outputs": [
    {
     "data": {
      "text/plain": [
       "<Writer: 5 : 이선 브라운>"
      ]
     },
     "execution_count": 1,
     "metadata": {},
     "output_type": "execute_result"
    }
   ],
   "source": [
    "# Writer 객체 생성\n",
    "Writer.objects.create(name=\"이선 브라운\")"
   ]
  },
  {
   "cell_type": "code",
   "execution_count": 2,
   "metadata": {},
   "outputs": [
    {
     "data": {
      "text/plain": [
       "<Book: 3. 이선 브라운 : 러닝 자바스크립트>"
      ]
     },
     "execution_count": 2,
     "metadata": {},
     "output_type": "execute_result"
    }
   ],
   "source": [
    "# Book 객체 생성\n",
    "\n",
    "Book.objects.create(\n",
    "    author=Writer.objects.get(name=\"이선 브라운\"),\n",
    "    title=\"러닝 자바스크립트\", \n",
    "    description=\"ES6로 제대로 입문하는 모던 자바스크립트 웹 개발\",\n",
    ")"
   ]
  },
  {
   "cell_type": "code",
   "execution_count": 3,
   "metadata": {},
   "outputs": [
    {
     "data": {
      "text/plain": [
       "<Book: 4. 이선 브라운 : 러닝 파이썬>"
      ]
     },
     "execution_count": 3,
     "metadata": {},
     "output_type": "execute_result"
    }
   ],
   "source": [
    "# Book 객체 생성\n",
    "Book.objects.create(\n",
    "    author=Writer.objects.get(name=\"이선 브라운\"),\n",
    "    title=\"러닝 파이썬\", \n",
    "    description=\"Python37로 제대로 입문하는 파이썬 개발\",\n",
    ")"
   ]
  },
  {
   "cell_type": "code",
   "execution_count": 4,
   "metadata": {},
   "outputs": [
    {
     "data": {
      "text/plain": [
       "<Chapter: 4. 러닝 파이썬>"
      ]
     },
     "execution_count": 4,
     "metadata": {},
     "output_type": "execute_result"
    }
   ],
   "source": [
    "# Chapter 객체 생성\n",
    "Chapter.objects.create(\n",
    "    book=Book.objects.get(id=3),\n",
    "    title=\"First App\",\n",
    "    description=\"시작은 브라우저에서\"\n",
    ")\n",
    "\n",
    "Chapter.objects.create(\n",
    "    book=Book.objects.get(id=4),\n",
    "    title=\"Python 기초 문법\",\n",
    "    description=\"변수, 문자열, 숫자, 참/거짓\"\n",
    ")\n",
    "\n",
    "Chapter.objects.create(\n",
    "    book=Book.objects.get(id=3),\n",
    "    title=\"개발 도구\",\n",
    "    description=\"트랜스컴파일러\"\n",
    ")\n",
    "\n",
    "Chapter.objects.create(\n",
    "    book=Book.objects.get(id=4),\n",
    "    title=\"Python 자료 구조\",\n",
    "    description=\"리스트, 딕셔너리, 튜플, 세트\"\n",
    ")"
   ]
  },
  {
   "cell_type": "code",
   "execution_count": 30,
   "metadata": {
    "scrolled": true
   },
   "outputs": [
    {
     "name": "stdout",
     "output_type": "stream",
     "text": [
      "<QuerySet [<Book: 3. 이선 브라운 : 러닝 자바스크립트>, <Book: 4. 이선 브라운 : 러닝 파이썬>]>\n",
      "<QuerySet [<Book: 3. 이선 브라운 : 러닝 자바스크립트>, <Book: 4. 이선 브라운 : 러닝 파이썬>]>\n"
     ]
    }
   ],
   "source": [
    "# 딕셔너리라는 챕터 설명이 있는 책의 저자가 쓴 모든 책을 내놔\n",
    "find_des = Chapter.objects.filter(description__contains=\"딕셔너리\")\n",
    "#for des in find_des:\n",
    "#    find_author = des.book.author\n",
    "#    print(find_author.book_set.all())\n",
    "#    find_book = Book.objects.filter(author=find_author)\n",
    "#    print(find_book)\n",
    "    \n",
    "find_author = find_des[0].book.author\n",
    "find_author.book_set.all()\n",
    "find_book = Book.objects.filter(author=find_author)"
   ]
  },
  {
   "cell_type": "code",
   "execution_count": 40,
   "metadata": {},
   "outputs": [
    {
     "data": {
      "text/plain": [
       "<QuerySet [<Book: 3. 이선 브라운 : 러닝 자바스크립트>, <Book: 4. 이선 브라운 : 러닝 파이썬>]>"
      ]
     },
     "execution_count": 40,
     "metadata": {},
     "output_type": "execute_result"
    }
   ],
   "source": [
    "Chapter.objects.filter(description__contains=\"딕셔너리\")[0].book.author.book_set.all()"
   ]
  },
  {
   "cell_type": "code",
   "execution_count": null,
   "metadata": {},
   "outputs": [],
   "source": [
    "Chapter.objects.filter(description__contains=\"딕셔너리\").book.author.book_set.all()"
   ]
  },
  {
   "cell_type": "code",
   "execution_count": 35,
   "metadata": {},
   "outputs": [
    {
     "data": {
      "text/plain": [
       "<QuerySet [<Book: 3. 이선 브라운 : 러닝 자바스크립트>, <Book: 4. 이선 브라운 : 러닝 파이썬>]>"
      ]
     },
     "execution_count": 35,
     "metadata": {},
     "output_type": "execute_result"
    }
   ],
   "source": [
    "# 책들 중 DB에 2019년에 등록된 모든 책들 중에서 OFFSET 2, LIMIT 3\n",
    "# OFFSET은 자르고 시작하는 곳, LIMIT은 이후로 몇 개\n",
    "Book.objects.all().filter(created__year=2019)\n",
    "Book.objects.filter(created__year=2019)[2:2+3]"
   ]
  },
  {
   "cell_type": "code",
   "execution_count": 36,
   "metadata": {},
   "outputs": [
    {
     "data": {
      "text/plain": [
       "<QuerySet [<Book: 3. 이선 브라운 : 러닝 자바스크립트>, <Book: 4. 이선 브라운 : 러닝 파이썬>]>"
      ]
     },
     "execution_count": 36,
     "metadata": {},
     "output_type": "execute_result"
    }
   ],
   "source": [
    "# 책들 중 DB에 2018년 이후에 등록된 모든 책들 중에서 OFFSET 2, LIMIT 3\n",
    "Book.objects.filter(created__year__gt=2018)[2:2+3]"
   ]
  },
  {
   "cell_type": "code",
   "execution_count": 39,
   "metadata": {},
   "outputs": [
    {
     "name": "stdout",
     "output_type": "stream",
     "text": [
      "SELECT \"onetomany_book\".\"id\", \"onetomany_book\".\"created\", \"onetomany_book\".\"modified\", \"onetomany_book\".\"author_id\", \"onetomany_book\".\"title\", \"onetomany_book\".\"description\" FROM \"onetomany_book\"  LIMIT 2 OFFSET 1\n"
     ]
    }
   ],
   "source": [
    "print(Book.objects.all()[1:3].query)"
   ]
  },
  {
   "cell_type": "markdown",
   "metadata": {},
   "source": [
    "## Student\n",
    "\n",
    "| id(PK) | name          |\n",
    "| ------ | ------------- |\n",
    "| INT    | CharField(20) |\n",
    "\n",
    "\n",
    "\n",
    "## Message\n",
    "\n",
    "| id(PK) | content       | student(FK) - Student |\n",
    "| ------ | ------------- | --------------------- |\n",
    "| INT    | CharField(30) | INT                   |\n",
    "\n",
    "\n",
    "\n",
    "## Reply\n",
    "\n",
    "| id(PK) | content       | student(FK) - Student | message(FK) - Message |\n",
    "| ------ | ------------- | --------------------- | --------------------- |\n",
    "| INT    | CharField(30) | INT                   | INT                   |\n",
    "\n"
   ]
  },
  {
   "cell_type": "code",
   "execution_count": null,
   "metadata": {},
   "outputs": [],
   "source": []
  }
 ],
 "metadata": {
  "kernelspec": {
   "display_name": "Django Shell-Plus",
   "language": "python",
   "name": "django_extensions"
  },
  "language_info": {
   "codemirror_mode": {
    "name": "ipython",
    "version": 3
   },
   "file_extension": ".py",
   "mimetype": "text/x-python",
   "name": "python",
   "nbconvert_exporter": "python",
   "pygments_lexer": "ipython3",
   "version": "3.7.3"
  }
 },
 "nbformat": 4,
 "nbformat_minor": 2
}
