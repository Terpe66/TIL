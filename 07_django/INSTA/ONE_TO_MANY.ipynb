{
 "cells": [
  {
   "cell_type": "markdown",
   "metadata": {},
   "source": [
    "### One To Many model\n",
    "\n",
    "### Writer\n",
    "\n",
    "| id      | name      |\n",
    "| ------- | --------- |\n",
    "| PK, INT | CharField |\n",
    "\n",
    "\n",
    "\n",
    "### Book\n",
    "\n",
    "| id      | author          | title     | description |\n",
    "| ------- | --------------- | --------- | ----------- |\n",
    "| PK, INT | FK, Writer, INT | CharField | TextField   |\n"
   ]
  },
  {
   "cell_type": "code",
   "execution_count": 55,
   "metadata": {},
   "outputs": [
    {
     "data": {
      "text/plain": [
       "<QuerySet [<Writer: 1 : 박경리>, <Writer: 6 : 박경리>, <Writer: 7 : 박경리>, <Writer: 8 : 박경리>]>"
      ]
     },
     "execution_count": 55,
     "metadata": {},
     "output_type": "execute_result"
    }
   ],
   "source": [
    "Writer.objects.create(name=\"박경리\")\n",
    "\n",
    "# writers = Writer.objects.filter(name=\"박경리\")\n",
    "# 이름이 박경리인 모든 객체를 list로 내보낸다 (정확하게는 QuerySet)\n",
    "parks_writers_family = Writer.objects.filter(name__contains=\"박\")\n",
    "\n",
    "parks_writers_family"
   ]
  },
  {
   "cell_type": "code",
   "execution_count": 3,
   "metadata": {},
   "outputs": [
    {
     "data": {
      "text/plain": [
       "<Book: 1. 박경리 : 토지>"
      ]
     },
     "execution_count": 3,
     "metadata": {},
     "output_type": "execute_result"
    }
   ],
   "source": [
    "Book.objects.create(title=\"토지\", description=\"길고 좋은 이야기\", author=Writer.objects.first())"
   ]
  },
  {
   "cell_type": "code",
   "execution_count": 27,
   "metadata": {},
   "outputs": [
    {
     "data": {
      "text/plain": [
       "<Book: 2. 박경리 : 불신시대>"
      ]
     },
     "execution_count": 27,
     "metadata": {},
     "output_type": "execute_result"
    }
   ],
   "source": [
    "Book.objects.create(title=\"불신시대\", description=\"좋고 긴 이야기\", author=Writer.objects.first())"
   ]
  },
  {
   "cell_type": "code",
   "execution_count": 4,
   "metadata": {},
   "outputs": [],
   "source": [
    "writer = Writer.objects.get(id=1)\n",
    "book1 = Book.objects.first()\n",
    "book2 = Book.objects.last()"
   ]
  },
  {
   "cell_type": "code",
   "execution_count": 5,
   "metadata": {},
   "outputs": [
    {
     "data": {
      "text/plain": [
       "'박경리'"
      ]
     },
     "execution_count": 5,
     "metadata": {},
     "output_type": "execute_result"
    }
   ],
   "source": [
    "writer.name"
   ]
  },
  {
   "cell_type": "code",
   "execution_count": 13,
   "metadata": {},
   "outputs": [
    {
     "data": {
      "text/plain": [
       "'박경리'"
      ]
     },
     "execution_count": 13,
     "metadata": {},
     "output_type": "execute_result"
    }
   ],
   "source": [
    "book1.author.name"
   ]
  },
  {
   "cell_type": "code",
   "execution_count": 12,
   "metadata": {},
   "outputs": [
    {
     "data": {
      "text/plain": [
       "<Writer: 1 : 박경리>"
      ]
     },
     "execution_count": 12,
     "metadata": {},
     "output_type": "execute_result"
    }
   ],
   "source": [
    "book2.author"
   ]
  },
  {
   "cell_type": "markdown",
   "metadata": {},
   "source": [
    "```\n",
    "\"토지\"를 너무 감명 깊게 봐서\n",
    "1) 전체 책에서 \"토지\"라는 제목의 책을 찾는다.\n",
    "2) 이 책의 작가 이름을 찾는다.\n",
    "3) 작가 중에 그 이름을 가진 사람을 찾는다.\n",
    "4) 전체 책에서 그 작가의 책을 전부 가져온다.\n",
    "```"
   ]
  },
  {
   "cell_type": "code",
   "execution_count": 47,
   "metadata": {},
   "outputs": [],
   "source": [
    "book = Book.objects.get(title=\"토지\")\n",
    "writer = book.author.name\n",
    "writers = Writer.objects.get(name=writer)"
   ]
  },
  {
   "cell_type": "code",
   "execution_count": 48,
   "metadata": {},
   "outputs": [
    {
     "name": "stdout",
     "output_type": "stream",
     "text": [
      "1. 박경리 : 토지\n",
      "박경리\n",
      "1 : 박경리\n"
     ]
    }
   ],
   "source": [
    "print(book)\n",
    "print(writer)\n",
    "print(writers)"
   ]
  },
  {
   "cell_type": "code",
   "execution_count": 51,
   "metadata": {},
   "outputs": [
    {
     "data": {
      "text/plain": [
       "<QuerySet [<Book: 1. 박경리 : 토지>, <Book: 2. 박경리 : 불신시대>]>"
      ]
     },
     "execution_count": 51,
     "metadata": {},
     "output_type": "execute_result"
    }
   ],
   "source": [
    "book_list = Book.objects.filter(author=writers)\n",
    "book_list"
   ]
  },
  {
   "cell_type": "code",
   "execution_count": 52,
   "metadata": {},
   "outputs": [
    {
     "data": {
      "text/plain": [
       "<QuerySet [<Book: 1. 박경리 : 토지>, <Book: 2. 박경리 : 불신시대>]>"
      ]
     },
     "execution_count": 52,
     "metadata": {},
     "output_type": "execute_result"
    }
   ],
   "source": [
    "writers.book_set.all()"
   ]
  },
  {
   "cell_type": "code",
   "execution_count": 36,
   "metadata": {},
   "outputs": [
    {
     "data": {
      "text/plain": [
       "<QuerySet [<Book: 1. 박경리 : 토지>, <Book: 2. 박경리 : 불신시대>]>"
      ]
     },
     "execution_count": 36,
     "metadata": {},
     "output_type": "execute_result"
    }
   ],
   "source": [
    "Book.objects.filter(author=Book.objects.get(title=\"토지\").author)"
   ]
  }
 ],
 "metadata": {
  "kernelspec": {
   "display_name": "Django Shell-Plus",
   "language": "python",
   "name": "django_extensions"
  },
  "language_info": {
   "codemirror_mode": {
    "name": "ipython",
    "version": 3
   },
   "file_extension": ".py",
   "mimetype": "text/x-python",
   "name": "python",
   "nbconvert_exporter": "python",
   "pygments_lexer": "ipython3",
   "version": "3.7.3"
  }
 },
 "nbformat": 4,
 "nbformat_minor": 2
}
